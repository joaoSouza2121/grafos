{
  "nbformat": 4,
  "nbformat_minor": 0,
  "metadata": {
    "jupytext": {
      "cell_metadata_filter": "-all",
      "main_language": "python",
      "notebook_metadata_filter": "-all"
    },
    "kernelspec": {
      "display_name": "Python 3",
      "language": "python",
      "name": "python3"
    },
    "language_info": {
      "codemirror_mode": {
        "name": "ipython",
        "version": 3
      },
      "file_extension": ".py",
      "mimetype": "text/x-python",
      "name": "python",
      "nbconvert_exporter": "python",
      "pygments_lexer": "ipython3",
      "version": "3.7.6"
    },
    "colab": {
      "name": "6.caminhos_distancias.ipynb",
      "provenance": [],
      "include_colab_link": true
    }
  },
  "cells": [
    {
      "cell_type": "markdown",
      "metadata": {
        "id": "view-in-github",
        "colab_type": "text"
      },
      "source": [
        "<a href=\"https://colab.research.google.com/github/joaoSouza2121/grafos/blob/main/6_caminhos_distancias.ipynb\" target=\"_parent\"><img src=\"https://colab.research.google.com/assets/colab-badge.svg\" alt=\"Open In Colab\"/></a>"
      ]
    },
    {
      "cell_type": "markdown",
      "metadata": {
        "id": "COnidHXygoTh"
      },
      "source": [
        "#<font color=\"orange\">Estudo da Teoria dos Grafos</font>\n",
        "\n",
        "Caminhos e Distâncias"
      ]
    },
    {
      "cell_type": "code",
      "metadata": {
        "colab": {
          "base_uri": "https://localhost:8080/"
        },
        "id": "8Ja55c-gg04v",
        "outputId": "e97f0497-0dd2-4719-d177-3bf8df2c865d"
      },
      "source": [
        "!sudo apt install build-essential python-dev libxml2 libxml2-dev zlib1g-dev libcairo2-dev\n",
        "!pip install cairocffi python-igraph"
      ],
      "execution_count": 1,
      "outputs": [
        {
          "output_type": "stream",
          "text": [
            "Reading package lists... Done\n",
            "Building dependency tree       \n",
            "Reading state information... Done\n",
            "build-essential is already the newest version (12.4ubuntu1).\n",
            "python-dev is already the newest version (2.7.15~rc1-1).\n",
            "zlib1g-dev is already the newest version (1:1.2.11.dfsg-0ubuntu2).\n",
            "zlib1g-dev set to manually installed.\n",
            "libxml2 is already the newest version (2.9.4+dfsg1-6.1ubuntu1.3).\n",
            "libxml2 set to manually installed.\n",
            "libxml2-dev is already the newest version (2.9.4+dfsg1-6.1ubuntu1.3).\n",
            "The following package was automatically installed and is no longer required:\n",
            "  libnvidia-common-460\n",
            "Use 'sudo apt autoremove' to remove it.\n",
            "The following additional packages will be installed:\n",
            "  libcairo-script-interpreter2 libpixman-1-dev libxcb-shm0-dev\n",
            "Suggested packages:\n",
            "  libcairo2-doc\n",
            "The following NEW packages will be installed:\n",
            "  libcairo-script-interpreter2 libcairo2-dev libpixman-1-dev libxcb-shm0-dev\n",
            "0 upgraded, 4 newly installed, 0 to remove and 34 not upgraded.\n",
            "Need to get 930 kB of archives.\n",
            "After this operation, 3,986 kB of additional disk space will be used.\n",
            "Get:1 http://archive.ubuntu.com/ubuntu bionic-updates/main amd64 libcairo-script-interpreter2 amd64 1.15.10-2ubuntu0.1 [53.5 kB]\n",
            "Get:2 http://archive.ubuntu.com/ubuntu bionic/main amd64 libpixman-1-dev amd64 0.34.0-2 [244 kB]\n",
            "Get:3 http://archive.ubuntu.com/ubuntu bionic-updates/main amd64 libxcb-shm0-dev amd64 1.13-2~ubuntu18.04 [6,684 B]\n",
            "Get:4 http://archive.ubuntu.com/ubuntu bionic-updates/main amd64 libcairo2-dev amd64 1.15.10-2ubuntu0.1 [626 kB]\n",
            "Fetched 930 kB in 0s (8,320 kB/s)\n",
            "debconf: unable to initialize frontend: Dialog\n",
            "debconf: (No usable dialog-like program is installed, so the dialog based frontend cannot be used. at /usr/share/perl5/Debconf/FrontEnd/Dialog.pm line 76, <> line 4.)\n",
            "debconf: falling back to frontend: Readline\n",
            "debconf: unable to initialize frontend: Readline\n",
            "debconf: (This frontend requires a controlling tty.)\n",
            "debconf: falling back to frontend: Teletype\n",
            "dpkg-preconfigure: unable to re-open stdin: \n",
            "Selecting previously unselected package libcairo-script-interpreter2:amd64.\n",
            "(Reading database ... 160706 files and directories currently installed.)\n",
            "Preparing to unpack .../libcairo-script-interpreter2_1.15.10-2ubuntu0.1_amd64.deb ...\n",
            "Unpacking libcairo-script-interpreter2:amd64 (1.15.10-2ubuntu0.1) ...\n",
            "Selecting previously unselected package libpixman-1-dev:amd64.\n",
            "Preparing to unpack .../libpixman-1-dev_0.34.0-2_amd64.deb ...\n",
            "Unpacking libpixman-1-dev:amd64 (0.34.0-2) ...\n",
            "Selecting previously unselected package libxcb-shm0-dev:amd64.\n",
            "Preparing to unpack .../libxcb-shm0-dev_1.13-2~ubuntu18.04_amd64.deb ...\n",
            "Unpacking libxcb-shm0-dev:amd64 (1.13-2~ubuntu18.04) ...\n",
            "Selecting previously unselected package libcairo2-dev:amd64.\n",
            "Preparing to unpack .../libcairo2-dev_1.15.10-2ubuntu0.1_amd64.deb ...\n",
            "Unpacking libcairo2-dev:amd64 (1.15.10-2ubuntu0.1) ...\n",
            "Setting up libcairo-script-interpreter2:amd64 (1.15.10-2ubuntu0.1) ...\n",
            "Setting up libxcb-shm0-dev:amd64 (1.13-2~ubuntu18.04) ...\n",
            "Setting up libpixman-1-dev:amd64 (0.34.0-2) ...\n",
            "Setting up libcairo2-dev:amd64 (1.15.10-2ubuntu0.1) ...\n",
            "Processing triggers for libc-bin (2.27-3ubuntu1.2) ...\n",
            "/sbin/ldconfig.real: /usr/local/lib/python3.7/dist-packages/ideep4py/lib/libmkldnn.so.0 is not a symbolic link\n",
            "\n",
            "Collecting cairocffi\n",
            "\u001b[?25l  Downloading https://files.pythonhosted.org/packages/84/ca/0bffed5116d21251469df200448667e90acaa5131edea869b44a3fbc73d0/cairocffi-1.2.0.tar.gz (70kB)\n",
            "\u001b[K     |████████████████████████████████| 71kB 4.3MB/s \n",
            "\u001b[?25hCollecting python-igraph\n",
            "\u001b[?25l  Downloading https://files.pythonhosted.org/packages/ae/12/1fbdb491d89fad8abb7aca0189978655cfdc984a380b846478f2ccdfdad8/python_igraph-0.9.1-cp37-cp37m-manylinux2010_x86_64.whl (3.2MB)\n",
            "\u001b[K     |████████████████████████████████| 3.2MB 24.2MB/s \n",
            "\u001b[?25hRequirement already satisfied: cffi>=1.1.0 in /usr/local/lib/python3.7/dist-packages (from cairocffi) (1.14.5)\n",
            "Collecting texttable>=1.6.2\n",
            "  Downloading https://files.pythonhosted.org/packages/06/f5/46201c428aebe0eecfa83df66bf3e6caa29659dbac5a56ddfd83cae0d4a4/texttable-1.6.3-py2.py3-none-any.whl\n",
            "Requirement already satisfied: pycparser in /usr/local/lib/python3.7/dist-packages (from cffi>=1.1.0->cairocffi) (2.20)\n",
            "Building wheels for collected packages: cairocffi\n",
            "  Building wheel for cairocffi (setup.py) ... \u001b[?25l\u001b[?25hdone\n",
            "  Created wheel for cairocffi: filename=cairocffi-1.2.0-cp37-none-any.whl size=89548 sha256=8b51428a34deda2eba73a63707727a042ac586820bffc0dcebed0a62074dd496\n",
            "  Stored in directory: /root/.cache/pip/wheels/40/76/48/f1effadceea83b32e7d957dd0f92db4db8b537d7b72b4ef374\n",
            "Successfully built cairocffi\n",
            "Installing collected packages: cairocffi, texttable, python-igraph\n",
            "Successfully installed cairocffi-1.2.0 python-igraph-0.9.1 texttable-1.6.3\n"
          ],
          "name": "stdout"
        }
      ]
    },
    {
      "cell_type": "code",
      "metadata": {
        "id": "_y4qHeyfgmDO"
      },
      "source": [
        "# Importação das bibliotecas\n",
        "from igraph import Graph\n",
        "from igraph import plot"
      ],
      "execution_count": 2,
      "outputs": []
    },
    {
      "cell_type": "code",
      "metadata": {
        "id": "yWip9Cd3gmDR"
      },
      "source": [
        "# Criação de grafo direcionado com pesos entre as arestas\n",
        "grafo = Graph(edges = [(0,2),(0,1),(1,4),(1,5),(2,3),(6,7),(3,7),(4,7),(5,6)],\n",
        "                       directed = True)\n",
        "grafo.vs['label'] = ['A', 'B', 'C', 'D', 'E', 'F', 'G', 'H']\n",
        "grafo.es['weight'] = [2,1,2,1,2,1,3,1]"
      ],
      "execution_count": 3,
      "outputs": []
    },
    {
      "cell_type": "code",
      "metadata": {
        "colab": {
          "base_uri": "https://localhost:8080/",
          "height": 421
        },
        "id": "m_jwXdftgmDS",
        "outputId": "48f3588b-4541-4224-fd26-96863deab535"
      },
      "source": [
        "# Visualização do grafo com os pesos\n",
        "plot(grafo, bbox = (0,0,300,300), edge_label = grafo.es['weight'])"
      ],
      "execution_count": 4,
      "outputs": [
        {
          "output_type": "execute_result",
          "data": {
            "text/plain": [
              "<igraph.drawing.Plot at 0x7f18c0137410>"
            ],
            "image/svg+xml": "<?xml version=\"1.0\" encoding=\"UTF-8\"?>\n<svg xmlns=\"http://www.w3.org/2000/svg\" xmlns:xlink=\"http://www.w3.org/1999/xlink\" width=\"300pt\" height=\"300pt\" viewBox=\"0 0 300 300\" version=\"1.1\">\n<defs>\n<g>\n<symbol overflow=\"visible\" id=\"glyph0-0\">\n<path style=\"stroke:none;\" d=\"M 0.46875 0 L 0.46875 -9.328125 L 4.1875 -9.328125 L 4.1875 0 Z M 0.9375 -0.46875 L 3.71875 -0.46875 L 3.71875 -8.859375 L 0.9375 -8.859375 Z M 0.9375 -0.46875 \"/>\n</symbol>\n<symbol overflow=\"visible\" id=\"glyph0-1\">\n<path style=\"stroke:none;\" d=\"M 7.0625 0 L 6.125 -2.609375 L 2.28125 -2.609375 L 1.34375 0 L 0 0 L 3.484375 -9.21875 L 4.96875 -9.21875 L 8.390625 0 Z M 4.796875 -6.515625 C 4.734375 -6.691406 4.671875 -6.867188 4.609375 -7.046875 C 4.546875 -7.222656 4.488281 -7.390625 4.4375 -7.546875 C 4.382812 -7.710938 4.335938 -7.851562 4.296875 -7.96875 C 4.253906 -8.09375 4.226562 -8.179688 4.21875 -8.234375 C 4.195312 -8.179688 4.164062 -8.09375 4.125 -7.96875 C 4.09375 -7.84375 4.050781 -7.703125 4 -7.546875 C 3.945312 -7.390625 3.890625 -7.222656 3.828125 -7.046875 C 3.773438 -6.867188 3.71875 -6.691406 3.65625 -6.515625 L 2.625 -3.625 L 5.796875 -3.625 Z M 4.796875 -6.515625 \"/>\n</symbol>\n<symbol overflow=\"visible\" id=\"glyph0-2\">\n<path style=\"stroke:none;\" d=\"M 7.875 -2.59375 C 7.875 -2.125 7.773438 -1.722656 7.578125 -1.390625 C 7.390625 -1.066406 7.132812 -0.800781 6.8125 -0.59375 C 6.488281 -0.382812 6.113281 -0.234375 5.6875 -0.140625 C 5.257812 -0.046875 4.804688 0 4.328125 0 L 1.109375 0 L 1.109375 -9.21875 L 3.921875 -9.21875 C 4.453125 -9.21875 4.925781 -9.175781 5.34375 -9.09375 C 5.769531 -9.007812 6.128906 -8.875 6.421875 -8.6875 C 6.710938 -8.507812 6.929688 -8.28125 7.078125 -8 C 7.234375 -7.71875 7.3125 -7.378906 7.3125 -6.984375 C 7.3125 -6.734375 7.273438 -6.488281 7.203125 -6.25 C 7.128906 -6.019531 7.015625 -5.8125 6.859375 -5.625 C 6.703125 -5.445312 6.507812 -5.289062 6.28125 -5.15625 C 6.0625 -5.019531 5.796875 -4.921875 5.484375 -4.859375 C 5.867188 -4.816406 6.207031 -4.734375 6.5 -4.609375 C 6.800781 -4.484375 7.050781 -4.320312 7.25 -4.125 C 7.457031 -3.925781 7.613281 -3.695312 7.71875 -3.4375 C 7.820312 -3.175781 7.875 -2.894531 7.875 -2.59375 Z M 6 -6.828125 C 6 -7.304688 5.828125 -7.648438 5.484375 -7.859375 C 5.140625 -8.066406 4.625 -8.171875 3.9375 -8.171875 L 2.40625 -8.171875 L 2.40625 -5.328125 L 3.953125 -5.328125 C 4.316406 -5.328125 4.628906 -5.363281 4.890625 -5.4375 C 5.148438 -5.507812 5.363281 -5.609375 5.53125 -5.734375 C 5.695312 -5.867188 5.816406 -6.023438 5.890625 -6.203125 C 5.960938 -6.390625 6 -6.597656 6 -6.828125 Z M 6.5625 -2.71875 C 6.5625 -3 6.5 -3.238281 6.375 -3.4375 C 6.257812 -3.644531 6.097656 -3.8125 5.890625 -3.9375 C 5.679688 -4.070312 5.425781 -4.164062 5.125 -4.21875 C 4.832031 -4.28125 4.503906 -4.3125 4.140625 -4.3125 L 2.40625 -4.3125 L 2.40625 -1.046875 L 4.234375 -1.046875 C 4.566406 -1.046875 4.875 -1.070312 5.15625 -1.125 C 5.4375 -1.175781 5.679688 -1.265625 5.890625 -1.390625 C 6.097656 -1.523438 6.257812 -1.695312 6.375 -1.90625 C 6.5 -2.125 6.5625 -2.394531 6.5625 -2.71875 Z M 6.5625 -2.71875 \"/>\n</symbol>\n<symbol overflow=\"visible\" id=\"glyph0-3\">\n<path style=\"stroke:none;\" d=\"M 2.140625 -4.65625 C 2.140625 -4.0625 2.1875 -3.53125 2.28125 -3.0625 C 2.375 -2.601562 2.515625 -2.210938 2.703125 -1.890625 C 2.898438 -1.578125 3.144531 -1.335938 3.4375 -1.171875 C 3.738281 -1.003906 4.097656 -0.921875 4.515625 -0.921875 C 4.804688 -0.921875 5.066406 -0.972656 5.296875 -1.078125 C 5.523438 -1.191406 5.726562 -1.335938 5.90625 -1.515625 C 6.09375 -1.691406 6.25 -1.894531 6.375 -2.125 C 6.507812 -2.363281 6.625 -2.601562 6.71875 -2.84375 L 7.8125 -2.40625 C 7.675781 -2.082031 7.515625 -1.769531 7.328125 -1.46875 C 7.148438 -1.164062 6.925781 -0.894531 6.65625 -0.65625 C 6.394531 -0.414062 6.085938 -0.222656 5.734375 -0.078125 C 5.378906 0.0664062 4.96875 0.140625 4.5 0.140625 C 3.863281 0.140625 3.3125 0.0234375 2.84375 -0.203125 C 2.375 -0.429688 1.984375 -0.753906 1.671875 -1.171875 C 1.367188 -1.597656 1.140625 -2.101562 0.984375 -2.6875 C 0.835938 -3.28125 0.765625 -3.9375 0.765625 -4.65625 C 0.765625 -5.414062 0.835938 -6.085938 0.984375 -6.671875 C 1.128906 -7.253906 1.351562 -7.742188 1.65625 -8.140625 C 1.957031 -8.546875 2.335938 -8.847656 2.796875 -9.046875 C 3.265625 -9.253906 3.8125 -9.359375 4.4375 -9.359375 C 4.894531 -9.359375 5.296875 -9.296875 5.640625 -9.171875 C 5.992188 -9.046875 6.296875 -8.878906 6.546875 -8.671875 C 6.796875 -8.460938 7.007812 -8.21875 7.1875 -7.9375 C 7.363281 -7.664062 7.507812 -7.378906 7.625 -7.078125 L 6.46875 -6.625 C 6.40625 -6.84375 6.3125 -7.050781 6.1875 -7.25 C 6.070312 -7.445312 5.929688 -7.625 5.765625 -7.78125 C 5.597656 -7.9375 5.40625 -8.0625 5.1875 -8.15625 C 4.96875 -8.25 4.71875 -8.296875 4.4375 -8.296875 C 4.03125 -8.296875 3.679688 -8.21875 3.390625 -8.0625 C 3.109375 -7.90625 2.875 -7.671875 2.6875 -7.359375 C 2.5 -7.054688 2.359375 -6.675781 2.265625 -6.21875 C 2.179688 -5.769531 2.140625 -5.25 2.140625 -4.65625 Z M 2.140625 -4.65625 \"/>\n</symbol>\n<symbol overflow=\"visible\" id=\"glyph0-4\">\n<path style=\"stroke:none;\" d=\"M 7.6875 -4.703125 C 7.6875 -3.941406 7.59375 -3.265625 7.40625 -2.671875 C 7.226562 -2.085938 6.96875 -1.597656 6.625 -1.203125 C 6.28125 -0.804688 5.851562 -0.503906 5.34375 -0.296875 C 4.84375 -0.0976562 4.273438 0 3.640625 0 L 1.109375 0 L 1.109375 -9.21875 L 3.234375 -9.21875 C 3.953125 -9.21875 4.585938 -9.128906 5.140625 -8.953125 C 5.691406 -8.785156 6.15625 -8.515625 6.53125 -8.140625 C 6.914062 -7.773438 7.203125 -7.304688 7.390625 -6.734375 C 7.585938 -6.160156 7.6875 -5.484375 7.6875 -4.703125 Z M 6.375 -4.703125 C 6.375 -5.316406 6.3125 -5.84375 6.1875 -6.28125 C 6.0625 -6.71875 5.867188 -7.070312 5.609375 -7.34375 C 5.347656 -7.625 5.019531 -7.828125 4.625 -7.953125 C 4.238281 -8.085938 3.773438 -8.15625 3.234375 -8.15625 L 2.40625 -8.15625 L 2.40625 -1.0625 L 3.515625 -1.0625 C 4.484375 -1.0625 5.203125 -1.363281 5.671875 -1.96875 C 6.140625 -2.582031 6.375 -3.492188 6.375 -4.703125 Z M 6.375 -4.703125 \"/>\n</symbol>\n<symbol overflow=\"visible\" id=\"glyph0-5\">\n<path style=\"stroke:none;\" d=\"M 1.109375 0 L 1.109375 -9.21875 L 7.390625 -9.21875 L 7.390625 -8.15625 L 2.40625 -8.15625 L 2.40625 -5.265625 L 6.984375 -5.265625 L 6.984375 -4.21875 L 2.40625 -4.21875 L 2.40625 -1.0625 L 7.671875 -1.0625 L 7.671875 0 Z M 1.109375 0 \"/>\n</symbol>\n<symbol overflow=\"visible\" id=\"glyph0-6\">\n<path style=\"stroke:none;\" d=\"M 2.625 -8.15625 L 2.625 -4.78125 L 7.25 -4.78125 L 7.25 -3.703125 L 2.625 -3.703125 L 2.625 0 L 1.328125 0 L 1.328125 -9.21875 L 7.421875 -9.21875 L 7.421875 -8.15625 Z M 2.625 -8.15625 \"/>\n</symbol>\n<symbol overflow=\"visible\" id=\"glyph0-7\">\n<path style=\"stroke:none;\" d=\"M 7.53125 -0.90625 C 7.363281 -0.800781 7.171875 -0.6875 6.953125 -0.5625 C 6.734375 -0.4375 6.492188 -0.320312 6.234375 -0.21875 C 5.972656 -0.113281 5.6875 -0.03125 5.375 0.03125 C 5.0625 0.101562 4.726562 0.140625 4.375 0.140625 C 3.757812 0.140625 3.222656 0.0195312 2.765625 -0.21875 C 2.316406 -0.457031 1.941406 -0.789062 1.640625 -1.21875 C 1.347656 -1.644531 1.128906 -2.148438 0.984375 -2.734375 C 0.835938 -3.316406 0.765625 -3.957031 0.765625 -4.65625 C 0.765625 -5.414062 0.835938 -6.085938 0.984375 -6.671875 C 1.128906 -7.253906 1.347656 -7.742188 1.640625 -8.140625 C 1.929688 -8.546875 2.304688 -8.847656 2.765625 -9.046875 C 3.222656 -9.253906 3.765625 -9.359375 4.390625 -9.359375 C 4.847656 -9.359375 5.25 -9.300781 5.59375 -9.1875 C 5.9375 -9.070312 6.234375 -8.910156 6.484375 -8.703125 C 6.734375 -8.503906 6.941406 -8.265625 7.109375 -7.984375 C 7.285156 -7.710938 7.429688 -7.421875 7.546875 -7.109375 L 6.375 -6.71875 C 6.195312 -7.21875 5.945312 -7.601562 5.625 -7.875 C 5.3125 -8.15625 4.90625 -8.296875 4.40625 -8.296875 C 3.988281 -8.296875 3.632812 -8.21875 3.34375 -8.0625 C 3.0625 -7.90625 2.832031 -7.671875 2.65625 -7.359375 C 2.476562 -7.054688 2.347656 -6.675781 2.265625 -6.21875 C 2.179688 -5.769531 2.140625 -5.25 2.140625 -4.65625 C 2.140625 -3.4375 2.332031 -2.507812 2.71875 -1.875 C 3.101562 -1.238281 3.691406 -0.921875 4.484375 -0.921875 C 4.703125 -0.921875 4.90625 -0.941406 5.09375 -0.984375 C 5.28125 -1.023438 5.445312 -1.070312 5.59375 -1.125 C 5.75 -1.175781 5.882812 -1.226562 6 -1.28125 C 6.113281 -1.34375 6.195312 -1.390625 6.25 -1.421875 L 6.25 -3.71875 L 4.25 -3.71875 L 4.25 -4.8125 L 7.53125 -4.8125 Z M 7.53125 -0.90625 \"/>\n</symbol>\n<symbol overflow=\"visible\" id=\"glyph0-8\">\n<path style=\"stroke:none;\" d=\"M 5.984375 0 L 5.984375 -4.265625 L 2.40625 -4.265625 L 2.40625 0 L 1.109375 0 L 1.109375 -9.21875 L 2.40625 -9.21875 L 2.40625 -5.359375 L 5.984375 -5.359375 L 5.984375 -9.21875 L 7.28125 -9.21875 L 7.28125 0 Z M 5.984375 0 \"/>\n</symbol>\n<symbol overflow=\"visible\" id=\"glyph1-0\">\n<path style=\"stroke:none;\" d=\"M 0.40625 0 L 0.40625 -8 L 3.59375 -8 L 3.59375 0 Z M 0.796875 -0.40625 L 3.1875 -0.40625 L 3.1875 -7.59375 L 0.796875 -7.59375 Z M 0.796875 -0.40625 \"/>\n</symbol>\n<symbol overflow=\"visible\" id=\"glyph1-1\">\n<path style=\"stroke:none;\" d=\"M 0.84375 0 L 0.84375 -0.6875 C 1.019531 -1.0625 1.25 -1.410156 1.53125 -1.734375 C 1.8125 -2.054688 2.109375 -2.359375 2.421875 -2.640625 C 2.742188 -2.921875 3.066406 -3.191406 3.390625 -3.453125 C 3.710938 -3.710938 4 -3.96875 4.25 -4.21875 C 4.507812 -4.46875 4.722656 -4.722656 4.890625 -4.984375 C 5.054688 -5.242188 5.140625 -5.519531 5.140625 -5.8125 C 5.140625 -6.039062 5.097656 -6.238281 5.015625 -6.40625 C 4.941406 -6.582031 4.835938 -6.722656 4.703125 -6.828125 C 4.566406 -6.941406 4.398438 -7.023438 4.203125 -7.078125 C 4.015625 -7.128906 3.804688 -7.15625 3.578125 -7.15625 C 3.367188 -7.15625 3.171875 -7.125 2.984375 -7.0625 C 2.804688 -7.007812 2.648438 -6.925781 2.515625 -6.8125 C 2.378906 -6.695312 2.265625 -6.550781 2.171875 -6.375 C 2.085938 -6.195312 2.035156 -5.992188 2.015625 -5.765625 L 0.9375 -5.859375 C 0.96875 -6.160156 1.046875 -6.441406 1.171875 -6.703125 C 1.296875 -6.960938 1.46875 -7.191406 1.6875 -7.390625 C 1.90625 -7.585938 2.171875 -7.742188 2.484375 -7.859375 C 2.796875 -7.972656 3.160156 -8.03125 3.578125 -8.03125 C 3.992188 -8.03125 4.363281 -7.984375 4.6875 -7.890625 C 5.007812 -7.796875 5.285156 -7.65625 5.515625 -7.46875 C 5.742188 -7.289062 5.914062 -7.066406 6.03125 -6.796875 C 6.15625 -6.523438 6.21875 -6.21875 6.21875 -5.875 C 6.21875 -5.507812 6.132812 -5.164062 5.96875 -4.84375 C 5.800781 -4.53125 5.582031 -4.234375 5.3125 -3.953125 C 5.050781 -3.671875 4.757812 -3.398438 4.4375 -3.140625 C 4.125 -2.890625 3.8125 -2.640625 3.5 -2.390625 C 3.195312 -2.140625 2.921875 -1.890625 2.671875 -1.640625 C 2.421875 -1.390625 2.234375 -1.128906 2.109375 -0.859375 L 6.359375 -0.859375 L 6.359375 0 Z M 0.84375 0 \"/>\n</symbol>\n<symbol overflow=\"visible\" id=\"glyph1-2\">\n<path style=\"stroke:none;\" d=\"M 0.921875 0 L 0.921875 -0.84375 L 3.5 -0.84375 L 3.5 -6.828125 C 3.414062 -6.671875 3.28125 -6.523438 3.09375 -6.390625 C 2.90625 -6.253906 2.691406 -6.132812 2.453125 -6.03125 C 2.210938 -5.925781 1.953125 -5.84375 1.671875 -5.78125 C 1.390625 -5.726562 1.125 -5.703125 0.875 -5.703125 L 0.875 -6.5625 C 1.15625 -6.5625 1.4375 -6.59375 1.71875 -6.65625 C 2 -6.726562 2.257812 -6.820312 2.5 -6.9375 C 2.738281 -7.0625 2.953125 -7.203125 3.140625 -7.359375 C 3.328125 -7.523438 3.472656 -7.707031 3.578125 -7.90625 L 4.546875 -7.90625 L 4.546875 -0.84375 L 6.625 -0.84375 L 6.625 0 Z M 0.921875 0 \"/>\n</symbol>\n<symbol overflow=\"visible\" id=\"glyph1-3\">\n<path style=\"stroke:none;\" d=\"M 6.4375 -2.171875 C 6.4375 -1.816406 6.375 -1.492188 6.25 -1.203125 C 6.132812 -0.921875 5.957031 -0.679688 5.71875 -0.484375 C 5.476562 -0.296875 5.179688 -0.144531 4.828125 -0.03125 C 4.484375 0.0703125 4.085938 0.125 3.640625 0.125 C 3.128906 0.125 2.695312 0.0625 2.34375 -0.0625 C 2 -0.195312 1.710938 -0.367188 1.484375 -0.578125 C 1.253906 -0.785156 1.082031 -1.019531 0.96875 -1.28125 C 0.851562 -1.550781 0.78125 -1.832031 0.75 -2.125 L 1.84375 -2.21875 C 1.875 -2 1.929688 -1.800781 2.015625 -1.625 C 2.097656 -1.445312 2.210938 -1.289062 2.359375 -1.15625 C 2.503906 -1.03125 2.679688 -0.929688 2.890625 -0.859375 C 3.109375 -0.785156 3.359375 -0.75 3.640625 -0.75 C 4.171875 -0.75 4.585938 -0.875 4.890625 -1.125 C 5.191406 -1.375 5.34375 -1.734375 5.34375 -2.203125 C 5.34375 -2.472656 5.273438 -2.691406 5.140625 -2.859375 C 5.003906 -3.035156 4.835938 -3.175781 4.640625 -3.28125 C 4.441406 -3.382812 4.222656 -3.457031 3.984375 -3.5 C 3.742188 -3.539062 3.523438 -3.5625 3.328125 -3.5625 L 2.734375 -3.5625 L 2.734375 -4.484375 L 3.3125 -4.484375 C 3.507812 -4.484375 3.710938 -4.503906 3.921875 -4.546875 C 4.140625 -4.597656 4.335938 -4.675781 4.515625 -4.78125 C 4.691406 -4.894531 4.835938 -5.035156 4.953125 -5.203125 C 5.066406 -5.378906 5.125 -5.59375 5.125 -5.84375 C 5.125 -6.257812 4.992188 -6.582031 4.734375 -6.8125 C 4.472656 -7.039062 4.085938 -7.15625 3.578125 -7.15625 C 3.117188 -7.15625 2.742188 -7.035156 2.453125 -6.796875 C 2.160156 -6.566406 1.992188 -6.234375 1.953125 -5.796875 L 0.890625 -5.875 C 0.929688 -6.238281 1.03125 -6.554688 1.1875 -6.828125 C 1.34375 -7.097656 1.539062 -7.320312 1.78125 -7.5 C 2.019531 -7.675781 2.296875 -7.804688 2.609375 -7.890625 C 2.921875 -7.984375 3.25 -8.03125 3.59375 -8.03125 C 4.0625 -8.03125 4.457031 -7.972656 4.78125 -7.859375 C 5.113281 -7.753906 5.382812 -7.609375 5.59375 -7.421875 C 5.800781 -7.234375 5.957031 -7.007812 6.0625 -6.75 C 6.164062 -6.5 6.21875 -6.234375 6.21875 -5.953125 C 6.21875 -5.734375 6.179688 -5.523438 6.109375 -5.328125 C 6.035156 -5.128906 5.925781 -4.945312 5.78125 -4.78125 C 5.632812 -4.613281 5.453125 -4.46875 5.234375 -4.34375 C 5.023438 -4.21875 4.773438 -4.125 4.484375 -4.0625 L 4.484375 -4.03125 C 4.804688 -4 5.085938 -3.925781 5.328125 -3.8125 C 5.578125 -3.695312 5.78125 -3.550781 5.9375 -3.375 C 6.101562 -3.207031 6.226562 -3.019531 6.3125 -2.8125 C 6.394531 -2.601562 6.4375 -2.390625 6.4375 -2.171875 Z M 6.4375 -2.171875 \"/>\n</symbol>\n</g>\n</defs>\n<g id=\"surface2\">\n<rect x=\"0\" y=\"0\" width=\"300\" height=\"300\" style=\"fill:rgb(100%,100%,100%);fill-opacity:1;stroke:none;\"/>\n<path style=\"fill:none;stroke-width:1;stroke-linecap:butt;stroke-linejoin:miter;stroke:rgb(26.666667%,26.666667%,26.666667%);stroke-opacity:1;stroke-miterlimit:10;\" d=\"M 20 183.355469 L 54.449219 257.871094 \"/>\n<path style=\" stroke:none;fill-rule:nonzero;fill:rgb(26.666667%,26.666667%,26.666667%);fill-opacity:1;\" d=\"M 60.4375 270.820312 L 50.242188 259.816406 L 58.65625 255.925781 L 60.4375 270.820312 \"/>\n<path style=\"fill:none;stroke-width:1;stroke-linecap:butt;stroke-linejoin:miter;stroke:rgb(26.666667%,26.666667%,26.666667%);stroke-opacity:1;stroke-miterlimit:10;\" d=\"M 20 183.355469 L 75.539062 107.050781 \"/>\n<path style=\" stroke:none;fill-rule:nonzero;fill:rgb(26.666667%,26.666667%,26.666667%);fill-opacity:1;\" d=\"M 83.9375 95.515625 L 79.289062 109.777344 L 71.792969 104.324219 L 83.9375 95.515625 \"/>\n<path style=\"fill:none;stroke-width:1;stroke-linecap:butt;stroke-linejoin:miter;stroke:rgb(26.666667%,26.666667%,26.666667%);stroke-opacity:1;stroke-miterlimit:10;\" d=\"M 89.820312 87.429688 L 150.617188 120.769531 \"/>\n<path style=\" stroke:none;fill-rule:nonzero;fill:rgb(26.666667%,26.666667%,26.666667%);fill-opacity:1;\" d=\"M 163.125 127.628906 L 148.390625 124.832031 L 152.847656 116.707031 L 163.125 127.628906 \"/>\n<path style=\"fill:none;stroke-width:1;stroke-linecap:butt;stroke-linejoin:miter;stroke:rgb(26.666667%,26.666667%,26.666667%);stroke-opacity:1;stroke-miterlimit:10;\" d=\"M 89.820312 87.429688 L 166.488281 33.894531 \"/>\n<path style=\" stroke:none;fill-rule:nonzero;fill:rgb(26.666667%,26.666667%,26.666667%);fill-opacity:1;\" d=\"M 178.183594 25.726562 L 169.140625 37.695312 L 163.832031 30.09375 L 178.183594 25.726562 \"/>\n<path style=\"fill:none;stroke-width:1;stroke-linecap:butt;stroke-linejoin:miter;stroke:rgb(26.666667%,26.666667%,26.666667%);stroke-opacity:1;stroke-miterlimit:10;\" d=\"M 64.632812 279.898438 L 155.257812 279.976562 \"/>\n<path style=\" stroke:none;fill-rule:nonzero;fill:rgb(26.666667%,26.666667%,26.666667%);fill-opacity:1;\" d=\"M 169.523438 279.992188 L 155.253906 284.613281 L 155.261719 275.34375 L 169.523438 279.992188 \"/>\n<path style=\"fill:none;stroke-width:1;stroke-linecap:butt;stroke-linejoin:miter;stroke:rgb(26.666667%,26.666667%,26.666667%);stroke-opacity:1;stroke-miterlimit:10;\" d=\"M 280 76.707031 L 255.933594 160.667969 \"/>\n<path style=\" stroke:none;fill-rule:nonzero;fill:rgb(26.666667%,26.666667%,26.666667%);fill-opacity:1;\" d=\"M 252 174.378906 L 251.476562 159.390625 L 260.386719 161.945312 L 252 174.378906 \"/>\n<path style=\"fill:none;stroke-width:1;stroke-linecap:butt;stroke-linejoin:miter;stroke:rgb(26.666667%,26.666667%,26.666667%);stroke-opacity:1;stroke-miterlimit:10;\" d=\"M 179.523438 280 L 234.988281 203.628906 \"/>\n<path style=\" stroke:none;fill-rule:nonzero;fill:rgb(26.666667%,26.666667%,26.666667%);fill-opacity:1;\" d=\"M 243.371094 192.085938 L 238.738281 206.351562 L 231.234375 200.902344 L 243.371094 192.085938 \"/>\n<path style=\"fill:none;stroke-width:1;stroke-linecap:butt;stroke-linejoin:miter;stroke:rgb(26.666667%,26.666667%,26.666667%);stroke-opacity:1;stroke-miterlimit:10;\" d=\"M 171.894531 132.4375 L 229.054688 170.535156 \"/>\n<path style=\" stroke:none;fill-rule:nonzero;fill:rgb(26.666667%,26.666667%,26.666667%);fill-opacity:1;\" d=\"M 240.925781 178.449219 L 226.484375 174.390625 L 231.625 166.679688 L 240.925781 178.449219 \"/>\n<path style=\"fill:none;stroke-width:1;stroke-linecap:butt;stroke-linejoin:miter;stroke:rgb(26.666667%,26.666667%,26.666667%);stroke-opacity:1;stroke-miterlimit:10;\" d=\"M 186.382812 20 L 259.246094 64.132812 \"/>\n<path style=\" stroke:none;fill-rule:nonzero;fill:rgb(26.666667%,26.666667%,26.666667%);fill-opacity:1;\" d=\"M 271.445312 71.523438 L 256.84375 68.097656 L 261.644531 60.167969 L 271.445312 71.523438 \"/>\n<path style=\"fill-rule:nonzero;fill:rgb(100%,0%,0%);fill-opacity:1;stroke-width:1;stroke-linecap:butt;stroke-linejoin:miter;stroke:rgb(0%,0%,0%);stroke-opacity:1;stroke-miterlimit:10;\" d=\"M 30 183.355469 C 30 188.878906 25.523438 193.355469 20 193.355469 C 14.476562 193.355469 10 188.878906 10 183.355469 C 10 177.832031 14.476562 173.355469 20 173.355469 C 25.523438 173.355469 30 177.832031 30 183.355469 \"/>\n<path style=\"fill-rule:nonzero;fill:rgb(100%,0%,0%);fill-opacity:1;stroke-width:1;stroke-linecap:butt;stroke-linejoin:miter;stroke:rgb(0%,0%,0%);stroke-opacity:1;stroke-miterlimit:10;\" d=\"M 99.820312 87.429688 C 99.820312 92.953125 95.34375 97.429688 89.820312 97.429688 C 84.296875 97.429688 79.820312 92.953125 79.820312 87.429688 C 79.820312 81.910156 84.296875 77.429688 89.820312 77.429688 C 95.34375 77.429688 99.820312 81.910156 99.820312 87.429688 \"/>\n<path style=\"fill-rule:nonzero;fill:rgb(100%,0%,0%);fill-opacity:1;stroke-width:1;stroke-linecap:butt;stroke-linejoin:miter;stroke:rgb(0%,0%,0%);stroke-opacity:1;stroke-miterlimit:10;\" d=\"M 74.632812 279.898438 C 74.632812 285.421875 70.15625 289.898438 64.632812 289.898438 C 59.109375 289.898438 54.632812 285.421875 54.632812 279.898438 C 54.632812 274.375 59.109375 269.898438 64.632812 269.898438 C 70.15625 269.898438 74.632812 274.375 74.632812 279.898438 \"/>\n<path style=\"fill-rule:nonzero;fill:rgb(100%,0%,0%);fill-opacity:1;stroke-width:1;stroke-linecap:butt;stroke-linejoin:miter;stroke:rgb(0%,0%,0%);stroke-opacity:1;stroke-miterlimit:10;\" d=\"M 189.523438 280 C 189.523438 285.523438 185.046875 290 179.523438 290 C 174 290 169.523438 285.523438 169.523438 280 C 169.523438 274.476562 174 270 179.523438 270 C 185.046875 270 189.523438 274.476562 189.523438 280 \"/>\n<path style=\"fill-rule:nonzero;fill:rgb(100%,0%,0%);fill-opacity:1;stroke-width:1;stroke-linecap:butt;stroke-linejoin:miter;stroke:rgb(0%,0%,0%);stroke-opacity:1;stroke-miterlimit:10;\" d=\"M 181.894531 132.4375 C 181.894531 137.960938 177.417969 142.4375 171.894531 142.4375 C 166.371094 142.4375 161.894531 137.960938 161.894531 132.4375 C 161.894531 126.914062 166.371094 122.4375 171.894531 122.4375 C 177.417969 122.4375 181.894531 126.914062 181.894531 132.4375 \"/>\n<path style=\"fill-rule:nonzero;fill:rgb(100%,0%,0%);fill-opacity:1;stroke-width:1;stroke-linecap:butt;stroke-linejoin:miter;stroke:rgb(0%,0%,0%);stroke-opacity:1;stroke-miterlimit:10;\" d=\"M 196.382812 20 C 196.382812 25.523438 191.90625 30 186.382812 30 C 180.859375 30 176.382812 25.523438 176.382812 20 C 176.382812 14.476562 180.859375 10 186.382812 10 C 191.90625 10 196.382812 14.476562 196.382812 20 \"/>\n<path style=\"fill-rule:nonzero;fill:rgb(100%,0%,0%);fill-opacity:1;stroke-width:1;stroke-linecap:butt;stroke-linejoin:miter;stroke:rgb(0%,0%,0%);stroke-opacity:1;stroke-miterlimit:10;\" d=\"M 290 76.707031 C 290 82.226562 285.523438 86.707031 280 86.707031 C 274.476562 86.707031 270 82.226562 270 76.707031 C 270 71.183594 274.476562 66.707031 280 66.707031 C 285.523438 66.707031 290 71.183594 290 76.707031 \"/>\n<path style=\"fill-rule:nonzero;fill:rgb(100%,0%,0%);fill-opacity:1;stroke-width:1;stroke-linecap:butt;stroke-linejoin:miter;stroke:rgb(0%,0%,0%);stroke-opacity:1;stroke-miterlimit:10;\" d=\"M 259.246094 183.992188 C 259.246094 189.515625 254.769531 193.992188 249.246094 193.992188 C 243.722656 193.992188 239.246094 189.515625 239.246094 183.992188 C 239.246094 178.472656 243.722656 173.992188 249.246094 173.992188 C 254.769531 173.992188 259.246094 178.472656 259.246094 183.992188 \"/>\n<g style=\"fill:rgb(0%,0%,0%);fill-opacity:1;\">\n  <use xlink:href=\"#glyph0-1\" x=\"15.804688\" y=\"190.070312\"/>\n</g>\n<g style=\"fill:rgb(0%,0%,0%);fill-opacity:1;\">\n  <use xlink:href=\"#glyph0-2\" x=\"85.328125\" y=\"94.144531\"/>\n</g>\n<g style=\"fill:rgb(0%,0%,0%);fill-opacity:1;\">\n  <use xlink:href=\"#glyph0-3\" x=\"60.34375\" y=\"286.683594\"/>\n</g>\n<g style=\"fill:rgb(0%,0%,0%);fill-opacity:1;\">\n  <use xlink:href=\"#glyph0-4\" x=\"175.125\" y=\"286.714844\"/>\n</g>\n<g style=\"fill:rgb(0%,0%,0%);fill-opacity:1;\">\n  <use xlink:href=\"#glyph0-5\" x=\"167.503906\" y=\"139.148438\"/>\n</g>\n<g style=\"fill:rgb(0%,0%,0%);fill-opacity:1;\">\n  <use xlink:href=\"#glyph0-6\" x=\"182.011719\" y=\"26.710938\"/>\n</g>\n<g style=\"fill:rgb(0%,0%,0%);fill-opacity:1;\">\n  <use xlink:href=\"#glyph0-7\" x=\"275.84375\" y=\"83.488281\"/>\n</g>\n<g style=\"fill:rgb(0%,0%,0%);fill-opacity:1;\">\n  <use xlink:href=\"#glyph0-8\" x=\"245.046875\" y=\"190.707031\"/>\n</g>\n<g style=\"fill:rgb(0%,0%,0%);fill-opacity:1;\">\n  <use xlink:href=\"#glyph1-1\" x=\"41.472656\" y=\"237.441406\"/>\n</g>\n<g style=\"fill:rgb(0%,0%,0%);fill-opacity:1;\">\n  <use xlink:href=\"#glyph1-2\" x=\"48.289062\" y=\"141.148438\"/>\n</g>\n<g style=\"fill:rgb(0%,0%,0%);fill-opacity:1;\">\n  <use xlink:href=\"#glyph1-1\" x=\"130.015625\" y=\"103.957031\"/>\n</g>\n<g style=\"fill:rgb(0%,0%,0%);fill-opacity:1;\">\n  <use xlink:href=\"#glyph1-2\" x=\"131.480469\" y=\"47.675781\"/>\n</g>\n<g style=\"fill:rgb(0%,0%,0%);fill-opacity:1;\">\n  <use xlink:href=\"#glyph1-1\" x=\"121.234375\" y=\"273.972656\"/>\n</g>\n<g style=\"fill:rgb(0%,0%,0%);fill-opacity:1;\">\n  <use xlink:href=\"#glyph1-2\" x=\"263.753906\" y=\"136.101562\"/>\n</g>\n<g style=\"fill:rgb(0%,0%,0%);fill-opacity:1;\">\n  <use xlink:href=\"#glyph1-3\" x=\"207.945312\" y=\"237.8125\"/>\n</g>\n<g style=\"fill:rgb(0%,0%,0%);fill-opacity:1;\">\n  <use xlink:href=\"#glyph1-2\" x=\"209.703125\" y=\"152.175781\"/>\n</g>\n<g style=\"fill:rgb(0%,0%,0%);fill-opacity:1;\">\n  <use xlink:href=\"#glyph1-1\" x=\"232.347656\" y=\"42.375\"/>\n</g>\n</g>\n</svg>\n"
          },
          "metadata": {
            "tags": [],
            "image/svg+xml": {
              "isolated": true
            }
          },
          "execution_count": 4
        }
      ]
    },
    {
      "cell_type": "code",
      "metadata": {
        "colab": {
          "base_uri": "https://localhost:8080/"
        },
        "id": "1Wx1eI-pgmDT",
        "outputId": "bc505878-f7f3-4eb4-8b79-a7e2c68f67ad"
      },
      "source": [
        "# Caminho entre os vértices A - H\n",
        "caminho_vertice = grafo.get_shortest_paths(0,7, output = 'vpath')\n",
        "for n in caminho_vertice[0]:\n",
        "    print(grafo.vs[n]['label'])"
      ],
      "execution_count": 5,
      "outputs": [
        {
          "output_type": "stream",
          "text": [
            "A\n",
            "B\n",
            "E\n",
            "H\n"
          ],
          "name": "stdout"
        }
      ]
    },
    {
      "cell_type": "code",
      "metadata": {
        "colab": {
          "base_uri": "https://localhost:8080/"
        },
        "id": "tt7UJ-lwgmDV",
        "outputId": "58422a13-8e80-4295-b80d-7a25b23bdda7"
      },
      "source": [
        "# Obtenção dos caminhos mais curtos entre 0 e 7\n",
        "caminho_aresta = grafo.get_shortest_paths(0,7, output = 'epath')\n",
        "caminho_aresta"
      ],
      "execution_count": 6,
      "outputs": [
        {
          "output_type": "execute_result",
          "data": {
            "text/plain": [
              "[[1, 2, 7]]"
            ]
          },
          "metadata": {
            "tags": []
          },
          "execution_count": 6
        }
      ]
    },
    {
      "cell_type": "code",
      "metadata": {
        "colab": {
          "base_uri": "https://localhost:8080/"
        },
        "id": "Okyzxnv8gmDW",
        "outputId": "17092cb9-1500-4c95-fdf6-cfd3edc966c9"
      },
      "source": [
        "# Mostrar o caminho \n",
        "caminho_aresta_id = []\n",
        "for n in caminho_aresta[0]:\n",
        "    caminho_aresta_id.append(n)\n",
        "caminho_aresta_id\n",
        "\n",
        "# Somatório dos pesos (ou distâncias) entre os vértices do caminho\n",
        "distancia = 0\n",
        "for e in grafo.es:\n",
        "    #print(e.index)\n",
        "    if e.index in caminho_aresta_id:\n",
        "        distancia += grafo.es[e.index]['weight']\n",
        "distancia        "
      ],
      "execution_count": 7,
      "outputs": [
        {
          "output_type": "execute_result",
          "data": {
            "text/plain": [
              "4"
            ]
          },
          "metadata": {
            "tags": []
          },
          "execution_count": 7
        }
      ]
    },
    {
      "cell_type": "code",
      "metadata": {
        "id": "KvYWoEI8gmDX"
      },
      "source": [
        ""
      ],
      "execution_count": null,
      "outputs": []
    }
  ]
}