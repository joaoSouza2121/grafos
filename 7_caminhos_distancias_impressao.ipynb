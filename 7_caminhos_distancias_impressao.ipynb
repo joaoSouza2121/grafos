{
  "nbformat": 4,
  "nbformat_minor": 0,
  "metadata": {
    "jupytext": {
      "cell_metadata_filter": "-all",
      "main_language": "python",
      "notebook_metadata_filter": "-all"
    },
    "kernelspec": {
      "display_name": "Python 3",
      "language": "python",
      "name": "python3"
    },
    "language_info": {
      "codemirror_mode": {
        "name": "ipython",
        "version": 3
      },
      "file_extension": ".py",
      "mimetype": "text/x-python",
      "name": "python",
      "nbconvert_exporter": "python",
      "pygments_lexer": "ipython3",
      "version": "3.7.6"
    },
    "colab": {
      "name": "7.caminhos_distancias_impressao.ipynb",
      "provenance": [],
      "include_colab_link": true
    }
  },
  "cells": [
    {
      "cell_type": "markdown",
      "metadata": {
        "id": "view-in-github",
        "colab_type": "text"
      },
      "source": [
        "<a href=\"https://colab.research.google.com/github/joaoSouza2121/grafos/blob/main/7_caminhos_distancias_impressao.ipynb\" target=\"_parent\"><img src=\"https://colab.research.google.com/assets/colab-badge.svg\" alt=\"Open In Colab\"/></a>"
      ]
    },
    {
      "cell_type": "markdown",
      "metadata": {
        "id": "JtM8G4_bjPHb"
      },
      "source": [
        "#Teoria dos Grafos\n",
        "\n",
        "Caminhos e Distâncias - Impressão"
      ]
    },
    {
      "cell_type": "code",
      "metadata": {
        "colab": {
          "base_uri": "https://localhost:8080/"
        },
        "id": "KwmBkzi2jR6P",
        "outputId": "c46d6240-1cb9-41ad-90e8-ea38a3e96742"
      },
      "source": [
        "!sudo apt install build-essential python-dev libxml2 libxml2-dev zlib1g-dev libcairo2-dev\n",
        "!pip install cairocffi python-igraph"
      ],
      "execution_count": 1,
      "outputs": [
        {
          "output_type": "stream",
          "text": [
            "Reading package lists... Done\n",
            "Building dependency tree       \n",
            "Reading state information... Done\n",
            "build-essential is already the newest version (12.4ubuntu1).\n",
            "python-dev is already the newest version (2.7.15~rc1-1).\n",
            "zlib1g-dev is already the newest version (1:1.2.11.dfsg-0ubuntu2).\n",
            "zlib1g-dev set to manually installed.\n",
            "libxml2 is already the newest version (2.9.4+dfsg1-6.1ubuntu1.3).\n",
            "libxml2 set to manually installed.\n",
            "libxml2-dev is already the newest version (2.9.4+dfsg1-6.1ubuntu1.3).\n",
            "The following package was automatically installed and is no longer required:\n",
            "  libnvidia-common-460\n",
            "Use 'sudo apt autoremove' to remove it.\n",
            "The following additional packages will be installed:\n",
            "  libcairo-script-interpreter2 libpixman-1-dev libxcb-shm0-dev\n",
            "Suggested packages:\n",
            "  libcairo2-doc\n",
            "The following NEW packages will be installed:\n",
            "  libcairo-script-interpreter2 libcairo2-dev libpixman-1-dev libxcb-shm0-dev\n",
            "0 upgraded, 4 newly installed, 0 to remove and 34 not upgraded.\n",
            "Need to get 930 kB of archives.\n",
            "After this operation, 3,986 kB of additional disk space will be used.\n",
            "Get:1 http://archive.ubuntu.com/ubuntu bionic-updates/main amd64 libcairo-script-interpreter2 amd64 1.15.10-2ubuntu0.1 [53.5 kB]\n",
            "Get:2 http://archive.ubuntu.com/ubuntu bionic/main amd64 libpixman-1-dev amd64 0.34.0-2 [244 kB]\n",
            "Get:3 http://archive.ubuntu.com/ubuntu bionic-updates/main amd64 libxcb-shm0-dev amd64 1.13-2~ubuntu18.04 [6,684 B]\n",
            "Get:4 http://archive.ubuntu.com/ubuntu bionic-updates/main amd64 libcairo2-dev amd64 1.15.10-2ubuntu0.1 [626 kB]\n",
            "Fetched 930 kB in 3s (316 kB/s)\n",
            "debconf: unable to initialize frontend: Dialog\n",
            "debconf: (No usable dialog-like program is installed, so the dialog based frontend cannot be used. at /usr/share/perl5/Debconf/FrontEnd/Dialog.pm line 76, <> line 4.)\n",
            "debconf: falling back to frontend: Readline\n",
            "debconf: unable to initialize frontend: Readline\n",
            "debconf: (This frontend requires a controlling tty.)\n",
            "debconf: falling back to frontend: Teletype\n",
            "dpkg-preconfigure: unable to re-open stdin: \n",
            "Selecting previously unselected package libcairo-script-interpreter2:amd64.\n",
            "(Reading database ... 160706 files and directories currently installed.)\n",
            "Preparing to unpack .../libcairo-script-interpreter2_1.15.10-2ubuntu0.1_amd64.deb ...\n",
            "Unpacking libcairo-script-interpreter2:amd64 (1.15.10-2ubuntu0.1) ...\n",
            "Selecting previously unselected package libpixman-1-dev:amd64.\n",
            "Preparing to unpack .../libpixman-1-dev_0.34.0-2_amd64.deb ...\n",
            "Unpacking libpixman-1-dev:amd64 (0.34.0-2) ...\n",
            "Selecting previously unselected package libxcb-shm0-dev:amd64.\n",
            "Preparing to unpack .../libxcb-shm0-dev_1.13-2~ubuntu18.04_amd64.deb ...\n",
            "Unpacking libxcb-shm0-dev:amd64 (1.13-2~ubuntu18.04) ...\n",
            "Selecting previously unselected package libcairo2-dev:amd64.\n",
            "Preparing to unpack .../libcairo2-dev_1.15.10-2ubuntu0.1_amd64.deb ...\n",
            "Unpacking libcairo2-dev:amd64 (1.15.10-2ubuntu0.1) ...\n",
            "Setting up libcairo-script-interpreter2:amd64 (1.15.10-2ubuntu0.1) ...\n",
            "Setting up libxcb-shm0-dev:amd64 (1.13-2~ubuntu18.04) ...\n",
            "Setting up libpixman-1-dev:amd64 (0.34.0-2) ...\n",
            "Setting up libcairo2-dev:amd64 (1.15.10-2ubuntu0.1) ...\n",
            "Processing triggers for libc-bin (2.27-3ubuntu1.2) ...\n",
            "/sbin/ldconfig.real: /usr/local/lib/python3.7/dist-packages/ideep4py/lib/libmkldnn.so.0 is not a symbolic link\n",
            "\n",
            "Collecting cairocffi\n",
            "\u001b[?25l  Downloading https://files.pythonhosted.org/packages/84/ca/0bffed5116d21251469df200448667e90acaa5131edea869b44a3fbc73d0/cairocffi-1.2.0.tar.gz (70kB)\n",
            "\u001b[K     |████████████████████████████████| 71kB 4.0MB/s \n",
            "\u001b[?25hCollecting python-igraph\n",
            "\u001b[?25l  Downloading https://files.pythonhosted.org/packages/ae/12/1fbdb491d89fad8abb7aca0189978655cfdc984a380b846478f2ccdfdad8/python_igraph-0.9.1-cp37-cp37m-manylinux2010_x86_64.whl (3.2MB)\n",
            "\u001b[K     |████████████████████████████████| 3.2MB 24.6MB/s \n",
            "\u001b[?25hRequirement already satisfied: cffi>=1.1.0 in /usr/local/lib/python3.7/dist-packages (from cairocffi) (1.14.5)\n",
            "Collecting texttable>=1.6.2\n",
            "  Downloading https://files.pythonhosted.org/packages/06/f5/46201c428aebe0eecfa83df66bf3e6caa29659dbac5a56ddfd83cae0d4a4/texttable-1.6.3-py2.py3-none-any.whl\n",
            "Requirement already satisfied: pycparser in /usr/local/lib/python3.7/dist-packages (from cffi>=1.1.0->cairocffi) (2.20)\n",
            "Building wheels for collected packages: cairocffi\n",
            "  Building wheel for cairocffi (setup.py) ... \u001b[?25l\u001b[?25hdone\n",
            "  Created wheel for cairocffi: filename=cairocffi-1.2.0-cp37-none-any.whl size=89548 sha256=0d5adb33beecd7158c2264da1a82404f057dc28f201e9cbb416c14a48fc44f3a\n",
            "  Stored in directory: /root/.cache/pip/wheels/40/76/48/f1effadceea83b32e7d957dd0f92db4db8b537d7b72b4ef374\n",
            "Successfully built cairocffi\n",
            "Installing collected packages: cairocffi, texttable, python-igraph\n",
            "Successfully installed cairocffi-1.2.0 python-igraph-0.9.1 texttable-1.6.3\n"
          ],
          "name": "stdout"
        }
      ]
    },
    {
      "cell_type": "code",
      "metadata": {
        "id": "xMS2jXQXjMup"
      },
      "source": [
        "# Importação das bibliotecas\n",
        "from igraph import Graph\n",
        "from igraph import plot"
      ],
      "execution_count": 2,
      "outputs": []
    },
    {
      "cell_type": "code",
      "metadata": {
        "id": "msPFhoBHjMur"
      },
      "source": [
        "# Criação de um gráfico direcionado com pesos entre as arestas\n",
        "grafo = Graph(edges = [(0,2),(0,1),(1,4),(1,5),(2,3),(6,7),(3,7),(4,7),(5,6)],\n",
        "                       directed = True)\n",
        "grafo.vs['label'] = ['A', 'B', 'C', 'D', 'E', 'F', 'G', 'H']\n",
        "grafo.es['weight'] = [2,1,2,1,2,1,3,1]"
      ],
      "execution_count": 3,
      "outputs": []
    },
    {
      "cell_type": "code",
      "metadata": {
        "colab": {
          "base_uri": "https://localhost:8080/",
          "height": 421
        },
        "id": "rAUDDVWqjMut",
        "outputId": "7be0975f-7d3c-4aa1-ac05-79dafb17e565"
      },
      "source": [
        "# Visualização dos resultados\n",
        "plot(grafo, bbox = (0,0,300,300), edge_label = grafo.es['weight'])"
      ],
      "execution_count": 4,
      "outputs": [
        {
          "output_type": "execute_result",
          "data": {
            "text/plain": [
              "<igraph.drawing.Plot at 0x7effbcaf56d0>"
            ],
            "image/svg+xml": "<?xml version=\"1.0\" encoding=\"UTF-8\"?>\n<svg xmlns=\"http://www.w3.org/2000/svg\" xmlns:xlink=\"http://www.w3.org/1999/xlink\" width=\"300pt\" height=\"300pt\" viewBox=\"0 0 300 300\" version=\"1.1\">\n<defs>\n<g>\n<symbol overflow=\"visible\" id=\"glyph0-0\">\n<path style=\"stroke:none;\" d=\"M 0.46875 0 L 0.46875 -9.328125 L 4.1875 -9.328125 L 4.1875 0 Z M 0.9375 -0.46875 L 3.71875 -0.46875 L 3.71875 -8.859375 L 0.9375 -8.859375 Z M 0.9375 -0.46875 \"/>\n</symbol>\n<symbol overflow=\"visible\" id=\"glyph0-1\">\n<path style=\"stroke:none;\" d=\"M 7.0625 0 L 6.125 -2.609375 L 2.28125 -2.609375 L 1.34375 0 L 0 0 L 3.484375 -9.21875 L 4.96875 -9.21875 L 8.390625 0 Z M 4.796875 -6.515625 C 4.734375 -6.691406 4.671875 -6.867188 4.609375 -7.046875 C 4.546875 -7.222656 4.488281 -7.390625 4.4375 -7.546875 C 4.382812 -7.710938 4.335938 -7.851562 4.296875 -7.96875 C 4.253906 -8.09375 4.226562 -8.179688 4.21875 -8.234375 C 4.195312 -8.179688 4.164062 -8.09375 4.125 -7.96875 C 4.09375 -7.84375 4.050781 -7.703125 4 -7.546875 C 3.945312 -7.390625 3.890625 -7.222656 3.828125 -7.046875 C 3.773438 -6.867188 3.71875 -6.691406 3.65625 -6.515625 L 2.625 -3.625 L 5.796875 -3.625 Z M 4.796875 -6.515625 \"/>\n</symbol>\n<symbol overflow=\"visible\" id=\"glyph0-2\">\n<path style=\"stroke:none;\" d=\"M 7.875 -2.59375 C 7.875 -2.125 7.773438 -1.722656 7.578125 -1.390625 C 7.390625 -1.066406 7.132812 -0.800781 6.8125 -0.59375 C 6.488281 -0.382812 6.113281 -0.234375 5.6875 -0.140625 C 5.257812 -0.046875 4.804688 0 4.328125 0 L 1.109375 0 L 1.109375 -9.21875 L 3.921875 -9.21875 C 4.453125 -9.21875 4.925781 -9.175781 5.34375 -9.09375 C 5.769531 -9.007812 6.128906 -8.875 6.421875 -8.6875 C 6.710938 -8.507812 6.929688 -8.28125 7.078125 -8 C 7.234375 -7.71875 7.3125 -7.378906 7.3125 -6.984375 C 7.3125 -6.734375 7.273438 -6.488281 7.203125 -6.25 C 7.128906 -6.019531 7.015625 -5.8125 6.859375 -5.625 C 6.703125 -5.445312 6.507812 -5.289062 6.28125 -5.15625 C 6.0625 -5.019531 5.796875 -4.921875 5.484375 -4.859375 C 5.867188 -4.816406 6.207031 -4.734375 6.5 -4.609375 C 6.800781 -4.484375 7.050781 -4.320312 7.25 -4.125 C 7.457031 -3.925781 7.613281 -3.695312 7.71875 -3.4375 C 7.820312 -3.175781 7.875 -2.894531 7.875 -2.59375 Z M 6 -6.828125 C 6 -7.304688 5.828125 -7.648438 5.484375 -7.859375 C 5.140625 -8.066406 4.625 -8.171875 3.9375 -8.171875 L 2.40625 -8.171875 L 2.40625 -5.328125 L 3.953125 -5.328125 C 4.316406 -5.328125 4.628906 -5.363281 4.890625 -5.4375 C 5.148438 -5.507812 5.363281 -5.609375 5.53125 -5.734375 C 5.695312 -5.867188 5.816406 -6.023438 5.890625 -6.203125 C 5.960938 -6.390625 6 -6.597656 6 -6.828125 Z M 6.5625 -2.71875 C 6.5625 -3 6.5 -3.238281 6.375 -3.4375 C 6.257812 -3.644531 6.097656 -3.8125 5.890625 -3.9375 C 5.679688 -4.070312 5.425781 -4.164062 5.125 -4.21875 C 4.832031 -4.28125 4.503906 -4.3125 4.140625 -4.3125 L 2.40625 -4.3125 L 2.40625 -1.046875 L 4.234375 -1.046875 C 4.566406 -1.046875 4.875 -1.070312 5.15625 -1.125 C 5.4375 -1.175781 5.679688 -1.265625 5.890625 -1.390625 C 6.097656 -1.523438 6.257812 -1.695312 6.375 -1.90625 C 6.5 -2.125 6.5625 -2.394531 6.5625 -2.71875 Z M 6.5625 -2.71875 \"/>\n</symbol>\n<symbol overflow=\"visible\" id=\"glyph0-3\">\n<path style=\"stroke:none;\" d=\"M 2.140625 -4.65625 C 2.140625 -4.0625 2.1875 -3.53125 2.28125 -3.0625 C 2.375 -2.601562 2.515625 -2.210938 2.703125 -1.890625 C 2.898438 -1.578125 3.144531 -1.335938 3.4375 -1.171875 C 3.738281 -1.003906 4.097656 -0.921875 4.515625 -0.921875 C 4.804688 -0.921875 5.066406 -0.972656 5.296875 -1.078125 C 5.523438 -1.191406 5.726562 -1.335938 5.90625 -1.515625 C 6.09375 -1.691406 6.25 -1.894531 6.375 -2.125 C 6.507812 -2.363281 6.625 -2.601562 6.71875 -2.84375 L 7.8125 -2.40625 C 7.675781 -2.082031 7.515625 -1.769531 7.328125 -1.46875 C 7.148438 -1.164062 6.925781 -0.894531 6.65625 -0.65625 C 6.394531 -0.414062 6.085938 -0.222656 5.734375 -0.078125 C 5.378906 0.0664062 4.96875 0.140625 4.5 0.140625 C 3.863281 0.140625 3.3125 0.0234375 2.84375 -0.203125 C 2.375 -0.429688 1.984375 -0.753906 1.671875 -1.171875 C 1.367188 -1.597656 1.140625 -2.101562 0.984375 -2.6875 C 0.835938 -3.28125 0.765625 -3.9375 0.765625 -4.65625 C 0.765625 -5.414062 0.835938 -6.085938 0.984375 -6.671875 C 1.128906 -7.253906 1.351562 -7.742188 1.65625 -8.140625 C 1.957031 -8.546875 2.335938 -8.847656 2.796875 -9.046875 C 3.265625 -9.253906 3.8125 -9.359375 4.4375 -9.359375 C 4.894531 -9.359375 5.296875 -9.296875 5.640625 -9.171875 C 5.992188 -9.046875 6.296875 -8.878906 6.546875 -8.671875 C 6.796875 -8.460938 7.007812 -8.21875 7.1875 -7.9375 C 7.363281 -7.664062 7.507812 -7.378906 7.625 -7.078125 L 6.46875 -6.625 C 6.40625 -6.84375 6.3125 -7.050781 6.1875 -7.25 C 6.070312 -7.445312 5.929688 -7.625 5.765625 -7.78125 C 5.597656 -7.9375 5.40625 -8.0625 5.1875 -8.15625 C 4.96875 -8.25 4.71875 -8.296875 4.4375 -8.296875 C 4.03125 -8.296875 3.679688 -8.21875 3.390625 -8.0625 C 3.109375 -7.90625 2.875 -7.671875 2.6875 -7.359375 C 2.5 -7.054688 2.359375 -6.675781 2.265625 -6.21875 C 2.179688 -5.769531 2.140625 -5.25 2.140625 -4.65625 Z M 2.140625 -4.65625 \"/>\n</symbol>\n<symbol overflow=\"visible\" id=\"glyph0-4\">\n<path style=\"stroke:none;\" d=\"M 7.6875 -4.703125 C 7.6875 -3.941406 7.59375 -3.265625 7.40625 -2.671875 C 7.226562 -2.085938 6.96875 -1.597656 6.625 -1.203125 C 6.28125 -0.804688 5.851562 -0.503906 5.34375 -0.296875 C 4.84375 -0.0976562 4.273438 0 3.640625 0 L 1.109375 0 L 1.109375 -9.21875 L 3.234375 -9.21875 C 3.953125 -9.21875 4.585938 -9.128906 5.140625 -8.953125 C 5.691406 -8.785156 6.15625 -8.515625 6.53125 -8.140625 C 6.914062 -7.773438 7.203125 -7.304688 7.390625 -6.734375 C 7.585938 -6.160156 7.6875 -5.484375 7.6875 -4.703125 Z M 6.375 -4.703125 C 6.375 -5.316406 6.3125 -5.84375 6.1875 -6.28125 C 6.0625 -6.71875 5.867188 -7.070312 5.609375 -7.34375 C 5.347656 -7.625 5.019531 -7.828125 4.625 -7.953125 C 4.238281 -8.085938 3.773438 -8.15625 3.234375 -8.15625 L 2.40625 -8.15625 L 2.40625 -1.0625 L 3.515625 -1.0625 C 4.484375 -1.0625 5.203125 -1.363281 5.671875 -1.96875 C 6.140625 -2.582031 6.375 -3.492188 6.375 -4.703125 Z M 6.375 -4.703125 \"/>\n</symbol>\n<symbol overflow=\"visible\" id=\"glyph0-5\">\n<path style=\"stroke:none;\" d=\"M 1.109375 0 L 1.109375 -9.21875 L 7.390625 -9.21875 L 7.390625 -8.15625 L 2.40625 -8.15625 L 2.40625 -5.265625 L 6.984375 -5.265625 L 6.984375 -4.21875 L 2.40625 -4.21875 L 2.40625 -1.0625 L 7.671875 -1.0625 L 7.671875 0 Z M 1.109375 0 \"/>\n</symbol>\n<symbol overflow=\"visible\" id=\"glyph0-6\">\n<path style=\"stroke:none;\" d=\"M 2.625 -8.15625 L 2.625 -4.78125 L 7.25 -4.78125 L 7.25 -3.703125 L 2.625 -3.703125 L 2.625 0 L 1.328125 0 L 1.328125 -9.21875 L 7.421875 -9.21875 L 7.421875 -8.15625 Z M 2.625 -8.15625 \"/>\n</symbol>\n<symbol overflow=\"visible\" id=\"glyph0-7\">\n<path style=\"stroke:none;\" d=\"M 7.53125 -0.90625 C 7.363281 -0.800781 7.171875 -0.6875 6.953125 -0.5625 C 6.734375 -0.4375 6.492188 -0.320312 6.234375 -0.21875 C 5.972656 -0.113281 5.6875 -0.03125 5.375 0.03125 C 5.0625 0.101562 4.726562 0.140625 4.375 0.140625 C 3.757812 0.140625 3.222656 0.0195312 2.765625 -0.21875 C 2.316406 -0.457031 1.941406 -0.789062 1.640625 -1.21875 C 1.347656 -1.644531 1.128906 -2.148438 0.984375 -2.734375 C 0.835938 -3.316406 0.765625 -3.957031 0.765625 -4.65625 C 0.765625 -5.414062 0.835938 -6.085938 0.984375 -6.671875 C 1.128906 -7.253906 1.347656 -7.742188 1.640625 -8.140625 C 1.929688 -8.546875 2.304688 -8.847656 2.765625 -9.046875 C 3.222656 -9.253906 3.765625 -9.359375 4.390625 -9.359375 C 4.847656 -9.359375 5.25 -9.300781 5.59375 -9.1875 C 5.9375 -9.070312 6.234375 -8.910156 6.484375 -8.703125 C 6.734375 -8.503906 6.941406 -8.265625 7.109375 -7.984375 C 7.285156 -7.710938 7.429688 -7.421875 7.546875 -7.109375 L 6.375 -6.71875 C 6.195312 -7.21875 5.945312 -7.601562 5.625 -7.875 C 5.3125 -8.15625 4.90625 -8.296875 4.40625 -8.296875 C 3.988281 -8.296875 3.632812 -8.21875 3.34375 -8.0625 C 3.0625 -7.90625 2.832031 -7.671875 2.65625 -7.359375 C 2.476562 -7.054688 2.347656 -6.675781 2.265625 -6.21875 C 2.179688 -5.769531 2.140625 -5.25 2.140625 -4.65625 C 2.140625 -3.4375 2.332031 -2.507812 2.71875 -1.875 C 3.101562 -1.238281 3.691406 -0.921875 4.484375 -0.921875 C 4.703125 -0.921875 4.90625 -0.941406 5.09375 -0.984375 C 5.28125 -1.023438 5.445312 -1.070312 5.59375 -1.125 C 5.75 -1.175781 5.882812 -1.226562 6 -1.28125 C 6.113281 -1.34375 6.195312 -1.390625 6.25 -1.421875 L 6.25 -3.71875 L 4.25 -3.71875 L 4.25 -4.8125 L 7.53125 -4.8125 Z M 7.53125 -0.90625 \"/>\n</symbol>\n<symbol overflow=\"visible\" id=\"glyph0-8\">\n<path style=\"stroke:none;\" d=\"M 5.984375 0 L 5.984375 -4.265625 L 2.40625 -4.265625 L 2.40625 0 L 1.109375 0 L 1.109375 -9.21875 L 2.40625 -9.21875 L 2.40625 -5.359375 L 5.984375 -5.359375 L 5.984375 -9.21875 L 7.28125 -9.21875 L 7.28125 0 Z M 5.984375 0 \"/>\n</symbol>\n<symbol overflow=\"visible\" id=\"glyph1-0\">\n<path style=\"stroke:none;\" d=\"M 0.40625 0 L 0.40625 -8 L 3.59375 -8 L 3.59375 0 Z M 0.796875 -0.40625 L 3.1875 -0.40625 L 3.1875 -7.59375 L 0.796875 -7.59375 Z M 0.796875 -0.40625 \"/>\n</symbol>\n<symbol overflow=\"visible\" id=\"glyph1-1\">\n<path style=\"stroke:none;\" d=\"M 0.84375 0 L 0.84375 -0.6875 C 1.019531 -1.0625 1.25 -1.410156 1.53125 -1.734375 C 1.8125 -2.054688 2.109375 -2.359375 2.421875 -2.640625 C 2.742188 -2.921875 3.066406 -3.191406 3.390625 -3.453125 C 3.710938 -3.710938 4 -3.96875 4.25 -4.21875 C 4.507812 -4.46875 4.722656 -4.722656 4.890625 -4.984375 C 5.054688 -5.242188 5.140625 -5.519531 5.140625 -5.8125 C 5.140625 -6.039062 5.097656 -6.238281 5.015625 -6.40625 C 4.941406 -6.582031 4.835938 -6.722656 4.703125 -6.828125 C 4.566406 -6.941406 4.398438 -7.023438 4.203125 -7.078125 C 4.015625 -7.128906 3.804688 -7.15625 3.578125 -7.15625 C 3.367188 -7.15625 3.171875 -7.125 2.984375 -7.0625 C 2.804688 -7.007812 2.648438 -6.925781 2.515625 -6.8125 C 2.378906 -6.695312 2.265625 -6.550781 2.171875 -6.375 C 2.085938 -6.195312 2.035156 -5.992188 2.015625 -5.765625 L 0.9375 -5.859375 C 0.96875 -6.160156 1.046875 -6.441406 1.171875 -6.703125 C 1.296875 -6.960938 1.46875 -7.191406 1.6875 -7.390625 C 1.90625 -7.585938 2.171875 -7.742188 2.484375 -7.859375 C 2.796875 -7.972656 3.160156 -8.03125 3.578125 -8.03125 C 3.992188 -8.03125 4.363281 -7.984375 4.6875 -7.890625 C 5.007812 -7.796875 5.285156 -7.65625 5.515625 -7.46875 C 5.742188 -7.289062 5.914062 -7.066406 6.03125 -6.796875 C 6.15625 -6.523438 6.21875 -6.21875 6.21875 -5.875 C 6.21875 -5.507812 6.132812 -5.164062 5.96875 -4.84375 C 5.800781 -4.53125 5.582031 -4.234375 5.3125 -3.953125 C 5.050781 -3.671875 4.757812 -3.398438 4.4375 -3.140625 C 4.125 -2.890625 3.8125 -2.640625 3.5 -2.390625 C 3.195312 -2.140625 2.921875 -1.890625 2.671875 -1.640625 C 2.421875 -1.390625 2.234375 -1.128906 2.109375 -0.859375 L 6.359375 -0.859375 L 6.359375 0 Z M 0.84375 0 \"/>\n</symbol>\n<symbol overflow=\"visible\" id=\"glyph1-2\">\n<path style=\"stroke:none;\" d=\"M 0.921875 0 L 0.921875 -0.84375 L 3.5 -0.84375 L 3.5 -6.828125 C 3.414062 -6.671875 3.28125 -6.523438 3.09375 -6.390625 C 2.90625 -6.253906 2.691406 -6.132812 2.453125 -6.03125 C 2.210938 -5.925781 1.953125 -5.84375 1.671875 -5.78125 C 1.390625 -5.726562 1.125 -5.703125 0.875 -5.703125 L 0.875 -6.5625 C 1.15625 -6.5625 1.4375 -6.59375 1.71875 -6.65625 C 2 -6.726562 2.257812 -6.820312 2.5 -6.9375 C 2.738281 -7.0625 2.953125 -7.203125 3.140625 -7.359375 C 3.328125 -7.523438 3.472656 -7.707031 3.578125 -7.90625 L 4.546875 -7.90625 L 4.546875 -0.84375 L 6.625 -0.84375 L 6.625 0 Z M 0.921875 0 \"/>\n</symbol>\n<symbol overflow=\"visible\" id=\"glyph1-3\">\n<path style=\"stroke:none;\" d=\"M 6.4375 -2.171875 C 6.4375 -1.816406 6.375 -1.492188 6.25 -1.203125 C 6.132812 -0.921875 5.957031 -0.679688 5.71875 -0.484375 C 5.476562 -0.296875 5.179688 -0.144531 4.828125 -0.03125 C 4.484375 0.0703125 4.085938 0.125 3.640625 0.125 C 3.128906 0.125 2.695312 0.0625 2.34375 -0.0625 C 2 -0.195312 1.710938 -0.367188 1.484375 -0.578125 C 1.253906 -0.785156 1.082031 -1.019531 0.96875 -1.28125 C 0.851562 -1.550781 0.78125 -1.832031 0.75 -2.125 L 1.84375 -2.21875 C 1.875 -2 1.929688 -1.800781 2.015625 -1.625 C 2.097656 -1.445312 2.210938 -1.289062 2.359375 -1.15625 C 2.503906 -1.03125 2.679688 -0.929688 2.890625 -0.859375 C 3.109375 -0.785156 3.359375 -0.75 3.640625 -0.75 C 4.171875 -0.75 4.585938 -0.875 4.890625 -1.125 C 5.191406 -1.375 5.34375 -1.734375 5.34375 -2.203125 C 5.34375 -2.472656 5.273438 -2.691406 5.140625 -2.859375 C 5.003906 -3.035156 4.835938 -3.175781 4.640625 -3.28125 C 4.441406 -3.382812 4.222656 -3.457031 3.984375 -3.5 C 3.742188 -3.539062 3.523438 -3.5625 3.328125 -3.5625 L 2.734375 -3.5625 L 2.734375 -4.484375 L 3.3125 -4.484375 C 3.507812 -4.484375 3.710938 -4.503906 3.921875 -4.546875 C 4.140625 -4.597656 4.335938 -4.675781 4.515625 -4.78125 C 4.691406 -4.894531 4.835938 -5.035156 4.953125 -5.203125 C 5.066406 -5.378906 5.125 -5.59375 5.125 -5.84375 C 5.125 -6.257812 4.992188 -6.582031 4.734375 -6.8125 C 4.472656 -7.039062 4.085938 -7.15625 3.578125 -7.15625 C 3.117188 -7.15625 2.742188 -7.035156 2.453125 -6.796875 C 2.160156 -6.566406 1.992188 -6.234375 1.953125 -5.796875 L 0.890625 -5.875 C 0.929688 -6.238281 1.03125 -6.554688 1.1875 -6.828125 C 1.34375 -7.097656 1.539062 -7.320312 1.78125 -7.5 C 2.019531 -7.675781 2.296875 -7.804688 2.609375 -7.890625 C 2.921875 -7.984375 3.25 -8.03125 3.59375 -8.03125 C 4.0625 -8.03125 4.457031 -7.972656 4.78125 -7.859375 C 5.113281 -7.753906 5.382812 -7.609375 5.59375 -7.421875 C 5.800781 -7.234375 5.957031 -7.007812 6.0625 -6.75 C 6.164062 -6.5 6.21875 -6.234375 6.21875 -5.953125 C 6.21875 -5.734375 6.179688 -5.523438 6.109375 -5.328125 C 6.035156 -5.128906 5.925781 -4.945312 5.78125 -4.78125 C 5.632812 -4.613281 5.453125 -4.46875 5.234375 -4.34375 C 5.023438 -4.21875 4.773438 -4.125 4.484375 -4.0625 L 4.484375 -4.03125 C 4.804688 -4 5.085938 -3.925781 5.328125 -3.8125 C 5.578125 -3.695312 5.78125 -3.550781 5.9375 -3.375 C 6.101562 -3.207031 6.226562 -3.019531 6.3125 -2.8125 C 6.394531 -2.601562 6.4375 -2.390625 6.4375 -2.171875 Z M 6.4375 -2.171875 \"/>\n</symbol>\n</g>\n</defs>\n<g id=\"surface2\">\n<rect x=\"0\" y=\"0\" width=\"300\" height=\"300\" style=\"fill:rgb(100%,100%,100%);fill-opacity:1;stroke:none;\"/>\n<path style=\"fill:none;stroke-width:1;stroke-linecap:butt;stroke-linejoin:miter;stroke:rgb(26.666667%,26.666667%,26.666667%);stroke-opacity:1;stroke-miterlimit:10;\" d=\"M 207.296875 34.332031 L 108.378906 22.808594 \"/>\n<path style=\" stroke:none;fill-rule:nonzero;fill:rgb(26.666667%,26.666667%,26.666667%);fill-opacity:1;\" d=\"M 94.210938 21.15625 L 108.917969 18.203125 L 107.84375 27.410156 L 94.210938 21.15625 \"/>\n<path style=\"fill:none;stroke-width:1;stroke-linecap:butt;stroke-linejoin:miter;stroke:rgb(26.666667%,26.666667%,26.666667%);stroke-opacity:1;stroke-miterlimit:10;\" d=\"M 207.296875 34.332031 L 253.324219 112.523438 \"/>\n<path style=\" stroke:none;fill-rule:nonzero;fill:rgb(26.666667%,26.666667%,26.666667%);fill-opacity:1;\" d=\"M 260.558594 124.816406 L 249.328125 114.875 L 257.316406 110.171875 L 260.558594 124.816406 \"/>\n<path style=\"fill:none;stroke-width:1;stroke-linecap:butt;stroke-linejoin:miter;stroke:rgb(26.666667%,26.666667%,26.666667%);stroke-opacity:1;stroke-miterlimit:10;\" d=\"M 265.632812 133.433594 L 196.496094 162.800781 \"/>\n<path style=\" stroke:none;fill-rule:nonzero;fill:rgb(26.666667%,26.666667%,26.666667%);fill-opacity:1;\" d=\"M 183.363281 168.375 L 194.683594 158.535156 L 198.304688 167.066406 L 183.363281 168.375 \"/>\n<path style=\"fill:none;stroke-width:1;stroke-linecap:butt;stroke-linejoin:miter;stroke:rgb(26.666667%,26.666667%,26.666667%);stroke-opacity:1;stroke-miterlimit:10;\" d=\"M 265.632812 133.433594 L 276.710938 214.375 \"/>\n<path style=\" stroke:none;fill-rule:nonzero;fill:rgb(26.666667%,26.666667%,26.666667%);fill-opacity:1;\" d=\"M 278.644531 228.507812 L 272.117188 215.003906 L 281.300781 213.746094 L 278.644531 228.507812 \"/>\n<path style=\"fill:none;stroke-width:1;stroke-linecap:butt;stroke-linejoin:miter;stroke:rgb(26.666667%,26.666667%,26.666667%);stroke-opacity:1;stroke-miterlimit:10;\" d=\"M 84.277344 20 L 34.605469 85.890625 \"/>\n<path style=\" stroke:none;fill-rule:nonzero;fill:rgb(26.666667%,26.666667%,26.666667%);fill-opacity:1;\" d=\"M 26.019531 97.285156 L 30.90625 83.101562 L 38.308594 88.683594 L 26.019531 97.285156 \"/>\n<path style=\"fill:none;stroke-width:1;stroke-linecap:butt;stroke-linejoin:miter;stroke:rgb(26.666667%,26.666667%,26.666667%);stroke-opacity:1;stroke-miterlimit:10;\" d=\"M 170.058594 280 L 97.183594 219.761719 \"/>\n<path style=\" stroke:none;fill-rule:nonzero;fill:rgb(26.666667%,26.666667%,26.666667%);fill-opacity:1;\" d=\"M 86.1875 210.671875 L 100.136719 216.1875 L 94.230469 223.335938 L 86.1875 210.671875 \"/>\n<path style=\"fill:none;stroke-width:1;stroke-linecap:butt;stroke-linejoin:miter;stroke:rgb(26.666667%,26.666667%,26.666667%);stroke-opacity:1;stroke-miterlimit:10;\" d=\"M 20 105.269531 L 66.140625 183.40625 \"/>\n<path style=\" stroke:none;fill-rule:nonzero;fill:rgb(26.666667%,26.666667%,26.666667%);fill-opacity:1;\" d=\"M 73.394531 195.691406 L 62.148438 185.765625 L 70.132812 181.050781 L 73.394531 195.691406 \"/>\n<path style=\"fill:none;stroke-width:1;stroke-linecap:butt;stroke-linejoin:miter;stroke:rgb(26.666667%,26.666667%,26.666667%);stroke-opacity:1;stroke-miterlimit:10;\" d=\"M 174.160156 172.285156 L 101.492188 196.601562 \"/>\n<path style=\" stroke:none;fill-rule:nonzero;fill:rgb(26.666667%,26.666667%,26.666667%);fill-opacity:1;\" d=\"M 87.964844 201.128906 L 100.019531 192.207031 L 102.960938 200.996094 L 87.964844 201.128906 \"/>\n<path style=\"fill:none;stroke-width:1;stroke-linecap:butt;stroke-linejoin:miter;stroke:rgb(26.666667%,26.666667%,26.666667%);stroke-opacity:1;stroke-miterlimit:10;\" d=\"M 280 238.417969 L 192.753906 271.414062 \"/>\n<path style=\" stroke:none;fill-rule:nonzero;fill:rgb(26.666667%,26.666667%,26.666667%);fill-opacity:1;\" d=\"M 179.410156 276.460938 L 191.113281 267.078125 L 194.394531 275.75 L 179.410156 276.460938 \"/>\n<path style=\"fill-rule:nonzero;fill:rgb(100%,0%,0%);fill-opacity:1;stroke-width:1;stroke-linecap:butt;stroke-linejoin:miter;stroke:rgb(0%,0%,0%);stroke-opacity:1;stroke-miterlimit:10;\" d=\"M 217.296875 34.332031 C 217.296875 39.851562 212.820312 44.332031 207.296875 44.332031 C 201.773438 44.332031 197.296875 39.851562 197.296875 34.332031 C 197.296875 28.808594 201.773438 24.332031 207.296875 24.332031 C 212.820312 24.332031 217.296875 28.808594 217.296875 34.332031 \"/>\n<path style=\"fill-rule:nonzero;fill:rgb(100%,0%,0%);fill-opacity:1;stroke-width:1;stroke-linecap:butt;stroke-linejoin:miter;stroke:rgb(0%,0%,0%);stroke-opacity:1;stroke-miterlimit:10;\" d=\"M 275.632812 133.433594 C 275.632812 138.957031 271.15625 143.433594 265.632812 143.433594 C 260.109375 143.433594 255.632812 138.957031 255.632812 133.433594 C 255.632812 127.914062 260.109375 123.433594 265.632812 123.433594 C 271.15625 123.433594 275.632812 127.914062 275.632812 133.433594 \"/>\n<path style=\"fill-rule:nonzero;fill:rgb(100%,0%,0%);fill-opacity:1;stroke-width:1;stroke-linecap:butt;stroke-linejoin:miter;stroke:rgb(0%,0%,0%);stroke-opacity:1;stroke-miterlimit:10;\" d=\"M 94.277344 20 C 94.277344 25.523438 89.800781 30 84.277344 30 C 78.753906 30 74.277344 25.523438 74.277344 20 C 74.277344 14.476562 78.753906 10 84.277344 10 C 89.800781 10 94.277344 14.476562 94.277344 20 \"/>\n<path style=\"fill-rule:nonzero;fill:rgb(100%,0%,0%);fill-opacity:1;stroke-width:1;stroke-linecap:butt;stroke-linejoin:miter;stroke:rgb(0%,0%,0%);stroke-opacity:1;stroke-miterlimit:10;\" d=\"M 30 105.269531 C 30 110.792969 25.523438 115.269531 20 115.269531 C 14.476562 115.269531 10 110.792969 10 105.269531 C 10 99.746094 14.476562 95.269531 20 95.269531 C 25.523438 95.269531 30 99.746094 30 105.269531 \"/>\n<path style=\"fill-rule:nonzero;fill:rgb(100%,0%,0%);fill-opacity:1;stroke-width:1;stroke-linecap:butt;stroke-linejoin:miter;stroke:rgb(0%,0%,0%);stroke-opacity:1;stroke-miterlimit:10;\" d=\"M 184.160156 172.285156 C 184.160156 177.808594 179.683594 182.285156 174.160156 182.285156 C 168.636719 182.285156 164.160156 177.808594 164.160156 172.285156 C 164.160156 166.761719 168.636719 162.285156 174.160156 162.285156 C 179.683594 162.285156 184.160156 166.761719 184.160156 172.285156 \"/>\n<path style=\"fill-rule:nonzero;fill:rgb(100%,0%,0%);fill-opacity:1;stroke-width:1;stroke-linecap:butt;stroke-linejoin:miter;stroke:rgb(0%,0%,0%);stroke-opacity:1;stroke-miterlimit:10;\" d=\"M 290 238.417969 C 290 243.941406 285.523438 248.417969 280 248.417969 C 274.476562 248.417969 270 243.941406 270 238.417969 C 270 232.894531 274.476562 228.417969 280 228.417969 C 285.523438 228.417969 290 232.894531 290 238.417969 \"/>\n<path style=\"fill-rule:nonzero;fill:rgb(100%,0%,0%);fill-opacity:1;stroke-width:1;stroke-linecap:butt;stroke-linejoin:miter;stroke:rgb(0%,0%,0%);stroke-opacity:1;stroke-miterlimit:10;\" d=\"M 180.058594 280 C 180.058594 285.523438 175.582031 290 170.058594 290 C 164.535156 290 160.058594 285.523438 160.058594 280 C 160.058594 274.476562 164.535156 270 170.058594 270 C 175.582031 270 180.058594 274.476562 180.058594 280 \"/>\n<path style=\"fill-rule:nonzero;fill:rgb(100%,0%,0%);fill-opacity:1;stroke-width:1;stroke-linecap:butt;stroke-linejoin:miter;stroke:rgb(0%,0%,0%);stroke-opacity:1;stroke-miterlimit:10;\" d=\"M 88.480469 204.300781 C 88.480469 209.824219 84.003906 214.300781 78.480469 214.300781 C 72.957031 214.300781 68.480469 209.824219 68.480469 204.300781 C 68.480469 198.777344 72.957031 194.300781 78.480469 194.300781 C 84.003906 194.300781 88.480469 198.777344 88.480469 204.300781 \"/>\n<g style=\"fill:rgb(0%,0%,0%);fill-opacity:1;\">\n  <use xlink:href=\"#glyph0-1\" x=\"203.097656\" y=\"41.042969\"/>\n</g>\n<g style=\"fill:rgb(0%,0%,0%);fill-opacity:1;\">\n  <use xlink:href=\"#glyph0-2\" x=\"261.140625\" y=\"140.148438\"/>\n</g>\n<g style=\"fill:rgb(0%,0%,0%);fill-opacity:1;\">\n  <use xlink:href=\"#glyph0-3\" x=\"79.988281\" y=\"26.785156\"/>\n</g>\n<g style=\"fill:rgb(0%,0%,0%);fill-opacity:1;\">\n  <use xlink:href=\"#glyph0-4\" x=\"15.601562\" y=\"111.980469\"/>\n</g>\n<g style=\"fill:rgb(0%,0%,0%);fill-opacity:1;\">\n  <use xlink:href=\"#glyph0-5\" x=\"169.769531\" y=\"179\"/>\n</g>\n<g style=\"fill:rgb(0%,0%,0%);fill-opacity:1;\">\n  <use xlink:href=\"#glyph0-6\" x=\"275.628906\" y=\"245.128906\"/>\n</g>\n<g style=\"fill:rgb(0%,0%,0%);fill-opacity:1;\">\n  <use xlink:href=\"#glyph0-7\" x=\"165.902344\" y=\"286.785156\"/>\n</g>\n<g style=\"fill:rgb(0%,0%,0%);fill-opacity:1;\">\n  <use xlink:href=\"#glyph0-8\" x=\"74.28125\" y=\"211.015625\"/>\n</g>\n<g style=\"fill:rgb(0%,0%,0%);fill-opacity:1;\">\n  <use xlink:href=\"#glyph1-1\" x=\"139.433594\" y=\"40.757812\"/>\n</g>\n<g style=\"fill:rgb(0%,0%,0%);fill-opacity:1;\">\n  <use xlink:href=\"#glyph1-2\" x=\"235.597656\" y=\"89.636719\"/>\n</g>\n<g style=\"fill:rgb(0%,0%,0%);fill-opacity:1;\">\n  <use xlink:href=\"#glyph1-1\" x=\"219.050781\" y=\"166.453125\"/>\n</g>\n<g style=\"fill:rgb(0%,0%,0%);fill-opacity:1;\">\n  <use xlink:href=\"#glyph1-2\" x=\"271.949219\" y=\"191.679688\"/>\n</g>\n<g style=\"fill:rgb(0%,0%,0%);fill-opacity:1;\">\n  <use xlink:href=\"#glyph1-1\" x=\"51.296875\" y=\"68.449219\"/>\n</g>\n<g style=\"fill:rgb(0%,0%,0%);fill-opacity:1;\">\n  <use xlink:href=\"#glyph1-2\" x=\"117.648438\" y=\"255.746094\"/>\n</g>\n<g style=\"fill:rgb(0%,0%,0%);fill-opacity:1;\">\n  <use xlink:href=\"#glyph1-3\" x=\"48.488281\" y=\"160.601562\"/>\n</g>\n<g style=\"fill:rgb(0%,0%,0%);fill-opacity:1;\">\n  <use xlink:href=\"#glyph1-2\" x=\"125.453125\" y=\"201.886719\"/>\n</g>\n<g style=\"fill:rgb(0%,0%,0%);fill-opacity:1;\">\n  <use xlink:href=\"#glyph1-1\" x=\"224.183594\" y=\"272.800781\"/>\n</g>\n</g>\n</svg>\n"
          },
          "metadata": {
            "tags": [],
            "image/svg+xml": {
              "isolated": true
            }
          },
          "execution_count": 4
        }
      ]
    },
    {
      "cell_type": "code",
      "metadata": {
        "colab": {
          "base_uri": "https://localhost:8080/"
        },
        "id": "MUaZEysXjMuu",
        "outputId": "1935edf8-aea3-469a-9225-bceda56c06b1"
      },
      "source": [
        "# Menor caminho entre A - H (retorna os vértices)\n",
        "caminho_vertice = grafo.get_shortest_paths(0,7, output = 'vpath')\n",
        "caminho_vertice"
      ],
      "execution_count": 5,
      "outputs": [
        {
          "output_type": "execute_result",
          "data": {
            "text/plain": [
              "[[0, 1, 4, 7]]"
            ]
          },
          "metadata": {
            "tags": []
          },
          "execution_count": 5
        }
      ]
    },
    {
      "cell_type": "code",
      "metadata": {
        "colab": {
          "base_uri": "https://localhost:8080/"
        },
        "id": "OCpHYe0KjMuv",
        "outputId": "b24b84ac-a12b-4589-9288-acb4369609b6"
      },
      "source": [
        "# Retorna as arestas que ligam os dois vértices\n",
        "caminho_aresta = grafo.get_shortest_paths(0,7, output = 'epath')\n",
        "caminho_aresta"
      ],
      "execution_count": 6,
      "outputs": [
        {
          "output_type": "execute_result",
          "data": {
            "text/plain": [
              "[[1, 2, 7]]"
            ]
          },
          "metadata": {
            "tags": []
          },
          "execution_count": 6
        }
      ]
    },
    {
      "cell_type": "code",
      "metadata": {
        "colab": {
          "base_uri": "https://localhost:8080/"
        },
        "id": "LA8QhKFLjMux",
        "outputId": "20e9816b-6862-474b-f765-62931f9bea82"
      },
      "source": [
        "# Mostra o ID dos vértices que fazem parte do caminho\n",
        "caminho_aresta_id = []\n",
        "for n in caminho_aresta[0]:\n",
        "    caminho_aresta_id.append(n)\n",
        "caminho_aresta_id    "
      ],
      "execution_count": 7,
      "outputs": [
        {
          "output_type": "execute_result",
          "data": {
            "text/plain": [
              "[1, 2, 7]"
            ]
          },
          "metadata": {
            "tags": []
          },
          "execution_count": 7
        }
      ]
    },
    {
      "cell_type": "code",
      "metadata": {
        "colab": {
          "base_uri": "https://localhost:8080/"
        },
        "id": "5C5RnN7ZjMuy",
        "outputId": "0ddfe937-d648-4579-c793-6ee3c4f2409b"
      },
      "source": [
        "# Mostra o nome dos vértices que fazem parte do caminho\n",
        "caminho_nome_vertices = []\n",
        "for n in caminho_vertice[0]:\n",
        "    print(grafo.vs[n]['label'])\n",
        "    caminho_nome_vertices.append(grafo.vs[n]['label'])\n",
        "caminho_nome_vertices    "
      ],
      "execution_count": 8,
      "outputs": [
        {
          "output_type": "stream",
          "text": [
            "A\n",
            "B\n",
            "E\n",
            "H\n"
          ],
          "name": "stdout"
        },
        {
          "output_type": "execute_result",
          "data": {
            "text/plain": [
              "['A', 'B', 'E', 'H']"
            ]
          },
          "metadata": {
            "tags": []
          },
          "execution_count": 8
        }
      ]
    },
    {
      "cell_type": "code",
      "metadata": {
        "id": "Iay260a9jMuz"
      },
      "source": [
        "# Colorir os vértices do caminho\n",
        "for v in grafo.vs:\n",
        "    #print(v)\n",
        "    if v['label'] in caminho_nome_vertices:\n",
        "        v['color'] = 'green'\n",
        "    else:\n",
        "        v['color'] = 'gray' "
      ],
      "execution_count": 9,
      "outputs": []
    },
    {
      "cell_type": "code",
      "metadata": {
        "id": "fn2LC9mMjMu0"
      },
      "source": [
        "# Colorir as arestas do caminho\n",
        "for e in grafo.es:\n",
        "    #print(e)\n",
        "    if e.index in caminho_aresta_id:\n",
        "        e['color'] = 'green'\n",
        "    else:\n",
        "        e['color'] = 'gray'"
      ],
      "execution_count": 10,
      "outputs": []
    },
    {
      "cell_type": "code",
      "metadata": {
        "lines_to_next_cell": 2,
        "colab": {
          "base_uri": "https://localhost:8080/",
          "height": 421
        },
        "id": "bEiEYlf0jMu1",
        "outputId": "aba1f481-bf67-4619-b017-1ea3fff0f47a"
      },
      "source": [
        "plot(grafo, bbox=(0,0,300,300))"
      ],
      "execution_count": 12,
      "outputs": [
        {
          "output_type": "execute_result",
          "data": {
            "text/plain": [
              "<igraph.drawing.Plot at 0x7effb31273d0>"
            ],
            "image/svg+xml": "<?xml version=\"1.0\" encoding=\"UTF-8\"?>\n<svg xmlns=\"http://www.w3.org/2000/svg\" xmlns:xlink=\"http://www.w3.org/1999/xlink\" width=\"300pt\" height=\"300pt\" viewBox=\"0 0 300 300\" version=\"1.1\">\n<defs>\n<g>\n<symbol overflow=\"visible\" id=\"glyph0-0\">\n<path style=\"stroke:none;\" d=\"M 0.46875 0 L 0.46875 -9.328125 L 4.1875 -9.328125 L 4.1875 0 Z M 0.9375 -0.46875 L 3.71875 -0.46875 L 3.71875 -8.859375 L 0.9375 -8.859375 Z M 0.9375 -0.46875 \"/>\n</symbol>\n<symbol overflow=\"visible\" id=\"glyph0-1\">\n<path style=\"stroke:none;\" d=\"M 7.0625 0 L 6.125 -2.609375 L 2.28125 -2.609375 L 1.34375 0 L 0 0 L 3.484375 -9.21875 L 4.96875 -9.21875 L 8.390625 0 Z M 4.796875 -6.515625 C 4.734375 -6.691406 4.671875 -6.867188 4.609375 -7.046875 C 4.546875 -7.222656 4.488281 -7.390625 4.4375 -7.546875 C 4.382812 -7.710938 4.335938 -7.851562 4.296875 -7.96875 C 4.253906 -8.09375 4.226562 -8.179688 4.21875 -8.234375 C 4.195312 -8.179688 4.164062 -8.09375 4.125 -7.96875 C 4.09375 -7.84375 4.050781 -7.703125 4 -7.546875 C 3.945312 -7.390625 3.890625 -7.222656 3.828125 -7.046875 C 3.773438 -6.867188 3.71875 -6.691406 3.65625 -6.515625 L 2.625 -3.625 L 5.796875 -3.625 Z M 4.796875 -6.515625 \"/>\n</symbol>\n<symbol overflow=\"visible\" id=\"glyph0-2\">\n<path style=\"stroke:none;\" d=\"M 7.875 -2.59375 C 7.875 -2.125 7.773438 -1.722656 7.578125 -1.390625 C 7.390625 -1.066406 7.132812 -0.800781 6.8125 -0.59375 C 6.488281 -0.382812 6.113281 -0.234375 5.6875 -0.140625 C 5.257812 -0.046875 4.804688 0 4.328125 0 L 1.109375 0 L 1.109375 -9.21875 L 3.921875 -9.21875 C 4.453125 -9.21875 4.925781 -9.175781 5.34375 -9.09375 C 5.769531 -9.007812 6.128906 -8.875 6.421875 -8.6875 C 6.710938 -8.507812 6.929688 -8.28125 7.078125 -8 C 7.234375 -7.71875 7.3125 -7.378906 7.3125 -6.984375 C 7.3125 -6.734375 7.273438 -6.488281 7.203125 -6.25 C 7.128906 -6.019531 7.015625 -5.8125 6.859375 -5.625 C 6.703125 -5.445312 6.507812 -5.289062 6.28125 -5.15625 C 6.0625 -5.019531 5.796875 -4.921875 5.484375 -4.859375 C 5.867188 -4.816406 6.207031 -4.734375 6.5 -4.609375 C 6.800781 -4.484375 7.050781 -4.320312 7.25 -4.125 C 7.457031 -3.925781 7.613281 -3.695312 7.71875 -3.4375 C 7.820312 -3.175781 7.875 -2.894531 7.875 -2.59375 Z M 6 -6.828125 C 6 -7.304688 5.828125 -7.648438 5.484375 -7.859375 C 5.140625 -8.066406 4.625 -8.171875 3.9375 -8.171875 L 2.40625 -8.171875 L 2.40625 -5.328125 L 3.953125 -5.328125 C 4.316406 -5.328125 4.628906 -5.363281 4.890625 -5.4375 C 5.148438 -5.507812 5.363281 -5.609375 5.53125 -5.734375 C 5.695312 -5.867188 5.816406 -6.023438 5.890625 -6.203125 C 5.960938 -6.390625 6 -6.597656 6 -6.828125 Z M 6.5625 -2.71875 C 6.5625 -3 6.5 -3.238281 6.375 -3.4375 C 6.257812 -3.644531 6.097656 -3.8125 5.890625 -3.9375 C 5.679688 -4.070312 5.425781 -4.164062 5.125 -4.21875 C 4.832031 -4.28125 4.503906 -4.3125 4.140625 -4.3125 L 2.40625 -4.3125 L 2.40625 -1.046875 L 4.234375 -1.046875 C 4.566406 -1.046875 4.875 -1.070312 5.15625 -1.125 C 5.4375 -1.175781 5.679688 -1.265625 5.890625 -1.390625 C 6.097656 -1.523438 6.257812 -1.695312 6.375 -1.90625 C 6.5 -2.125 6.5625 -2.394531 6.5625 -2.71875 Z M 6.5625 -2.71875 \"/>\n</symbol>\n<symbol overflow=\"visible\" id=\"glyph0-3\">\n<path style=\"stroke:none;\" d=\"M 2.140625 -4.65625 C 2.140625 -4.0625 2.1875 -3.53125 2.28125 -3.0625 C 2.375 -2.601562 2.515625 -2.210938 2.703125 -1.890625 C 2.898438 -1.578125 3.144531 -1.335938 3.4375 -1.171875 C 3.738281 -1.003906 4.097656 -0.921875 4.515625 -0.921875 C 4.804688 -0.921875 5.066406 -0.972656 5.296875 -1.078125 C 5.523438 -1.191406 5.726562 -1.335938 5.90625 -1.515625 C 6.09375 -1.691406 6.25 -1.894531 6.375 -2.125 C 6.507812 -2.363281 6.625 -2.601562 6.71875 -2.84375 L 7.8125 -2.40625 C 7.675781 -2.082031 7.515625 -1.769531 7.328125 -1.46875 C 7.148438 -1.164062 6.925781 -0.894531 6.65625 -0.65625 C 6.394531 -0.414062 6.085938 -0.222656 5.734375 -0.078125 C 5.378906 0.0664062 4.96875 0.140625 4.5 0.140625 C 3.863281 0.140625 3.3125 0.0234375 2.84375 -0.203125 C 2.375 -0.429688 1.984375 -0.753906 1.671875 -1.171875 C 1.367188 -1.597656 1.140625 -2.101562 0.984375 -2.6875 C 0.835938 -3.28125 0.765625 -3.9375 0.765625 -4.65625 C 0.765625 -5.414062 0.835938 -6.085938 0.984375 -6.671875 C 1.128906 -7.253906 1.351562 -7.742188 1.65625 -8.140625 C 1.957031 -8.546875 2.335938 -8.847656 2.796875 -9.046875 C 3.265625 -9.253906 3.8125 -9.359375 4.4375 -9.359375 C 4.894531 -9.359375 5.296875 -9.296875 5.640625 -9.171875 C 5.992188 -9.046875 6.296875 -8.878906 6.546875 -8.671875 C 6.796875 -8.460938 7.007812 -8.21875 7.1875 -7.9375 C 7.363281 -7.664062 7.507812 -7.378906 7.625 -7.078125 L 6.46875 -6.625 C 6.40625 -6.84375 6.3125 -7.050781 6.1875 -7.25 C 6.070312 -7.445312 5.929688 -7.625 5.765625 -7.78125 C 5.597656 -7.9375 5.40625 -8.0625 5.1875 -8.15625 C 4.96875 -8.25 4.71875 -8.296875 4.4375 -8.296875 C 4.03125 -8.296875 3.679688 -8.21875 3.390625 -8.0625 C 3.109375 -7.90625 2.875 -7.671875 2.6875 -7.359375 C 2.5 -7.054688 2.359375 -6.675781 2.265625 -6.21875 C 2.179688 -5.769531 2.140625 -5.25 2.140625 -4.65625 Z M 2.140625 -4.65625 \"/>\n</symbol>\n<symbol overflow=\"visible\" id=\"glyph0-4\">\n<path style=\"stroke:none;\" d=\"M 7.6875 -4.703125 C 7.6875 -3.941406 7.59375 -3.265625 7.40625 -2.671875 C 7.226562 -2.085938 6.96875 -1.597656 6.625 -1.203125 C 6.28125 -0.804688 5.851562 -0.503906 5.34375 -0.296875 C 4.84375 -0.0976562 4.273438 0 3.640625 0 L 1.109375 0 L 1.109375 -9.21875 L 3.234375 -9.21875 C 3.953125 -9.21875 4.585938 -9.128906 5.140625 -8.953125 C 5.691406 -8.785156 6.15625 -8.515625 6.53125 -8.140625 C 6.914062 -7.773438 7.203125 -7.304688 7.390625 -6.734375 C 7.585938 -6.160156 7.6875 -5.484375 7.6875 -4.703125 Z M 6.375 -4.703125 C 6.375 -5.316406 6.3125 -5.84375 6.1875 -6.28125 C 6.0625 -6.71875 5.867188 -7.070312 5.609375 -7.34375 C 5.347656 -7.625 5.019531 -7.828125 4.625 -7.953125 C 4.238281 -8.085938 3.773438 -8.15625 3.234375 -8.15625 L 2.40625 -8.15625 L 2.40625 -1.0625 L 3.515625 -1.0625 C 4.484375 -1.0625 5.203125 -1.363281 5.671875 -1.96875 C 6.140625 -2.582031 6.375 -3.492188 6.375 -4.703125 Z M 6.375 -4.703125 \"/>\n</symbol>\n<symbol overflow=\"visible\" id=\"glyph0-5\">\n<path style=\"stroke:none;\" d=\"M 1.109375 0 L 1.109375 -9.21875 L 7.390625 -9.21875 L 7.390625 -8.15625 L 2.40625 -8.15625 L 2.40625 -5.265625 L 6.984375 -5.265625 L 6.984375 -4.21875 L 2.40625 -4.21875 L 2.40625 -1.0625 L 7.671875 -1.0625 L 7.671875 0 Z M 1.109375 0 \"/>\n</symbol>\n<symbol overflow=\"visible\" id=\"glyph0-6\">\n<path style=\"stroke:none;\" d=\"M 2.625 -8.15625 L 2.625 -4.78125 L 7.25 -4.78125 L 7.25 -3.703125 L 2.625 -3.703125 L 2.625 0 L 1.328125 0 L 1.328125 -9.21875 L 7.421875 -9.21875 L 7.421875 -8.15625 Z M 2.625 -8.15625 \"/>\n</symbol>\n<symbol overflow=\"visible\" id=\"glyph0-7\">\n<path style=\"stroke:none;\" d=\"M 7.53125 -0.90625 C 7.363281 -0.800781 7.171875 -0.6875 6.953125 -0.5625 C 6.734375 -0.4375 6.492188 -0.320312 6.234375 -0.21875 C 5.972656 -0.113281 5.6875 -0.03125 5.375 0.03125 C 5.0625 0.101562 4.726562 0.140625 4.375 0.140625 C 3.757812 0.140625 3.222656 0.0195312 2.765625 -0.21875 C 2.316406 -0.457031 1.941406 -0.789062 1.640625 -1.21875 C 1.347656 -1.644531 1.128906 -2.148438 0.984375 -2.734375 C 0.835938 -3.316406 0.765625 -3.957031 0.765625 -4.65625 C 0.765625 -5.414062 0.835938 -6.085938 0.984375 -6.671875 C 1.128906 -7.253906 1.347656 -7.742188 1.640625 -8.140625 C 1.929688 -8.546875 2.304688 -8.847656 2.765625 -9.046875 C 3.222656 -9.253906 3.765625 -9.359375 4.390625 -9.359375 C 4.847656 -9.359375 5.25 -9.300781 5.59375 -9.1875 C 5.9375 -9.070312 6.234375 -8.910156 6.484375 -8.703125 C 6.734375 -8.503906 6.941406 -8.265625 7.109375 -7.984375 C 7.285156 -7.710938 7.429688 -7.421875 7.546875 -7.109375 L 6.375 -6.71875 C 6.195312 -7.21875 5.945312 -7.601562 5.625 -7.875 C 5.3125 -8.15625 4.90625 -8.296875 4.40625 -8.296875 C 3.988281 -8.296875 3.632812 -8.21875 3.34375 -8.0625 C 3.0625 -7.90625 2.832031 -7.671875 2.65625 -7.359375 C 2.476562 -7.054688 2.347656 -6.675781 2.265625 -6.21875 C 2.179688 -5.769531 2.140625 -5.25 2.140625 -4.65625 C 2.140625 -3.4375 2.332031 -2.507812 2.71875 -1.875 C 3.101562 -1.238281 3.691406 -0.921875 4.484375 -0.921875 C 4.703125 -0.921875 4.90625 -0.941406 5.09375 -0.984375 C 5.28125 -1.023438 5.445312 -1.070312 5.59375 -1.125 C 5.75 -1.175781 5.882812 -1.226562 6 -1.28125 C 6.113281 -1.34375 6.195312 -1.390625 6.25 -1.421875 L 6.25 -3.71875 L 4.25 -3.71875 L 4.25 -4.8125 L 7.53125 -4.8125 Z M 7.53125 -0.90625 \"/>\n</symbol>\n<symbol overflow=\"visible\" id=\"glyph0-8\">\n<path style=\"stroke:none;\" d=\"M 5.984375 0 L 5.984375 -4.265625 L 2.40625 -4.265625 L 2.40625 0 L 1.109375 0 L 1.109375 -9.21875 L 2.40625 -9.21875 L 2.40625 -5.359375 L 5.984375 -5.359375 L 5.984375 -9.21875 L 7.28125 -9.21875 L 7.28125 0 Z M 5.984375 0 \"/>\n</symbol>\n</g>\n</defs>\n<g id=\"surface14\">\n<rect x=\"0\" y=\"0\" width=\"300\" height=\"300\" style=\"fill:rgb(100%,100%,100%);fill-opacity:1;stroke:none;\"/>\n<path style=\"fill:none;stroke-width:1;stroke-linecap:butt;stroke-linejoin:miter;stroke:rgb(74.509804%,74.509804%,74.509804%);stroke-opacity:1;stroke-miterlimit:10;\" d=\"M 138.3125 280 L 58.988281 258.816406 \"/>\n<path style=\" stroke:none;fill-rule:nonzero;fill:rgb(74.509804%,74.509804%,74.509804%);fill-opacity:1;\" d=\"M 45.203125 255.136719 L 60.183594 254.339844 L 57.792969 263.296875 L 45.203125 255.136719 \"/>\n<path style=\"fill:none;stroke-width:1;stroke-linecap:butt;stroke-linejoin:miter;stroke:rgb(0%,100%,0%);stroke-opacity:1;stroke-miterlimit:10;\" d=\"M 138.3125 280 L 207.316406 216.46875 \"/>\n<path style=\" stroke:none;fill-rule:nonzero;fill:rgb(0%,100%,0%);fill-opacity:1;\" d=\"M 217.808594 206.804688 L 210.453125 219.878906 L 204.175781 213.058594 L 217.808594 206.804688 \"/>\n<path style=\"fill:none;stroke-width:1;stroke-linecap:butt;stroke-linejoin:miter;stroke:rgb(0%,100%,0%);stroke-opacity:1;stroke-miterlimit:10;\" d=\"M 225.167969 200.035156 L 184.183594 148.628906 \"/>\n<path style=\" stroke:none;fill-rule:nonzero;fill:rgb(0%,100%,0%);fill-opacity:1;\" d=\"M 175.289062 137.476562 L 187.808594 145.738281 L 180.558594 151.519531 L 175.289062 137.476562 \"/>\n<path style=\"fill:none;stroke-width:1;stroke-linecap:butt;stroke-linejoin:miter;stroke:rgb(74.509804%,74.509804%,74.509804%);stroke-opacity:1;stroke-miterlimit:10;\" d=\"M 225.167969 200.035156 L 268.394531 120.65625 \"/>\n<path style=\" stroke:none;fill-rule:nonzero;fill:rgb(74.509804%,74.509804%,74.509804%);fill-opacity:1;\" d=\"M 275.21875 108.128906 L 272.464844 122.871094 L 264.324219 118.4375 L 275.21875 108.128906 \"/>\n<path style=\"fill:none;stroke-width:1;stroke-linecap:butt;stroke-linejoin:miter;stroke:rgb(74.509804%,74.509804%,74.509804%);stroke-opacity:1;stroke-miterlimit:10;\" d=\"M 35.542969 252.558594 L 23.460938 168.667969 \"/>\n<path style=\" stroke:none;fill-rule:nonzero;fill:rgb(74.509804%,74.509804%,74.509804%);fill-opacity:1;\" d=\"M 21.425781 154.546875 L 28.046875 168.007812 L 18.871094 169.328125 L 21.425781 154.546875 \"/>\n<path style=\"fill:none;stroke-width:1;stroke-linecap:butt;stroke-linejoin:miter;stroke:rgb(74.509804%,74.509804%,74.509804%);stroke-opacity:1;stroke-miterlimit:10;\" d=\"M 210.539062 20 L 129.199219 55.175781 \"/>\n<path style=\" stroke:none;fill-rule:nonzero;fill:rgb(74.509804%,74.509804%,74.509804%);fill-opacity:1;\" d=\"M 116.105469 60.839844 L 127.359375 50.921875 L 131.039062 59.433594 L 116.105469 60.839844 \"/>\n<path style=\"fill:none;stroke-width:1;stroke-linecap:butt;stroke-linejoin:miter;stroke:rgb(74.509804%,74.509804%,74.509804%);stroke-opacity:1;stroke-miterlimit:10;\" d=\"M 20 144.648438 L 89.054688 81.222656 \"/>\n<path style=\" stroke:none;fill-rule:nonzero;fill:rgb(74.509804%,74.509804%,74.509804%);fill-opacity:1;\" d=\"M 99.5625 71.574219 L 92.191406 84.636719 L 85.921875 77.808594 L 99.5625 71.574219 \"/>\n<path style=\"fill:none;stroke-width:1;stroke-linecap:butt;stroke-linejoin:miter;stroke:rgb(0%,100%,0%);stroke-opacity:1;stroke-miterlimit:10;\" d=\"M 169.058594 129.65625 L 123.714844 82.332031 \"/>\n<path style=\" stroke:none;fill-rule:nonzero;fill:rgb(0%,100%,0%);fill-opacity:1;\" d=\"M 113.84375 72.03125 L 127.0625 79.125 L 120.367188 85.539062 L 113.84375 72.03125 \"/>\n<path style=\"fill:none;stroke-width:1;stroke-linecap:butt;stroke-linejoin:miter;stroke:rgb(74.509804%,74.509804%,74.509804%);stroke-opacity:1;stroke-miterlimit:10;\" d=\"M 280 99.34375 L 226.523438 38.257812 \"/>\n<path style=\" stroke:none;fill-rule:nonzero;fill:rgb(74.509804%,74.509804%,74.509804%);fill-opacity:1;\" d=\"M 217.128906 27.523438 L 230.011719 35.203125 L 223.035156 41.3125 L 217.128906 27.523438 \"/>\n<path style=\"fill-rule:nonzero;fill:rgb(0%,100%,0%);fill-opacity:1;stroke-width:1;stroke-linecap:butt;stroke-linejoin:miter;stroke:rgb(0%,0%,0%);stroke-opacity:1;stroke-miterlimit:10;\" d=\"M 148.3125 280 C 148.3125 285.523438 143.835938 290 138.3125 290 C 132.789062 290 128.3125 285.523438 128.3125 280 C 128.3125 274.476562 132.789062 270 138.3125 270 C 143.835938 270 148.3125 274.476562 148.3125 280 \"/>\n<path style=\"fill-rule:nonzero;fill:rgb(0%,100%,0%);fill-opacity:1;stroke-width:1;stroke-linecap:butt;stroke-linejoin:miter;stroke:rgb(0%,0%,0%);stroke-opacity:1;stroke-miterlimit:10;\" d=\"M 235.167969 200.035156 C 235.167969 205.554688 230.691406 210.035156 225.167969 210.035156 C 219.644531 210.035156 215.167969 205.554688 215.167969 200.035156 C 215.167969 194.511719 219.644531 190.035156 225.167969 190.035156 C 230.691406 190.035156 235.167969 194.511719 235.167969 200.035156 \"/>\n<path style=\"fill-rule:nonzero;fill:rgb(74.509804%,74.509804%,74.509804%);fill-opacity:1;stroke-width:1;stroke-linecap:butt;stroke-linejoin:miter;stroke:rgb(0%,0%,0%);stroke-opacity:1;stroke-miterlimit:10;\" d=\"M 45.542969 252.558594 C 45.542969 258.082031 41.066406 262.558594 35.542969 262.558594 C 30.019531 262.558594 25.542969 258.082031 25.542969 252.558594 C 25.542969 247.035156 30.019531 242.558594 35.542969 242.558594 C 41.066406 242.558594 45.542969 247.035156 45.542969 252.558594 \"/>\n<path style=\"fill-rule:nonzero;fill:rgb(74.509804%,74.509804%,74.509804%);fill-opacity:1;stroke-width:1;stroke-linecap:butt;stroke-linejoin:miter;stroke:rgb(0%,0%,0%);stroke-opacity:1;stroke-miterlimit:10;\" d=\"M 30 144.648438 C 30 150.171875 25.523438 154.648438 20 154.648438 C 14.476562 154.648438 10 150.171875 10 144.648438 C 10 139.128906 14.476562 134.648438 20 134.648438 C 25.523438 134.648438 30 139.128906 30 144.648438 \"/>\n<path style=\"fill-rule:nonzero;fill:rgb(0%,100%,0%);fill-opacity:1;stroke-width:1;stroke-linecap:butt;stroke-linejoin:miter;stroke:rgb(0%,0%,0%);stroke-opacity:1;stroke-miterlimit:10;\" d=\"M 179.058594 129.65625 C 179.058594 135.179688 174.578125 139.65625 169.058594 139.65625 C 163.535156 139.65625 159.058594 135.179688 159.058594 129.65625 C 159.058594 124.132812 163.535156 119.65625 169.058594 119.65625 C 174.578125 119.65625 179.058594 124.132812 179.058594 129.65625 \"/>\n<path style=\"fill-rule:nonzero;fill:rgb(74.509804%,74.509804%,74.509804%);fill-opacity:1;stroke-width:1;stroke-linecap:butt;stroke-linejoin:miter;stroke:rgb(0%,0%,0%);stroke-opacity:1;stroke-miterlimit:10;\" d=\"M 290 99.34375 C 290 104.867188 285.523438 109.34375 280 109.34375 C 274.476562 109.34375 270 104.867188 270 99.34375 C 270 93.820312 274.476562 89.34375 280 89.34375 C 285.523438 89.34375 290 93.820312 290 99.34375 \"/>\n<path style=\"fill-rule:nonzero;fill:rgb(74.509804%,74.509804%,74.509804%);fill-opacity:1;stroke-width:1;stroke-linecap:butt;stroke-linejoin:miter;stroke:rgb(0%,0%,0%);stroke-opacity:1;stroke-miterlimit:10;\" d=\"M 220.539062 20 C 220.539062 25.523438 216.0625 30 210.539062 30 C 205.019531 30 200.539062 25.523438 200.539062 20 C 200.539062 14.476562 205.019531 10 210.539062 10 C 216.0625 10 220.539062 14.476562 220.539062 20 \"/>\n<path style=\"fill-rule:nonzero;fill:rgb(0%,100%,0%);fill-opacity:1;stroke-width:1;stroke-linecap:butt;stroke-linejoin:miter;stroke:rgb(0%,0%,0%);stroke-opacity:1;stroke-miterlimit:10;\" d=\"M 116.925781 64.808594 C 116.925781 70.332031 112.449219 74.808594 106.925781 74.808594 C 101.40625 74.808594 96.925781 70.332031 96.925781 64.808594 C 96.925781 59.285156 101.40625 54.808594 106.925781 54.808594 C 112.449219 54.808594 116.925781 59.285156 116.925781 64.808594 \"/>\n<g style=\"fill:rgb(0%,0%,0%);fill-opacity:1;\">\n  <use xlink:href=\"#glyph0-1\" x=\"134.113281\" y=\"286.710938\"/>\n</g>\n<g style=\"fill:rgb(0%,0%,0%);fill-opacity:1;\">\n  <use xlink:href=\"#glyph0-2\" x=\"220.675781\" y=\"206.746094\"/>\n</g>\n<g style=\"fill:rgb(0%,0%,0%);fill-opacity:1;\">\n  <use xlink:href=\"#glyph0-3\" x=\"31.253906\" y=\"259.34375\"/>\n</g>\n<g style=\"fill:rgb(0%,0%,0%);fill-opacity:1;\">\n  <use xlink:href=\"#glyph0-4\" x=\"15.601562\" y=\"151.363281\"/>\n</g>\n<g style=\"fill:rgb(0%,0%,0%);fill-opacity:1;\">\n  <use xlink:href=\"#glyph0-5\" x=\"164.667969\" y=\"136.367188\"/>\n</g>\n<g style=\"fill:rgb(0%,0%,0%);fill-opacity:1;\">\n  <use xlink:href=\"#glyph0-6\" x=\"275.628906\" y=\"106.058594\"/>\n</g>\n<g style=\"fill:rgb(0%,0%,0%);fill-opacity:1;\">\n  <use xlink:href=\"#glyph0-7\" x=\"206.382812\" y=\"26.785156\"/>\n</g>\n<g style=\"fill:rgb(0%,0%,0%);fill-opacity:1;\">\n  <use xlink:href=\"#glyph0-8\" x=\"102.730469\" y=\"71.523438\"/>\n</g>\n</g>\n</svg>\n"
          },
          "metadata": {
            "tags": [],
            "image/svg+xml": {
              "isolated": true
            }
          },
          "execution_count": 12
        }
      ]
    },
    {
      "cell_type": "code",
      "metadata": {
        "id": "F8Hw_ZXVjMu2"
      },
      "source": [
        ""
      ],
      "execution_count": null,
      "outputs": []
    }
  ]
}