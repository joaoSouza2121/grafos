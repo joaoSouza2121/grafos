{
  "nbformat": 4,
  "nbformat_minor": 0,
  "metadata": {
    "jupytext": {
      "cell_metadata_filter": "-all",
      "main_language": "python",
      "notebook_metadata_filter": "-all"
    },
    "kernelspec": {
      "display_name": "Python 3",
      "language": "python",
      "name": "python3"
    },
    "language_info": {
      "codemirror_mode": {
        "name": "ipython",
        "version": 3
      },
      "file_extension": ".py",
      "mimetype": "text/x-python",
      "name": "python",
      "nbconvert_exporter": "python",
      "pygments_lexer": "ipython3",
      "version": "3.7.6"
    },
    "colab": {
      "name": "3.introducao3.ipynb",
      "provenance": [],
      "include_colab_link": true
    }
  },
  "cells": [
    {
      "cell_type": "markdown",
      "metadata": {
        "id": "view-in-github",
        "colab_type": "text"
      },
      "source": [
        "<a href=\"https://colab.research.google.com/github/joaoSouza2121/grafos/blob/main/3_introducao3.ipynb\" target=\"_parent\"><img src=\"https://colab.research.google.com/assets/colab-badge.svg\" alt=\"Open In Colab\"/></a>"
      ]
    },
    {
      "cell_type": "markdown",
      "metadata": {
        "id": "1-vmjj4WVFPx"
      },
      "source": [
        "#<font color=\"blue\">Estudos Dos Grafos</font>"
      ]
    },
    {
      "cell_type": "markdown",
      "metadata": {
        "id": "nCrQ94y1VTDd"
      },
      "source": [
        "Obs:-> para que tudo funcione corretamente no google colab é necessário instalar os pacotes abaixo."
      ]
    },
    {
      "cell_type": "code",
      "metadata": {
        "colab": {
          "base_uri": "https://localhost:8080/"
        },
        "id": "wNugAdH0Vla9",
        "outputId": "73079b57-e719-48b9-968f-62e25b8849a2"
      },
      "source": [
        "!sudo apt install build-essential python-dev libxml2 libxml2-dev zlib1g-dev libcairo2-dev\n",
        "!pip install cairocffi python-igraph"
      ],
      "execution_count": 1,
      "outputs": [
        {
          "output_type": "stream",
          "text": [
            "Reading package lists... Done\n",
            "Building dependency tree       \n",
            "Reading state information... Done\n",
            "build-essential is already the newest version (12.4ubuntu1).\n",
            "python-dev is already the newest version (2.7.15~rc1-1).\n",
            "zlib1g-dev is already the newest version (1:1.2.11.dfsg-0ubuntu2).\n",
            "zlib1g-dev set to manually installed.\n",
            "libxml2 is already the newest version (2.9.4+dfsg1-6.1ubuntu1.3).\n",
            "libxml2 set to manually installed.\n",
            "libxml2-dev is already the newest version (2.9.4+dfsg1-6.1ubuntu1.3).\n",
            "The following package was automatically installed and is no longer required:\n",
            "  libnvidia-common-460\n",
            "Use 'sudo apt autoremove' to remove it.\n",
            "The following additional packages will be installed:\n",
            "  libcairo-script-interpreter2 libpixman-1-dev libxcb-shm0-dev\n",
            "Suggested packages:\n",
            "  libcairo2-doc\n",
            "The following NEW packages will be installed:\n",
            "  libcairo-script-interpreter2 libcairo2-dev libpixman-1-dev libxcb-shm0-dev\n",
            "0 upgraded, 4 newly installed, 0 to remove and 34 not upgraded.\n",
            "Need to get 930 kB of archives.\n",
            "After this operation, 3,986 kB of additional disk space will be used.\n",
            "Get:1 http://archive.ubuntu.com/ubuntu bionic-updates/main amd64 libcairo-script-interpreter2 amd64 1.15.10-2ubuntu0.1 [53.5 kB]\n",
            "Get:2 http://archive.ubuntu.com/ubuntu bionic/main amd64 libpixman-1-dev amd64 0.34.0-2 [244 kB]\n",
            "Get:3 http://archive.ubuntu.com/ubuntu bionic-updates/main amd64 libxcb-shm0-dev amd64 1.13-2~ubuntu18.04 [6,684 B]\n",
            "Get:4 http://archive.ubuntu.com/ubuntu bionic-updates/main amd64 libcairo2-dev amd64 1.15.10-2ubuntu0.1 [626 kB]\n",
            "Fetched 930 kB in 1s (728 kB/s)\n",
            "debconf: unable to initialize frontend: Dialog\n",
            "debconf: (No usable dialog-like program is installed, so the dialog based frontend cannot be used. at /usr/share/perl5/Debconf/FrontEnd/Dialog.pm line 76, <> line 4.)\n",
            "debconf: falling back to frontend: Readline\n",
            "debconf: unable to initialize frontend: Readline\n",
            "debconf: (This frontend requires a controlling tty.)\n",
            "debconf: falling back to frontend: Teletype\n",
            "dpkg-preconfigure: unable to re-open stdin: \n",
            "Selecting previously unselected package libcairo-script-interpreter2:amd64.\n",
            "(Reading database ... 160706 files and directories currently installed.)\n",
            "Preparing to unpack .../libcairo-script-interpreter2_1.15.10-2ubuntu0.1_amd64.deb ...\n",
            "Unpacking libcairo-script-interpreter2:amd64 (1.15.10-2ubuntu0.1) ...\n",
            "Selecting previously unselected package libpixman-1-dev:amd64.\n",
            "Preparing to unpack .../libpixman-1-dev_0.34.0-2_amd64.deb ...\n",
            "Unpacking libpixman-1-dev:amd64 (0.34.0-2) ...\n",
            "Selecting previously unselected package libxcb-shm0-dev:amd64.\n",
            "Preparing to unpack .../libxcb-shm0-dev_1.13-2~ubuntu18.04_amd64.deb ...\n",
            "Unpacking libxcb-shm0-dev:amd64 (1.13-2~ubuntu18.04) ...\n",
            "Selecting previously unselected package libcairo2-dev:amd64.\n",
            "Preparing to unpack .../libcairo2-dev_1.15.10-2ubuntu0.1_amd64.deb ...\n",
            "Unpacking libcairo2-dev:amd64 (1.15.10-2ubuntu0.1) ...\n",
            "Setting up libcairo-script-interpreter2:amd64 (1.15.10-2ubuntu0.1) ...\n",
            "Setting up libxcb-shm0-dev:amd64 (1.13-2~ubuntu18.04) ...\n",
            "Setting up libpixman-1-dev:amd64 (0.34.0-2) ...\n",
            "Setting up libcairo2-dev:amd64 (1.15.10-2ubuntu0.1) ...\n",
            "Processing triggers for libc-bin (2.27-3ubuntu1.2) ...\n",
            "/sbin/ldconfig.real: /usr/local/lib/python3.7/dist-packages/ideep4py/lib/libmkldnn.so.0 is not a symbolic link\n",
            "\n",
            "Collecting cairocffi\n",
            "\u001b[?25l  Downloading https://files.pythonhosted.org/packages/84/ca/0bffed5116d21251469df200448667e90acaa5131edea869b44a3fbc73d0/cairocffi-1.2.0.tar.gz (70kB)\n",
            "\u001b[K     |████████████████████████████████| 71kB 4.4MB/s \n",
            "\u001b[?25hCollecting python-igraph\n",
            "\u001b[?25l  Downloading https://files.pythonhosted.org/packages/ae/12/1fbdb491d89fad8abb7aca0189978655cfdc984a380b846478f2ccdfdad8/python_igraph-0.9.1-cp37-cp37m-manylinux2010_x86_64.whl (3.2MB)\n",
            "\u001b[K     |████████████████████████████████| 3.2MB 14.1MB/s \n",
            "\u001b[?25hRequirement already satisfied: cffi>=1.1.0 in /usr/local/lib/python3.7/dist-packages (from cairocffi) (1.14.5)\n",
            "Collecting texttable>=1.6.2\n",
            "  Downloading https://files.pythonhosted.org/packages/06/f5/46201c428aebe0eecfa83df66bf3e6caa29659dbac5a56ddfd83cae0d4a4/texttable-1.6.3-py2.py3-none-any.whl\n",
            "Requirement already satisfied: pycparser in /usr/local/lib/python3.7/dist-packages (from cffi>=1.1.0->cairocffi) (2.20)\n",
            "Building wheels for collected packages: cairocffi\n",
            "  Building wheel for cairocffi (setup.py) ... \u001b[?25l\u001b[?25hdone\n",
            "  Created wheel for cairocffi: filename=cairocffi-1.2.0-cp37-none-any.whl size=89548 sha256=36a74711f471bc26760fb12b27ffed2b66f2881540318b7908f20f10efd3b1ea\n",
            "  Stored in directory: /root/.cache/pip/wheels/40/76/48/f1effadceea83b32e7d957dd0f92db4db8b537d7b72b4ef374\n",
            "Successfully built cairocffi\n",
            "Installing collected packages: cairocffi, texttable, python-igraph\n",
            "Successfully installed cairocffi-1.2.0 python-igraph-0.9.1 texttable-1.6.3\n"
          ],
          "name": "stdout"
        }
      ]
    },
    {
      "cell_type": "code",
      "metadata": {
        "id": "cCoP6r0oVCIu"
      },
      "source": [
        "# Importação das bibliotecas\n",
        "from igraph import Graph\n",
        "from igraph import plot"
      ],
      "execution_count": 2,
      "outputs": []
    },
    {
      "cell_type": "code",
      "metadata": {
        "id": "jaKDV0gvVCIw"
      },
      "source": [
        "# recriamos o grafo 4\n",
        "grafo4 = Graph(directed = False)\n",
        "grafo4.add_vertices(5)\n",
        "grafo4.add_edges([(0,1),(1,2),(2,3),(3,4),(4,0),(0,2),(2,1)])\n",
        "grafo4.add_vertex(5)\n",
        "grafo4.add_vertex(6)\n",
        "grafo4.vs['label'] = ['A', 'B', 'C', 'D', 'E', 'F', 'G']\n",
        "grafo4.vs['name'] = ['A', 'B', 'C', 'D', 'E', 'F', 'G']"
      ],
      "execution_count": 3,
      "outputs": []
    },
    {
      "cell_type": "code",
      "metadata": {
        "colab": {
          "base_uri": "https://localhost:8080/"
        },
        "id": "X5khwTNqVCIx",
        "outputId": "30109b3f-572a-4fa2-a7a6-878184d73648"
      },
      "source": [
        "# Impressão da matriz de adjacência\n",
        "print(grafo4.get_adjacency())"
      ],
      "execution_count": 4,
      "outputs": [
        {
          "output_type": "stream",
          "text": [
            "[[0, 1, 1, 0, 1, 0, 0]\n",
            " [1, 0, 2, 0, 0, 0, 0]\n",
            " [1, 2, 0, 1, 0, 0, 0]\n",
            " [0, 0, 1, 0, 1, 0, 0]\n",
            " [1, 0, 0, 1, 0, 0, 0]\n",
            " [0, 0, 0, 0, 0, 0, 0]\n",
            " [0, 0, 0, 0, 0, 0, 0]]\n"
          ],
          "name": "stdout"
        }
      ]
    },
    {
      "cell_type": "code",
      "metadata": {
        "colab": {
          "base_uri": "https://localhost:8080/"
        },
        "id": "EDloAfaRVCIz",
        "outputId": "1c57b9ff-f51c-4645-ea1f-31bf753e0c07"
      },
      "source": [
        "# linha\n",
        "grafo4.get_adjacency()[0,]"
      ],
      "execution_count": 5,
      "outputs": [
        {
          "output_type": "execute_result",
          "data": {
            "text/plain": [
              "[0, 1, 1, 0, 1, 0, 0]"
            ]
          },
          "metadata": {
            "tags": []
          },
          "execution_count": 5
        }
      ]
    },
    {
      "cell_type": "code",
      "metadata": {
        "colab": {
          "base_uri": "https://localhost:8080/"
        },
        "id": "1wdkpeAwVCI0",
        "outputId": "e2cacb91-8bc3-4ef1-cb0e-d330a3a0ae18"
      },
      "source": [
        "#linha e coluna\n",
        "grafo4.get_adjacency()[0,1]"
      ],
      "execution_count": 17,
      "outputs": [
        {
          "output_type": "execute_result",
          "data": {
            "text/plain": [
              "1"
            ]
          },
          "metadata": {
            "tags": []
          },
          "execution_count": 17
        }
      ]
    },
    {
      "cell_type": "code",
      "metadata": {
        "colab": {
          "base_uri": "https://localhost:8080/"
        },
        "id": "IYVkvChfVCI2",
        "outputId": "afbba5ef-a367-4ed6-b21a-00892df5a81f"
      },
      "source": [
        "# Estrutura de repetição para percorrer cada vértice, visualizando o nome e o rótulo\n",
        "for v in grafo4.vs:\n",
        "   print(v) "
      ],
      "execution_count": 6,
      "outputs": [
        {
          "output_type": "stream",
          "text": [
            "igraph.Vertex(<igraph.Graph object at 0x7f6257280450>, 0, {'name': 'A', 'label': 'A'})\n",
            "igraph.Vertex(<igraph.Graph object at 0x7f6257280450>, 1, {'name': 'B', 'label': 'B'})\n",
            "igraph.Vertex(<igraph.Graph object at 0x7f6257280450>, 2, {'name': 'C', 'label': 'C'})\n",
            "igraph.Vertex(<igraph.Graph object at 0x7f6257280450>, 3, {'name': 'D', 'label': 'D'})\n",
            "igraph.Vertex(<igraph.Graph object at 0x7f6257280450>, 4, {'name': 'E', 'label': 'E'})\n",
            "igraph.Vertex(<igraph.Graph object at 0x7f6257280450>, 5, {'name': 'F', 'label': 'F'})\n",
            "igraph.Vertex(<igraph.Graph object at 0x7f6257280450>, 6, {'name': 'G', 'label': 'G'})\n"
          ],
          "name": "stdout"
        }
      ]
    },
    {
      "cell_type": "code",
      "metadata": {
        "colab": {
          "base_uri": "https://localhost:8080/",
          "height": 421
        },
        "id": "kqU-H-Q9VCI3",
        "outputId": "16a7cd31-d413-46fc-b60a-48c30e4e4315"
      },
      "source": [
        "plot(grafo4, bbox=(0,0,300,300))"
      ],
      "execution_count": 7,
      "outputs": [
        {
          "output_type": "execute_result",
          "data": {
            "text/plain": [
              "<igraph.drawing.Plot at 0x7f625721bfd0>"
            ],
            "image/svg+xml": "<?xml version=\"1.0\" encoding=\"UTF-8\"?>\n<svg xmlns=\"http://www.w3.org/2000/svg\" xmlns:xlink=\"http://www.w3.org/1999/xlink\" width=\"300pt\" height=\"300pt\" viewBox=\"0 0 300 300\" version=\"1.1\">\n<defs>\n<g>\n<symbol overflow=\"visible\" id=\"glyph0-0\">\n<path style=\"stroke:none;\" d=\"M 0.46875 0 L 0.46875 -9.328125 L 4.1875 -9.328125 L 4.1875 0 Z M 0.9375 -0.46875 L 3.71875 -0.46875 L 3.71875 -8.859375 L 0.9375 -8.859375 Z M 0.9375 -0.46875 \"/>\n</symbol>\n<symbol overflow=\"visible\" id=\"glyph0-1\">\n<path style=\"stroke:none;\" d=\"M 7.0625 0 L 6.125 -2.609375 L 2.28125 -2.609375 L 1.34375 0 L 0 0 L 3.484375 -9.21875 L 4.96875 -9.21875 L 8.390625 0 Z M 4.796875 -6.515625 C 4.734375 -6.691406 4.671875 -6.867188 4.609375 -7.046875 C 4.546875 -7.222656 4.488281 -7.390625 4.4375 -7.546875 C 4.382812 -7.710938 4.335938 -7.851562 4.296875 -7.96875 C 4.253906 -8.09375 4.226562 -8.179688 4.21875 -8.234375 C 4.195312 -8.179688 4.164062 -8.09375 4.125 -7.96875 C 4.09375 -7.84375 4.050781 -7.703125 4 -7.546875 C 3.945312 -7.390625 3.890625 -7.222656 3.828125 -7.046875 C 3.773438 -6.867188 3.71875 -6.691406 3.65625 -6.515625 L 2.625 -3.625 L 5.796875 -3.625 Z M 4.796875 -6.515625 \"/>\n</symbol>\n<symbol overflow=\"visible\" id=\"glyph0-2\">\n<path style=\"stroke:none;\" d=\"M 7.875 -2.59375 C 7.875 -2.125 7.773438 -1.722656 7.578125 -1.390625 C 7.390625 -1.066406 7.132812 -0.800781 6.8125 -0.59375 C 6.488281 -0.382812 6.113281 -0.234375 5.6875 -0.140625 C 5.257812 -0.046875 4.804688 0 4.328125 0 L 1.109375 0 L 1.109375 -9.21875 L 3.921875 -9.21875 C 4.453125 -9.21875 4.925781 -9.175781 5.34375 -9.09375 C 5.769531 -9.007812 6.128906 -8.875 6.421875 -8.6875 C 6.710938 -8.507812 6.929688 -8.28125 7.078125 -8 C 7.234375 -7.71875 7.3125 -7.378906 7.3125 -6.984375 C 7.3125 -6.734375 7.273438 -6.488281 7.203125 -6.25 C 7.128906 -6.019531 7.015625 -5.8125 6.859375 -5.625 C 6.703125 -5.445312 6.507812 -5.289062 6.28125 -5.15625 C 6.0625 -5.019531 5.796875 -4.921875 5.484375 -4.859375 C 5.867188 -4.816406 6.207031 -4.734375 6.5 -4.609375 C 6.800781 -4.484375 7.050781 -4.320312 7.25 -4.125 C 7.457031 -3.925781 7.613281 -3.695312 7.71875 -3.4375 C 7.820312 -3.175781 7.875 -2.894531 7.875 -2.59375 Z M 6 -6.828125 C 6 -7.304688 5.828125 -7.648438 5.484375 -7.859375 C 5.140625 -8.066406 4.625 -8.171875 3.9375 -8.171875 L 2.40625 -8.171875 L 2.40625 -5.328125 L 3.953125 -5.328125 C 4.316406 -5.328125 4.628906 -5.363281 4.890625 -5.4375 C 5.148438 -5.507812 5.363281 -5.609375 5.53125 -5.734375 C 5.695312 -5.867188 5.816406 -6.023438 5.890625 -6.203125 C 5.960938 -6.390625 6 -6.597656 6 -6.828125 Z M 6.5625 -2.71875 C 6.5625 -3 6.5 -3.238281 6.375 -3.4375 C 6.257812 -3.644531 6.097656 -3.8125 5.890625 -3.9375 C 5.679688 -4.070312 5.425781 -4.164062 5.125 -4.21875 C 4.832031 -4.28125 4.503906 -4.3125 4.140625 -4.3125 L 2.40625 -4.3125 L 2.40625 -1.046875 L 4.234375 -1.046875 C 4.566406 -1.046875 4.875 -1.070312 5.15625 -1.125 C 5.4375 -1.175781 5.679688 -1.265625 5.890625 -1.390625 C 6.097656 -1.523438 6.257812 -1.695312 6.375 -1.90625 C 6.5 -2.125 6.5625 -2.394531 6.5625 -2.71875 Z M 6.5625 -2.71875 \"/>\n</symbol>\n<symbol overflow=\"visible\" id=\"glyph0-3\">\n<path style=\"stroke:none;\" d=\"M 2.140625 -4.65625 C 2.140625 -4.0625 2.1875 -3.53125 2.28125 -3.0625 C 2.375 -2.601562 2.515625 -2.210938 2.703125 -1.890625 C 2.898438 -1.578125 3.144531 -1.335938 3.4375 -1.171875 C 3.738281 -1.003906 4.097656 -0.921875 4.515625 -0.921875 C 4.804688 -0.921875 5.066406 -0.972656 5.296875 -1.078125 C 5.523438 -1.191406 5.726562 -1.335938 5.90625 -1.515625 C 6.09375 -1.691406 6.25 -1.894531 6.375 -2.125 C 6.507812 -2.363281 6.625 -2.601562 6.71875 -2.84375 L 7.8125 -2.40625 C 7.675781 -2.082031 7.515625 -1.769531 7.328125 -1.46875 C 7.148438 -1.164062 6.925781 -0.894531 6.65625 -0.65625 C 6.394531 -0.414062 6.085938 -0.222656 5.734375 -0.078125 C 5.378906 0.0664062 4.96875 0.140625 4.5 0.140625 C 3.863281 0.140625 3.3125 0.0234375 2.84375 -0.203125 C 2.375 -0.429688 1.984375 -0.753906 1.671875 -1.171875 C 1.367188 -1.597656 1.140625 -2.101562 0.984375 -2.6875 C 0.835938 -3.28125 0.765625 -3.9375 0.765625 -4.65625 C 0.765625 -5.414062 0.835938 -6.085938 0.984375 -6.671875 C 1.128906 -7.253906 1.351562 -7.742188 1.65625 -8.140625 C 1.957031 -8.546875 2.335938 -8.847656 2.796875 -9.046875 C 3.265625 -9.253906 3.8125 -9.359375 4.4375 -9.359375 C 4.894531 -9.359375 5.296875 -9.296875 5.640625 -9.171875 C 5.992188 -9.046875 6.296875 -8.878906 6.546875 -8.671875 C 6.796875 -8.460938 7.007812 -8.21875 7.1875 -7.9375 C 7.363281 -7.664062 7.507812 -7.378906 7.625 -7.078125 L 6.46875 -6.625 C 6.40625 -6.84375 6.3125 -7.050781 6.1875 -7.25 C 6.070312 -7.445312 5.929688 -7.625 5.765625 -7.78125 C 5.597656 -7.9375 5.40625 -8.0625 5.1875 -8.15625 C 4.96875 -8.25 4.71875 -8.296875 4.4375 -8.296875 C 4.03125 -8.296875 3.679688 -8.21875 3.390625 -8.0625 C 3.109375 -7.90625 2.875 -7.671875 2.6875 -7.359375 C 2.5 -7.054688 2.359375 -6.675781 2.265625 -6.21875 C 2.179688 -5.769531 2.140625 -5.25 2.140625 -4.65625 Z M 2.140625 -4.65625 \"/>\n</symbol>\n<symbol overflow=\"visible\" id=\"glyph0-4\">\n<path style=\"stroke:none;\" d=\"M 7.6875 -4.703125 C 7.6875 -3.941406 7.59375 -3.265625 7.40625 -2.671875 C 7.226562 -2.085938 6.96875 -1.597656 6.625 -1.203125 C 6.28125 -0.804688 5.851562 -0.503906 5.34375 -0.296875 C 4.84375 -0.0976562 4.273438 0 3.640625 0 L 1.109375 0 L 1.109375 -9.21875 L 3.234375 -9.21875 C 3.953125 -9.21875 4.585938 -9.128906 5.140625 -8.953125 C 5.691406 -8.785156 6.15625 -8.515625 6.53125 -8.140625 C 6.914062 -7.773438 7.203125 -7.304688 7.390625 -6.734375 C 7.585938 -6.160156 7.6875 -5.484375 7.6875 -4.703125 Z M 6.375 -4.703125 C 6.375 -5.316406 6.3125 -5.84375 6.1875 -6.28125 C 6.0625 -6.71875 5.867188 -7.070312 5.609375 -7.34375 C 5.347656 -7.625 5.019531 -7.828125 4.625 -7.953125 C 4.238281 -8.085938 3.773438 -8.15625 3.234375 -8.15625 L 2.40625 -8.15625 L 2.40625 -1.0625 L 3.515625 -1.0625 C 4.484375 -1.0625 5.203125 -1.363281 5.671875 -1.96875 C 6.140625 -2.582031 6.375 -3.492188 6.375 -4.703125 Z M 6.375 -4.703125 \"/>\n</symbol>\n<symbol overflow=\"visible\" id=\"glyph0-5\">\n<path style=\"stroke:none;\" d=\"M 1.109375 0 L 1.109375 -9.21875 L 7.390625 -9.21875 L 7.390625 -8.15625 L 2.40625 -8.15625 L 2.40625 -5.265625 L 6.984375 -5.265625 L 6.984375 -4.21875 L 2.40625 -4.21875 L 2.40625 -1.0625 L 7.671875 -1.0625 L 7.671875 0 Z M 1.109375 0 \"/>\n</symbol>\n<symbol overflow=\"visible\" id=\"glyph0-6\">\n<path style=\"stroke:none;\" d=\"M 2.625 -8.15625 L 2.625 -4.78125 L 7.25 -4.78125 L 7.25 -3.703125 L 2.625 -3.703125 L 2.625 0 L 1.328125 0 L 1.328125 -9.21875 L 7.421875 -9.21875 L 7.421875 -8.15625 Z M 2.625 -8.15625 \"/>\n</symbol>\n<symbol overflow=\"visible\" id=\"glyph0-7\">\n<path style=\"stroke:none;\" d=\"M 7.53125 -0.90625 C 7.363281 -0.800781 7.171875 -0.6875 6.953125 -0.5625 C 6.734375 -0.4375 6.492188 -0.320312 6.234375 -0.21875 C 5.972656 -0.113281 5.6875 -0.03125 5.375 0.03125 C 5.0625 0.101562 4.726562 0.140625 4.375 0.140625 C 3.757812 0.140625 3.222656 0.0195312 2.765625 -0.21875 C 2.316406 -0.457031 1.941406 -0.789062 1.640625 -1.21875 C 1.347656 -1.644531 1.128906 -2.148438 0.984375 -2.734375 C 0.835938 -3.316406 0.765625 -3.957031 0.765625 -4.65625 C 0.765625 -5.414062 0.835938 -6.085938 0.984375 -6.671875 C 1.128906 -7.253906 1.347656 -7.742188 1.640625 -8.140625 C 1.929688 -8.546875 2.304688 -8.847656 2.765625 -9.046875 C 3.222656 -9.253906 3.765625 -9.359375 4.390625 -9.359375 C 4.847656 -9.359375 5.25 -9.300781 5.59375 -9.1875 C 5.9375 -9.070312 6.234375 -8.910156 6.484375 -8.703125 C 6.734375 -8.503906 6.941406 -8.265625 7.109375 -7.984375 C 7.285156 -7.710938 7.429688 -7.421875 7.546875 -7.109375 L 6.375 -6.71875 C 6.195312 -7.21875 5.945312 -7.601562 5.625 -7.875 C 5.3125 -8.15625 4.90625 -8.296875 4.40625 -8.296875 C 3.988281 -8.296875 3.632812 -8.21875 3.34375 -8.0625 C 3.0625 -7.90625 2.832031 -7.671875 2.65625 -7.359375 C 2.476562 -7.054688 2.347656 -6.675781 2.265625 -6.21875 C 2.179688 -5.769531 2.140625 -5.25 2.140625 -4.65625 C 2.140625 -3.4375 2.332031 -2.507812 2.71875 -1.875 C 3.101562 -1.238281 3.691406 -0.921875 4.484375 -0.921875 C 4.703125 -0.921875 4.90625 -0.941406 5.09375 -0.984375 C 5.28125 -1.023438 5.445312 -1.070312 5.59375 -1.125 C 5.75 -1.175781 5.882812 -1.226562 6 -1.28125 C 6.113281 -1.34375 6.195312 -1.390625 6.25 -1.421875 L 6.25 -3.71875 L 4.25 -3.71875 L 4.25 -4.8125 L 7.53125 -4.8125 Z M 7.53125 -0.90625 \"/>\n</symbol>\n</g>\n</defs>\n<g id=\"surface2\">\n<rect x=\"0\" y=\"0\" width=\"300\" height=\"300\" style=\"fill:rgb(100%,100%,100%);fill-opacity:1;stroke:none;\"/>\n<path style=\"fill:none;stroke-width:1;stroke-linecap:butt;stroke-linejoin:miter;stroke:rgb(26.666667%,26.666667%,26.666667%);stroke-opacity:1;stroke-miterlimit:10;\" d=\"M 157.757812 104.539062 L 66.808594 51.242188 \"/>\n<path style=\"fill:none;stroke-width:1;stroke-linecap:butt;stroke-linejoin:miter;stroke:rgb(26.666667%,26.666667%,26.666667%);stroke-opacity:1;stroke-miterlimit:10;\" d=\"M 66.808594 51.242188 C 101.378906 60.898438 128.140625 50.484375 147.089844 20 \"/>\n<path style=\"fill:none;stroke-width:1;stroke-linecap:butt;stroke-linejoin:miter;stroke:rgb(26.666667%,26.666667%,26.666667%);stroke-opacity:1;stroke-miterlimit:10;\" d=\"M 147.089844 20 L 269.75 21.777344 \"/>\n<path style=\"fill:none;stroke-width:1;stroke-linecap:butt;stroke-linejoin:miter;stroke:rgb(26.666667%,26.666667%,26.666667%);stroke-opacity:1;stroke-miterlimit:10;\" d=\"M 269.75 21.777344 L 280 110.445312 \"/>\n<path style=\"fill:none;stroke-width:1;stroke-linecap:butt;stroke-linejoin:miter;stroke:rgb(26.666667%,26.666667%,26.666667%);stroke-opacity:1;stroke-miterlimit:10;\" d=\"M 157.757812 104.539062 L 280 110.445312 \"/>\n<path style=\"fill:none;stroke-width:1;stroke-linecap:butt;stroke-linejoin:miter;stroke:rgb(26.666667%,26.666667%,26.666667%);stroke-opacity:1;stroke-miterlimit:10;\" d=\"M 157.757812 104.539062 L 147.089844 20 \"/>\n<path style=\"fill:none;stroke-width:1;stroke-linecap:butt;stroke-linejoin:miter;stroke:rgb(26.666667%,26.666667%,26.666667%);stroke-opacity:1;stroke-miterlimit:10;\" d=\"M 66.808594 51.242188 C 85.757812 20.757812 112.519531 10.34375 147.089844 20 \"/>\n<path style=\"fill-rule:nonzero;fill:rgb(100%,0%,0%);fill-opacity:1;stroke-width:1;stroke-linecap:butt;stroke-linejoin:miter;stroke:rgb(0%,0%,0%);stroke-opacity:1;stroke-miterlimit:10;\" d=\"M 167.757812 104.539062 C 167.757812 110.058594 163.28125 114.539062 157.757812 114.539062 C 152.238281 114.539062 147.757812 110.058594 147.757812 104.539062 C 147.757812 99.015625 152.238281 94.539062 157.757812 94.539062 C 163.28125 94.539062 167.757812 99.015625 167.757812 104.539062 \"/>\n<path style=\"fill-rule:nonzero;fill:rgb(100%,0%,0%);fill-opacity:1;stroke-width:1;stroke-linecap:butt;stroke-linejoin:miter;stroke:rgb(0%,0%,0%);stroke-opacity:1;stroke-miterlimit:10;\" d=\"M 76.808594 51.242188 C 76.808594 56.765625 72.332031 61.242188 66.808594 61.242188 C 61.285156 61.242188 56.808594 56.765625 56.808594 51.242188 C 56.808594 45.722656 61.285156 41.242188 66.808594 41.242188 C 72.332031 41.242188 76.808594 45.722656 76.808594 51.242188 \"/>\n<path style=\"fill-rule:nonzero;fill:rgb(100%,0%,0%);fill-opacity:1;stroke-width:1;stroke-linecap:butt;stroke-linejoin:miter;stroke:rgb(0%,0%,0%);stroke-opacity:1;stroke-miterlimit:10;\" d=\"M 157.089844 20 C 157.089844 25.523438 152.613281 30 147.089844 30 C 141.570312 30 137.089844 25.523438 137.089844 20 C 137.089844 14.476562 141.570312 10 147.089844 10 C 152.613281 10 157.089844 14.476562 157.089844 20 \"/>\n<path style=\"fill-rule:nonzero;fill:rgb(100%,0%,0%);fill-opacity:1;stroke-width:1;stroke-linecap:butt;stroke-linejoin:miter;stroke:rgb(0%,0%,0%);stroke-opacity:1;stroke-miterlimit:10;\" d=\"M 279.75 21.777344 C 279.75 27.300781 275.273438 31.777344 269.75 31.777344 C 264.226562 31.777344 259.75 27.300781 259.75 21.777344 C 259.75 16.253906 264.226562 11.777344 269.75 11.777344 C 275.273438 11.777344 279.75 16.253906 279.75 21.777344 \"/>\n<path style=\"fill-rule:nonzero;fill:rgb(100%,0%,0%);fill-opacity:1;stroke-width:1;stroke-linecap:butt;stroke-linejoin:miter;stroke:rgb(0%,0%,0%);stroke-opacity:1;stroke-miterlimit:10;\" d=\"M 290 110.445312 C 290 115.964844 285.523438 120.445312 280 120.445312 C 274.476562 120.445312 270 115.964844 270 110.445312 C 270 104.921875 274.476562 100.445312 280 100.445312 C 285.523438 100.445312 290 104.921875 290 110.445312 \"/>\n<path style=\"fill-rule:nonzero;fill:rgb(100%,0%,0%);fill-opacity:1;stroke-width:1;stroke-linecap:butt;stroke-linejoin:miter;stroke:rgb(0%,0%,0%);stroke-opacity:1;stroke-miterlimit:10;\" d=\"M 30 243.304688 C 30 248.828125 25.523438 253.304688 20 253.304688 C 14.476562 253.304688 10 248.828125 10 243.304688 C 10 237.78125 14.476562 233.304688 20 233.304688 C 25.523438 233.304688 30 237.78125 30 243.304688 \"/>\n<path style=\"fill-rule:nonzero;fill:rgb(100%,0%,0%);fill-opacity:1;stroke-width:1;stroke-linecap:butt;stroke-linejoin:miter;stroke:rgb(0%,0%,0%);stroke-opacity:1;stroke-miterlimit:10;\" d=\"M 271.441406 280 C 271.441406 285.523438 266.964844 290 261.441406 290 C 255.917969 290 251.441406 285.523438 251.441406 280 C 251.441406 274.476562 255.917969 270 261.441406 270 C 266.964844 270 271.441406 274.476562 271.441406 280 \"/>\n<g style=\"fill:rgb(0%,0%,0%);fill-opacity:1;\">\n  <use xlink:href=\"#glyph0-1\" x=\"153.5625\" y=\"111.25\"/>\n</g>\n<g style=\"fill:rgb(0%,0%,0%);fill-opacity:1;\">\n  <use xlink:href=\"#glyph0-2\" x=\"62.316406\" y=\"57.957031\"/>\n</g>\n<g style=\"fill:rgb(0%,0%,0%);fill-opacity:1;\">\n  <use xlink:href=\"#glyph0-3\" x=\"142.800781\" y=\"26.785156\"/>\n</g>\n<g style=\"fill:rgb(0%,0%,0%);fill-opacity:1;\">\n  <use xlink:href=\"#glyph0-4\" x=\"265.351562\" y=\"28.488281\"/>\n</g>\n<g style=\"fill:rgb(0%,0%,0%);fill-opacity:1;\">\n  <use xlink:href=\"#glyph0-5\" x=\"275.609375\" y=\"117.15625\"/>\n</g>\n<g style=\"fill:rgb(0%,0%,0%);fill-opacity:1;\">\n  <use xlink:href=\"#glyph0-6\" x=\"15.628906\" y=\"250.019531\"/>\n</g>\n<g style=\"fill:rgb(0%,0%,0%);fill-opacity:1;\">\n  <use xlink:href=\"#glyph0-7\" x=\"257.285156\" y=\"286.785156\"/>\n</g>\n</g>\n</svg>\n"
          },
          "metadata": {
            "tags": [],
            "image/svg+xml": {
              "isolated": true
            }
          },
          "execution_count": 7
        }
      ]
    },
    {
      "cell_type": "code",
      "metadata": {
        "colab": {
          "base_uri": "https://localhost:8080/"
        },
        "id": "UdP2oo-0VCI4",
        "outputId": "8f206aa9-b63c-4488-9ff7-146e5350a7e4"
      },
      "source": [
        "# Criação de grafo com pesos entre as relações\n",
        "grafo5 = Graph(edges = [(0,1),(2,3),(0,2),(0,3)], directed = True)\n",
        "grafo5.vs['label'] = ['John', 'Luisa', 'Viroria', 'Aline']\n",
        "grafo5.vs['peso'] = [40,30,30,25]\n",
        "print(grafo5)"
      ],
      "execution_count": 8,
      "outputs": [
        {
          "output_type": "stream",
          "text": [
            "IGRAPH D--- 4 4 --\n",
            "+ attr: label (v), peso (v)\n",
            "+ edges:\n",
            "0->1 2->3 0->2 0->3\n"
          ],
          "name": "stdout"
        }
      ]
    },
    {
      "cell_type": "code",
      "metadata": {
        "colab": {
          "base_uri": "https://localhost:8080/"
        },
        "id": "ot6FV8CdVCI5",
        "outputId": "32850a74-96ac-42c2-b022-86a9c0af3bc7"
      },
      "source": [
        "# Percorrer os vértices para visualizar os pesos\n",
        "for v in grafo5.vs:\n",
        "    print(v)"
      ],
      "execution_count": 9,
      "outputs": [
        {
          "output_type": "stream",
          "text": [
            "igraph.Vertex(<igraph.Graph object at 0x7f6257280550>, 0, {'label': 'John', 'peso': 40})\n",
            "igraph.Vertex(<igraph.Graph object at 0x7f6257280550>, 1, {'label': 'Luisa', 'peso': 30})\n",
            "igraph.Vertex(<igraph.Graph object at 0x7f6257280550>, 2, {'label': 'Viroria', 'peso': 30})\n",
            "igraph.Vertex(<igraph.Graph object at 0x7f6257280550>, 3, {'label': 'Aline', 'peso': 25})\n"
          ],
          "name": "stdout"
        }
      ]
    },
    {
      "cell_type": "code",
      "metadata": {
        "colab": {
          "base_uri": "https://localhost:8080/"
        },
        "id": "_h2AUkVvVCI6",
        "outputId": "18191456-5151-4cf4-8b42-bc4f05acd326"
      },
      "source": [
        "grafo5.vs[0]"
      ],
      "execution_count": 10,
      "outputs": [
        {
          "output_type": "execute_result",
          "data": {
            "text/plain": [
              "igraph.Vertex(<igraph.Graph object at 0x7f6257280550>, 0, {'label': 'John', 'peso': 40})"
            ]
          },
          "metadata": {
            "tags": []
          },
          "execution_count": 10
        }
      ]
    },
    {
      "cell_type": "code",
      "metadata": {
        "colab": {
          "base_uri": "https://localhost:8080/"
        },
        "id": "e-4Tnmn0VCI7",
        "outputId": "1c4d0d10-f262-408b-b783-e5f4753668fc"
      },
      "source": [
        "# Definição do tipo de amizado e do peso das relações\n",
        "grafo5.es['TipoAmizade'] = ['Amigo', 'Amigo', 'Inimigo', 'Amigo']\n",
        "grafo5.es['weight'] = [1,2,1,3]\n",
        "print(grafo5)"
      ],
      "execution_count": 18,
      "outputs": [
        {
          "output_type": "stream",
          "text": [
            "IGRAPH DNWT 4 4 --\n",
            "+ attr: label (v), name (v), peso (v), type (v), TipoAmizade (e), weight (e)\n",
            "+ edges (vertex names):\n",
            "Amizades->Amizades, Amizades->Amizades, Amizades->Amizades, Amizades->Amizades\n"
          ],
          "name": "stdout"
        }
      ]
    },
    {
      "cell_type": "code",
      "metadata": {
        "colab": {
          "base_uri": "https://localhost:8080/"
        },
        "id": "miW4oPqJVCI8",
        "outputId": "9c022d6e-8bcb-4601-c316-563fbd197d9f"
      },
      "source": [
        "# Percorrer os vértices, tipo de amizade\n",
        "for e in grafo5.es:\n",
        "    print(e)"
      ],
      "execution_count": 19,
      "outputs": [
        {
          "output_type": "stream",
          "text": [
            "igraph.Edge(<igraph.Graph object at 0x7f6257280550>, 0, {'TipoAmizade': 'Amigo', 'weight': 1})\n",
            "igraph.Edge(<igraph.Graph object at 0x7f6257280550>, 1, {'TipoAmizade': 'Amigo', 'weight': 2})\n",
            "igraph.Edge(<igraph.Graph object at 0x7f6257280550>, 2, {'TipoAmizade': 'Inimigo', 'weight': 1})\n",
            "igraph.Edge(<igraph.Graph object at 0x7f6257280550>, 3, {'TipoAmizade': 'Amigo', 'weight': 3})\n"
          ],
          "name": "stdout"
        }
      ]
    },
    {
      "cell_type": "code",
      "metadata": {
        "colab": {
          "base_uri": "https://localhost:8080/"
        },
        "id": "Q6h66-NNVCI8",
        "outputId": "86236062-13f5-415c-e43a-e8727ce3a557"
      },
      "source": [
        "#propriedades e valores de uma posição\n",
        "grafo5.es[0]"
      ],
      "execution_count": 13,
      "outputs": [
        {
          "output_type": "execute_result",
          "data": {
            "text/plain": [
              "igraph.Edge(<igraph.Graph object at 0x7f6257280550>, 0, {'TipoAmizade': 'Amigo', 'weight': 1})"
            ]
          },
          "metadata": {
            "tags": []
          },
          "execution_count": 13
        }
      ]
    },
    {
      "cell_type": "code",
      "metadata": {
        "colab": {
          "base_uri": "https://localhost:8080/"
        },
        "id": "dsY94Q1FVCI9",
        "outputId": "6ccc1817-ce8d-45cf-faf3-9d52f7fea2fa"
      },
      "source": [
        "# tipos de amizade\n",
        "grafo5.es['TipoAmizade']"
      ],
      "execution_count": 20,
      "outputs": [
        {
          "output_type": "execute_result",
          "data": {
            "text/plain": [
              "['Amigo', 'Amigo', 'Inimigo', 'Amigo']"
            ]
          },
          "metadata": {
            "tags": []
          },
          "execution_count": 20
        }
      ]
    },
    {
      "cell_type": "code",
      "metadata": {
        "colab": {
          "base_uri": "https://localhost:8080/"
        },
        "id": "nDWZEtC3VCI-",
        "outputId": "cade209a-28f6-44ec-a5b7-d698028add80"
      },
      "source": [
        "print(grafo5)"
      ],
      "execution_count": 21,
      "outputs": [
        {
          "output_type": "stream",
          "text": [
            "IGRAPH DNWT 4 4 --\n",
            "+ attr: label (v), name (v), peso (v), type (v), TipoAmizade (e), weight (e)\n",
            "+ edges (vertex names):\n",
            "Amizades->Amizades, Amizades->Amizades, Amizades->Amizades, Amizades->Amizades\n"
          ],
          "name": "stdout"
        }
      ]
    },
    {
      "cell_type": "code",
      "metadata": {
        "colab": {
          "base_uri": "https://localhost:8080/",
          "height": 489
        },
        "id": "vVqAgsfKVCI_",
        "outputId": "e0c33fc4-aa4e-4ad4-d839-a63ab974d4aa"
      },
      "source": [
        "# Mudança dos tipos das relações em grafos já existentes\n",
        "grafo5.vs['type'] = 'Humanos'\n",
        "grafo5.vs['name'] = 'Amizades'\n",
        "print(grafo5)\n",
        "plot(grafo5, bbox=(0,0,300,300))\n"
      ],
      "execution_count": 22,
      "outputs": [
        {
          "output_type": "stream",
          "text": [
            "IGRAPH DNWT 4 4 --\n",
            "+ attr: label (v), name (v), peso (v), type (v), TipoAmizade (e), weight (e)\n",
            "+ edges (vertex names):\n",
            "Amizades->Amizades, Amizades->Amizades, Amizades->Amizades, Amizades->Amizades\n"
          ],
          "name": "stdout"
        },
        {
          "output_type": "execute_result",
          "data": {
            "text/plain": [
              "<igraph.drawing.Plot at 0x7f6257250610>"
            ],
            "image/svg+xml": "<?xml version=\"1.0\" encoding=\"UTF-8\"?>\n<svg xmlns=\"http://www.w3.org/2000/svg\" xmlns:xlink=\"http://www.w3.org/1999/xlink\" width=\"300pt\" height=\"300pt\" viewBox=\"0 0 300 300\" version=\"1.1\">\n<defs>\n<g>\n<symbol overflow=\"visible\" id=\"glyph0-0\">\n<path style=\"stroke:none;\" d=\"M 0.46875 0 L 0.46875 -9.328125 L 4.1875 -9.328125 L 4.1875 0 Z M 0.9375 -0.46875 L 3.71875 -0.46875 L 3.71875 -8.859375 L 0.9375 -8.859375 Z M 0.9375 -0.46875 \"/>\n</symbol>\n<symbol overflow=\"visible\" id=\"glyph0-1\">\n<path style=\"stroke:none;\" d=\"M 6.734375 -2.875 C 6.734375 -2.414062 6.675781 -2 6.5625 -1.625 C 6.445312 -1.257812 6.273438 -0.941406 6.046875 -0.671875 C 5.816406 -0.410156 5.53125 -0.207031 5.1875 -0.0625 C 4.84375 0.0703125 4.445312 0.140625 4 0.140625 C 3.226562 0.140625 2.609375 -0.0625 2.140625 -0.46875 C 1.671875 -0.875 1.359375 -1.515625 1.203125 -2.390625 L 2.484375 -2.609375 C 2.523438 -2.316406 2.59375 -2.0625 2.6875 -1.84375 C 2.789062 -1.632812 2.90625 -1.460938 3.03125 -1.328125 C 3.164062 -1.191406 3.316406 -1.085938 3.484375 -1.015625 C 3.648438 -0.953125 3.828125 -0.921875 4.015625 -0.921875 C 4.484375 -0.921875 4.835938 -1.082031 5.078125 -1.40625 C 5.316406 -1.738281 5.4375 -2.21875 5.4375 -2.84375 L 5.4375 -8.15625 L 3.3125 -8.15625 L 3.3125 -9.21875 L 6.734375 -9.21875 Z M 6.734375 -2.875 \"/>\n</symbol>\n<symbol overflow=\"visible\" id=\"glyph0-2\">\n<path style=\"stroke:none;\" d=\"M 7.5 -3.703125 C 7.5 -3.054688 7.421875 -2.492188 7.265625 -2.015625 C 7.117188 -1.535156 6.898438 -1.132812 6.609375 -0.8125 C 6.328125 -0.488281 5.976562 -0.25 5.5625 -0.09375 C 5.144531 0.0625 4.675781 0.140625 4.15625 0.140625 C 3.664062 0.140625 3.21875 0.0625 2.8125 -0.09375 C 2.40625 -0.25 2.0625 -0.484375 1.78125 -0.796875 C 1.5 -1.117188 1.28125 -1.519531 1.125 -2 C 0.96875 -2.488281 0.890625 -3.054688 0.890625 -3.703125 C 0.890625 -4.972656 1.175781 -5.925781 1.75 -6.5625 C 2.332031 -7.207031 3.148438 -7.53125 4.203125 -7.53125 C 5.316406 -7.53125 6.144531 -7.210938 6.6875 -6.578125 C 7.226562 -5.953125 7.5 -4.992188 7.5 -3.703125 Z M 6.203125 -3.703125 C 6.203125 -4.273438 6.148438 -4.75 6.046875 -5.125 C 5.953125 -5.5 5.816406 -5.796875 5.640625 -6.015625 C 5.472656 -6.242188 5.265625 -6.398438 5.015625 -6.484375 C 4.773438 -6.578125 4.507812 -6.625 4.21875 -6.625 C 3.925781 -6.625 3.65625 -6.578125 3.40625 -6.484375 C 3.15625 -6.390625 2.9375 -6.226562 2.75 -6 C 2.570312 -5.78125 2.429688 -5.484375 2.328125 -5.109375 C 2.234375 -4.734375 2.1875 -4.265625 2.1875 -3.703125 C 2.1875 -3.128906 2.238281 -2.65625 2.34375 -2.28125 C 2.445312 -1.90625 2.585938 -1.601562 2.765625 -1.375 C 2.953125 -1.15625 3.164062 -1 3.40625 -0.90625 C 3.644531 -0.8125 3.894531 -0.765625 4.15625 -0.765625 C 4.445312 -0.765625 4.71875 -0.8125 4.96875 -0.90625 C 5.226562 -1 5.445312 -1.15625 5.625 -1.375 C 5.8125 -1.59375 5.953125 -1.890625 6.046875 -2.265625 C 6.148438 -2.648438 6.203125 -3.128906 6.203125 -3.703125 Z M 6.203125 -3.703125 \"/>\n</symbol>\n<symbol overflow=\"visible\" id=\"glyph0-3\">\n<path style=\"stroke:none;\" d=\"M 1.265625 -10.140625 L 2.5 -10.140625 L 2.5 -7.484375 C 2.5 -7.253906 2.492188 -7.023438 2.484375 -6.796875 C 2.472656 -6.566406 2.457031 -6.34375 2.4375 -6.125 L 2.46875 -6.125 C 2.570312 -6.34375 2.695312 -6.535156 2.84375 -6.703125 C 2.988281 -6.878906 3.15625 -7.023438 3.34375 -7.140625 C 3.53125 -7.265625 3.742188 -7.359375 3.984375 -7.421875 C 4.222656 -7.492188 4.488281 -7.53125 4.78125 -7.53125 C 5.15625 -7.53125 5.488281 -7.476562 5.78125 -7.375 C 6.082031 -7.28125 6.332031 -7.128906 6.53125 -6.921875 C 6.738281 -6.710938 6.894531 -6.441406 7 -6.109375 C 7.113281 -5.785156 7.171875 -5.390625 7.171875 -4.921875 L 7.171875 0 L 5.9375 0 L 5.9375 -4.75 C 5.9375 -5.113281 5.894531 -5.410156 5.8125 -5.640625 C 5.738281 -5.878906 5.632812 -6.066406 5.5 -6.203125 C 5.375 -6.347656 5.21875 -6.445312 5.03125 -6.5 C 4.851562 -6.550781 4.65625 -6.578125 4.4375 -6.578125 C 4.164062 -6.578125 3.910156 -6.523438 3.671875 -6.421875 C 3.441406 -6.328125 3.238281 -6.179688 3.0625 -5.984375 C 2.882812 -5.785156 2.742188 -5.546875 2.640625 -5.265625 C 2.546875 -4.984375 2.5 -4.65625 2.5 -4.28125 L 2.5 0 L 1.265625 0 Z M 1.265625 -10.140625 \"/>\n</symbol>\n<symbol overflow=\"visible\" id=\"glyph0-4\">\n<path style=\"stroke:none;\" d=\"M 5.9375 0 L 5.9375 -4.75 C 5.9375 -5.113281 5.894531 -5.410156 5.8125 -5.640625 C 5.738281 -5.878906 5.632812 -6.066406 5.5 -6.203125 C 5.375 -6.347656 5.21875 -6.445312 5.03125 -6.5 C 4.851562 -6.550781 4.65625 -6.578125 4.4375 -6.578125 C 4.164062 -6.578125 3.910156 -6.523438 3.671875 -6.421875 C 3.441406 -6.328125 3.238281 -6.179688 3.0625 -5.984375 C 2.882812 -5.785156 2.742188 -5.546875 2.640625 -5.265625 C 2.546875 -4.984375 2.5 -4.65625 2.5 -4.28125 L 2.5 0 L 1.265625 0 L 1.265625 -5.8125 C 1.265625 -5.96875 1.265625 -6.128906 1.265625 -6.296875 C 1.265625 -6.472656 1.257812 -6.632812 1.25 -6.78125 C 1.25 -6.9375 1.242188 -7.066406 1.234375 -7.171875 C 1.234375 -7.285156 1.226562 -7.359375 1.21875 -7.390625 L 2.390625 -7.390625 C 2.390625 -7.367188 2.390625 -7.304688 2.390625 -7.203125 C 2.398438 -7.109375 2.40625 -6.992188 2.40625 -6.859375 C 2.414062 -6.734375 2.421875 -6.601562 2.421875 -6.46875 C 2.429688 -6.332031 2.4375 -6.21875 2.4375 -6.125 L 2.46875 -6.125 C 2.570312 -6.34375 2.695312 -6.535156 2.84375 -6.703125 C 2.988281 -6.878906 3.160156 -7.023438 3.359375 -7.140625 C 3.554688 -7.265625 3.773438 -7.359375 4.015625 -7.421875 C 4.253906 -7.492188 4.523438 -7.53125 4.828125 -7.53125 C 5.203125 -7.53125 5.535156 -7.476562 5.828125 -7.375 C 6.117188 -7.28125 6.363281 -7.128906 6.5625 -6.921875 C 6.757812 -6.710938 6.910156 -6.441406 7.015625 -6.109375 C 7.117188 -5.785156 7.171875 -5.390625 7.171875 -4.921875 L 7.171875 0 Z M 5.9375 0 \"/>\n</symbol>\n<symbol overflow=\"visible\" id=\"glyph0-5\">\n<path style=\"stroke:none;\" d=\"M 1.625 0 L 1.625 -9.21875 L 2.921875 -9.21875 L 2.921875 -1.0625 L 7.515625 -1.0625 L 7.515625 0 Z M 1.625 0 \"/>\n</symbol>\n<symbol overflow=\"visible\" id=\"glyph0-6\">\n<path style=\"stroke:none;\" d=\"M 2.5 -7.390625 L 2.5 -2.703125 C 2.5 -2.347656 2.523438 -2.046875 2.578125 -1.796875 C 2.628906 -1.554688 2.710938 -1.363281 2.828125 -1.21875 C 2.953125 -1.070312 3.109375 -0.96875 3.296875 -0.90625 C 3.492188 -0.84375 3.738281 -0.8125 4.03125 -0.8125 C 4.320312 -0.8125 4.582031 -0.863281 4.8125 -0.96875 C 5.050781 -1.070312 5.253906 -1.21875 5.421875 -1.40625 C 5.585938 -1.601562 5.710938 -1.84375 5.796875 -2.125 C 5.890625 -2.414062 5.9375 -2.742188 5.9375 -3.109375 L 5.9375 -7.390625 L 7.171875 -7.390625 L 7.171875 -1.578125 C 7.171875 -1.421875 7.171875 -1.253906 7.171875 -1.078125 C 7.171875 -0.910156 7.171875 -0.75 7.171875 -0.59375 C 7.179688 -0.445312 7.1875 -0.316406 7.1875 -0.203125 C 7.195312 -0.0976562 7.207031 -0.03125 7.21875 0 L 6.046875 0 C 6.046875 -0.0195312 6.039062 -0.078125 6.03125 -0.171875 C 6.03125 -0.273438 6.023438 -0.390625 6.015625 -0.515625 C 6.015625 -0.648438 6.007812 -0.785156 6 -0.921875 C 6 -1.054688 6 -1.171875 6 -1.265625 L 5.96875 -1.265625 C 5.851562 -1.046875 5.722656 -0.847656 5.578125 -0.671875 C 5.441406 -0.503906 5.28125 -0.359375 5.09375 -0.234375 C 4.90625 -0.117188 4.691406 -0.03125 4.453125 0.03125 C 4.210938 0.101562 3.929688 0.140625 3.609375 0.140625 C 3.203125 0.140625 2.847656 0.0859375 2.546875 -0.015625 C 2.253906 -0.117188 2.007812 -0.273438 1.8125 -0.484375 C 1.625 -0.691406 1.484375 -0.957031 1.390625 -1.28125 C 1.304688 -1.613281 1.265625 -2.007812 1.265625 -2.46875 L 1.265625 -7.390625 Z M 2.5 -7.390625 \"/>\n</symbol>\n<symbol overflow=\"visible\" id=\"glyph0-7\">\n<path style=\"stroke:none;\" d=\"M 5.09375 -0.96875 L 7.6875 -0.96875 L 7.6875 0 L 0.984375 0 L 0.984375 -0.96875 L 3.859375 -0.96875 L 3.859375 -6.421875 L 1.6875 -6.421875 L 1.6875 -7.390625 L 5.09375 -7.390625 Z M 3.71875 -8.828125 L 3.71875 -10.140625 L 5.09375 -10.140625 L 5.09375 -8.828125 Z M 3.71875 -8.828125 \"/>\n</symbol>\n<symbol overflow=\"visible\" id=\"glyph0-8\">\n<path style=\"stroke:none;\" d=\"M 7.25 -2.109375 C 7.25 -1.765625 7.179688 -1.453125 7.046875 -1.171875 C 6.910156 -0.898438 6.710938 -0.664062 6.453125 -0.46875 C 6.203125 -0.269531 5.890625 -0.117188 5.515625 -0.015625 C 5.148438 0.0859375 4.726562 0.140625 4.25 0.140625 C 3.820312 0.140625 3.4375 0.109375 3.09375 0.046875 C 2.75 -0.015625 2.445312 -0.113281 2.1875 -0.25 C 1.925781 -0.394531 1.707031 -0.582031 1.53125 -0.8125 C 1.351562 -1.050781 1.222656 -1.347656 1.140625 -1.703125 L 2.234375 -1.90625 C 2.285156 -1.65625 2.367188 -1.457031 2.484375 -1.3125 C 2.609375 -1.164062 2.753906 -1.050781 2.921875 -0.96875 C 3.097656 -0.894531 3.296875 -0.84375 3.515625 -0.8125 C 3.742188 -0.789062 3.988281 -0.78125 4.25 -0.78125 C 4.507812 -0.78125 4.75 -0.796875 4.96875 -0.828125 C 5.195312 -0.867188 5.394531 -0.9375 5.5625 -1.03125 C 5.726562 -1.125 5.859375 -1.242188 5.953125 -1.390625 C 6.046875 -1.546875 6.09375 -1.734375 6.09375 -1.953125 C 6.09375 -2.179688 6.035156 -2.363281 5.921875 -2.5 C 5.804688 -2.632812 5.644531 -2.75 5.4375 -2.84375 C 5.238281 -2.945312 5 -3.03125 4.71875 -3.09375 C 4.445312 -3.164062 4.148438 -3.242188 3.828125 -3.328125 C 3.535156 -3.410156 3.242188 -3.492188 2.953125 -3.578125 C 2.671875 -3.671875 2.414062 -3.789062 2.1875 -3.9375 C 1.96875 -4.082031 1.785156 -4.269531 1.640625 -4.5 C 1.503906 -4.726562 1.4375 -5.019531 1.4375 -5.375 C 1.4375 -6.039062 1.675781 -6.5625 2.15625 -6.9375 C 2.644531 -7.320312 3.347656 -7.515625 4.265625 -7.515625 C 4.617188 -7.515625 4.953125 -7.476562 5.265625 -7.40625 C 5.585938 -7.34375 5.867188 -7.238281 6.109375 -7.09375 C 6.359375 -6.957031 6.566406 -6.773438 6.734375 -6.546875 C 6.898438 -6.316406 7.015625 -6.046875 7.078125 -5.734375 L 5.96875 -5.59375 C 5.9375 -5.800781 5.867188 -5.96875 5.765625 -6.09375 C 5.660156 -6.226562 5.53125 -6.332031 5.375 -6.40625 C 5.21875 -6.476562 5.046875 -6.523438 4.859375 -6.546875 C 4.671875 -6.578125 4.472656 -6.59375 4.265625 -6.59375 C 3.140625 -6.59375 2.578125 -6.25 2.578125 -5.5625 C 2.578125 -5.351562 2.625 -5.179688 2.71875 -5.046875 C 2.820312 -4.921875 2.960938 -4.8125 3.140625 -4.71875 C 3.316406 -4.632812 3.53125 -4.5625 3.78125 -4.5 C 4.03125 -4.445312 4.300781 -4.378906 4.59375 -4.296875 C 4.882812 -4.222656 5.1875 -4.140625 5.5 -4.046875 C 5.8125 -3.953125 6.097656 -3.820312 6.359375 -3.65625 C 6.617188 -3.5 6.832031 -3.296875 7 -3.046875 C 7.164062 -2.804688 7.25 -2.492188 7.25 -2.109375 Z M 7.25 -2.109375 \"/>\n</symbol>\n<symbol overflow=\"visible\" id=\"glyph0-9\">\n<path style=\"stroke:none;\" d=\"M 7.53125 -0.765625 C 7.59375 -0.765625 7.65625 -0.765625 7.71875 -0.765625 C 7.789062 -0.773438 7.863281 -0.789062 7.9375 -0.8125 L 7.9375 -0.046875 C 7.78125 -0.00390625 7.625 0.0195312 7.46875 0.03125 C 7.3125 0.0507812 7.148438 0.0625 6.984375 0.0625 C 6.742188 0.0625 6.539062 0.0351562 6.375 -0.015625 C 6.207031 -0.078125 6.070312 -0.171875 5.96875 -0.296875 C 5.863281 -0.429688 5.785156 -0.585938 5.734375 -0.765625 C 5.679688 -0.953125 5.648438 -1.171875 5.640625 -1.421875 L 5.59375 -1.421875 C 5.46875 -1.179688 5.328125 -0.960938 5.171875 -0.765625 C 5.015625 -0.578125 4.832031 -0.414062 4.625 -0.28125 C 4.425781 -0.144531 4.195312 -0.0390625 3.9375 0.03125 C 3.6875 0.101562 3.390625 0.140625 3.046875 0.140625 C 2.328125 0.140625 1.785156 -0.0546875 1.421875 -0.453125 C 1.054688 -0.847656 0.875 -1.382812 0.875 -2.0625 C 0.875 -2.550781 0.960938 -2.953125 1.140625 -3.265625 C 1.328125 -3.578125 1.566406 -3.820312 1.859375 -4 C 2.148438 -4.175781 2.476562 -4.300781 2.84375 -4.375 C 3.21875 -4.445312 3.597656 -4.484375 3.984375 -4.484375 L 5.59375 -4.515625 L 5.59375 -4.921875 C 5.59375 -5.222656 5.5625 -5.476562 5.5 -5.6875 C 5.4375 -5.90625 5.34375 -6.078125 5.21875 -6.203125 C 5.09375 -6.335938 4.929688 -6.4375 4.734375 -6.5 C 4.546875 -6.5625 4.328125 -6.59375 4.078125 -6.59375 C 3.847656 -6.59375 3.640625 -6.578125 3.453125 -6.546875 C 3.265625 -6.515625 3.101562 -6.453125 2.96875 -6.359375 C 2.84375 -6.273438 2.738281 -6.15625 2.65625 -6 C 2.570312 -5.84375 2.515625 -5.648438 2.484375 -5.421875 L 1.203125 -5.53125 C 1.242188 -5.820312 1.328125 -6.085938 1.453125 -6.328125 C 1.578125 -6.578125 1.753906 -6.789062 1.984375 -6.96875 C 2.210938 -7.144531 2.5 -7.28125 2.84375 -7.375 C 3.1875 -7.476562 3.601562 -7.53125 4.09375 -7.53125 C 5.007812 -7.53125 5.695312 -7.316406 6.15625 -6.890625 C 6.613281 -6.460938 6.84375 -5.847656 6.84375 -5.046875 L 6.84375 -1.859375 C 6.84375 -1.492188 6.890625 -1.21875 6.984375 -1.03125 C 7.078125 -0.851562 7.257812 -0.765625 7.53125 -0.765625 Z M 3.359375 -0.796875 C 3.742188 -0.796875 4.070312 -0.867188 4.34375 -1.015625 C 4.625 -1.160156 4.851562 -1.34375 5.03125 -1.5625 C 5.21875 -1.78125 5.359375 -2.019531 5.453125 -2.28125 C 5.546875 -2.550781 5.59375 -2.804688 5.59375 -3.046875 L 5.59375 -3.65625 L 4.296875 -3.625 C 4.046875 -3.613281 3.789062 -3.59375 3.53125 -3.5625 C 3.28125 -3.53125 3.050781 -3.457031 2.84375 -3.34375 C 2.644531 -3.238281 2.484375 -3.082031 2.359375 -2.875 C 2.234375 -2.664062 2.171875 -2.390625 2.171875 -2.046875 C 2.171875 -1.671875 2.269531 -1.367188 2.46875 -1.140625 C 2.675781 -0.910156 2.972656 -0.796875 3.359375 -0.796875 Z M 3.359375 -0.796875 \"/>\n</symbol>\n<symbol overflow=\"visible\" id=\"glyph0-10\">\n<path style=\"stroke:none;\" d=\"M 4.875 0 L 3.515625 0 L 0.0625 -9.21875 L 1.4375 -9.21875 L 3.625 -3.0625 C 3.695312 -2.851562 3.765625 -2.632812 3.828125 -2.40625 C 3.898438 -2.1875 3.960938 -1.984375 4.015625 -1.796875 C 4.078125 -1.578125 4.140625 -1.363281 4.203125 -1.15625 C 4.253906 -1.351562 4.3125 -1.5625 4.375 -1.78125 C 4.4375 -1.96875 4.5 -2.171875 4.5625 -2.390625 C 4.632812 -2.617188 4.707031 -2.84375 4.78125 -3.0625 L 6.953125 -9.21875 L 8.328125 -9.21875 Z M 4.875 0 \"/>\n</symbol>\n<symbol overflow=\"visible\" id=\"glyph0-11\">\n<path style=\"stroke:none;\" d=\"M 7.140625 -6.28125 C 6.929688 -6.3125 6.707031 -6.335938 6.46875 -6.359375 C 6.238281 -6.390625 5.976562 -6.40625 5.6875 -6.40625 C 5.3125 -6.40625 4.96875 -6.328125 4.65625 -6.171875 C 4.351562 -6.015625 4.097656 -5.800781 3.890625 -5.53125 C 3.679688 -5.269531 3.519531 -4.960938 3.40625 -4.609375 C 3.289062 -4.253906 3.234375 -3.875 3.234375 -3.46875 L 3.234375 0 L 2.015625 0 L 2.015625 -4.796875 C 2.015625 -5.046875 2 -5.300781 1.96875 -5.5625 C 1.9375 -5.832031 1.898438 -6.082031 1.859375 -6.3125 C 1.828125 -6.550781 1.789062 -6.765625 1.75 -6.953125 C 1.71875 -7.140625 1.6875 -7.285156 1.65625 -7.390625 L 2.828125 -7.390625 C 2.859375 -7.285156 2.890625 -7.160156 2.921875 -7.015625 C 2.953125 -6.878906 2.984375 -6.734375 3.015625 -6.578125 C 3.046875 -6.421875 3.070312 -6.265625 3.09375 -6.109375 C 3.125 -5.960938 3.144531 -5.820312 3.15625 -5.6875 L 3.1875 -5.6875 C 3.3125 -5.96875 3.441406 -6.222656 3.578125 -6.453125 C 3.722656 -6.679688 3.890625 -6.875 4.078125 -7.03125 C 4.273438 -7.195312 4.503906 -7.320312 4.765625 -7.40625 C 5.035156 -7.488281 5.359375 -7.53125 5.734375 -7.53125 C 5.992188 -7.53125 6.242188 -7.519531 6.484375 -7.5 C 6.734375 -7.476562 6.953125 -7.453125 7.140625 -7.421875 Z M 7.140625 -6.28125 \"/>\n</symbol>\n<symbol overflow=\"visible\" id=\"glyph0-12\">\n<path style=\"stroke:none;\" d=\"M 7.0625 0 L 6.125 -2.609375 L 2.28125 -2.609375 L 1.34375 0 L 0 0 L 3.484375 -9.21875 L 4.96875 -9.21875 L 8.390625 0 Z M 4.796875 -6.515625 C 4.734375 -6.691406 4.671875 -6.867188 4.609375 -7.046875 C 4.546875 -7.222656 4.488281 -7.390625 4.4375 -7.546875 C 4.382812 -7.710938 4.335938 -7.851562 4.296875 -7.96875 C 4.253906 -8.09375 4.226562 -8.179688 4.21875 -8.234375 C 4.195312 -8.179688 4.164062 -8.09375 4.125 -7.96875 C 4.09375 -7.84375 4.050781 -7.703125 4 -7.546875 C 3.945312 -7.390625 3.890625 -7.222656 3.828125 -7.046875 C 3.773438 -6.867188 3.71875 -6.691406 3.65625 -6.515625 L 2.625 -3.625 L 5.796875 -3.625 Z M 4.796875 -6.515625 \"/>\n</symbol>\n<symbol overflow=\"visible\" id=\"glyph0-13\">\n<path style=\"stroke:none;\" d=\"M 5.03125 -0.96875 L 7.625 -0.96875 L 7.625 0 L 0.921875 0 L 0.921875 -0.96875 L 3.796875 -0.96875 L 3.796875 -9.171875 L 1.828125 -9.171875 L 1.828125 -10.140625 L 5.03125 -10.140625 Z M 5.03125 -0.96875 \"/>\n</symbol>\n<symbol overflow=\"visible\" id=\"glyph0-14\">\n<path style=\"stroke:none;\" d=\"M 2.203125 -3.4375 C 2.203125 -3.050781 2.242188 -2.691406 2.328125 -2.359375 C 2.421875 -2.035156 2.550781 -1.753906 2.71875 -1.515625 C 2.894531 -1.285156 3.109375 -1.101562 3.359375 -0.96875 C 3.617188 -0.84375 3.921875 -0.78125 4.265625 -0.78125 C 4.515625 -0.78125 4.742188 -0.804688 4.953125 -0.859375 C 5.160156 -0.921875 5.347656 -1.003906 5.515625 -1.109375 C 5.691406 -1.210938 5.835938 -1.332031 5.953125 -1.46875 C 6.066406 -1.601562 6.148438 -1.753906 6.203125 -1.921875 L 7.28125 -1.609375 C 7.207031 -1.410156 7.097656 -1.207031 6.953125 -1 C 6.804688 -0.789062 6.613281 -0.601562 6.375 -0.4375 C 6.132812 -0.269531 5.835938 -0.128906 5.484375 -0.015625 C 5.140625 0.0859375 4.734375 0.140625 4.265625 0.140625 C 3.734375 0.140625 3.257812 0.0546875 2.84375 -0.109375 C 2.4375 -0.273438 2.085938 -0.519531 1.796875 -0.84375 C 1.515625 -1.164062 1.296875 -1.566406 1.140625 -2.046875 C 0.984375 -2.535156 0.90625 -3.101562 0.90625 -3.75 C 0.90625 -4.457031 0.992188 -5.050781 1.171875 -5.53125 C 1.359375 -6.019531 1.601562 -6.410156 1.90625 -6.703125 C 2.207031 -7.003906 2.554688 -7.21875 2.953125 -7.34375 C 3.359375 -7.46875 3.78125 -7.53125 4.21875 -7.53125 C 4.8125 -7.53125 5.3125 -7.429688 5.71875 -7.234375 C 6.132812 -7.046875 6.472656 -6.78125 6.734375 -6.4375 C 6.992188 -6.09375 7.179688 -5.679688 7.296875 -5.203125 C 7.421875 -4.722656 7.484375 -4.191406 7.484375 -3.609375 L 7.484375 -3.4375 Z M 4.234375 -6.625 C 4.023438 -6.625 3.804688 -6.585938 3.578125 -6.515625 C 3.347656 -6.453125 3.132812 -6.335938 2.9375 -6.171875 C 2.738281 -6.003906 2.570312 -5.773438 2.4375 -5.484375 C 2.300781 -5.191406 2.226562 -4.820312 2.21875 -4.375 L 6.203125 -4.375 C 6.171875 -4.8125 6.09375 -5.171875 5.96875 -5.453125 C 5.851562 -5.742188 5.707031 -5.972656 5.53125 -6.140625 C 5.351562 -6.316406 5.148438 -6.441406 4.921875 -6.515625 C 4.703125 -6.585938 4.472656 -6.625 4.234375 -6.625 Z M 4.234375 -6.625 \"/>\n</symbol>\n</g>\n</defs>\n<g id=\"surface14\">\n<rect x=\"0\" y=\"0\" width=\"300\" height=\"300\" style=\"fill:rgb(100%,100%,100%);fill-opacity:1;stroke:none;\"/>\n<path style=\"fill:none;stroke-width:1;stroke-linecap:butt;stroke-linejoin:miter;stroke:rgb(26.666667%,26.666667%,26.666667%);stroke-opacity:1;stroke-miterlimit:10;\" d=\"M 138.78125 163.914062 L 255.902344 177.804688 \"/>\n<path style=\" stroke:none;fill-rule:nonzero;fill:rgb(26.666667%,26.666667%,26.666667%);fill-opacity:1;\" d=\"M 270.070312 179.484375 L 255.355469 182.40625 L 256.449219 173.199219 L 270.070312 179.484375 \"/>\n<path style=\"fill:none;stroke-width:1;stroke-linecap:butt;stroke-linejoin:miter;stroke:rgb(26.666667%,26.666667%,26.666667%);stroke-opacity:1;stroke-miterlimit:10;\" d=\"M 20 280 L 24.824219 44.261719 \"/>\n<path style=\" stroke:none;fill-rule:nonzero;fill:rgb(26.666667%,26.666667%,26.666667%);fill-opacity:1;\" d=\"M 25.117188 29.996094 L 29.460938 44.355469 L 20.191406 44.164062 L 25.117188 29.996094 \"/>\n<path style=\"fill:none;stroke-width:1;stroke-linecap:butt;stroke-linejoin:miter;stroke:rgb(26.666667%,26.666667%,26.666667%);stroke-opacity:1;stroke-miterlimit:10;\" d=\"M 138.78125 163.914062 L 37.355469 263.039062 \"/>\n<path style=\" stroke:none;fill-rule:nonzero;fill:rgb(26.666667%,26.666667%,26.666667%);fill-opacity:1;\" d=\"M 27.152344 273.011719 L 34.113281 259.722656 L 40.59375 266.355469 L 27.152344 273.011719 \"/>\n<path style=\"fill:none;stroke-width:1;stroke-linecap:butt;stroke-linejoin:miter;stroke:rgb(26.666667%,26.666667%,26.666667%);stroke-opacity:1;stroke-miterlimit:10;\" d=\"M 138.78125 163.914062 L 40.347656 39.054688 \"/>\n<path style=\" stroke:none;fill-rule:nonzero;fill:rgb(26.666667%,26.666667%,26.666667%);fill-opacity:1;\" d=\"M 31.511719 27.851562 L 43.984375 36.1875 L 36.707031 41.925781 L 31.511719 27.851562 \"/>\n<path style=\"fill-rule:nonzero;fill:rgb(100%,0%,0%);fill-opacity:1;stroke-width:1;stroke-linecap:butt;stroke-linejoin:miter;stroke:rgb(0%,0%,0%);stroke-opacity:1;stroke-miterlimit:10;\" d=\"M 148.78125 163.914062 C 148.78125 169.433594 144.304688 173.914062 138.78125 173.914062 C 133.261719 173.914062 128.78125 169.433594 128.78125 163.914062 C 128.78125 158.390625 133.261719 153.914062 138.78125 153.914062 C 144.304688 153.914062 148.78125 158.390625 148.78125 163.914062 \"/>\n<path style=\"fill-rule:nonzero;fill:rgb(100%,0%,0%);fill-opacity:1;stroke-width:1;stroke-linecap:butt;stroke-linejoin:miter;stroke:rgb(0%,0%,0%);stroke-opacity:1;stroke-miterlimit:10;\" d=\"M 290 180.660156 C 290 186.183594 285.523438 190.660156 280 190.660156 C 274.476562 190.660156 270 186.183594 270 180.660156 C 270 175.140625 274.476562 170.660156 280 170.660156 C 285.523438 170.660156 290 175.140625 290 180.660156 \"/>\n<path style=\"fill-rule:nonzero;fill:rgb(100%,0%,0%);fill-opacity:1;stroke-width:1;stroke-linecap:butt;stroke-linejoin:miter;stroke:rgb(0%,0%,0%);stroke-opacity:1;stroke-miterlimit:10;\" d=\"M 30 280 C 30 285.523438 25.523438 290 20 290 C 14.476562 290 10 285.523438 10 280 C 10 274.476562 14.476562 270 20 270 C 25.523438 270 30 274.476562 30 280 \"/>\n<path style=\"fill-rule:nonzero;fill:rgb(100%,0%,0%);fill-opacity:1;stroke-width:1;stroke-linecap:butt;stroke-linejoin:miter;stroke:rgb(0%,0%,0%);stroke-opacity:1;stroke-miterlimit:10;\" d=\"M 35.324219 20 C 35.324219 25.523438 30.84375 30 25.324219 30 C 19.800781 30 15.324219 25.523438 15.324219 20 C 15.324219 14.476562 19.800781 10 25.324219 10 C 30.84375 10 35.324219 14.476562 35.324219 20 \"/>\n<g style=\"fill:rgb(0%,0%,0%);fill-opacity:1;\">\n  <use xlink:href=\"#glyph0-1\" x=\"121.992188\" y=\"171.085938\"/>\n  <use xlink:href=\"#glyph0-2\" x=\"130.393555\" y=\"171.085938\"/>\n  <use xlink:href=\"#glyph0-3\" x=\"138.794922\" y=\"171.085938\"/>\n  <use xlink:href=\"#glyph0-4\" x=\"147.196289\" y=\"171.085938\"/>\n</g>\n<g style=\"fill:rgb(0%,0%,0%);fill-opacity:1;\">\n  <use xlink:href=\"#glyph0-5\" x=\"258.421875\" y=\"187.835938\"/>\n  <use xlink:href=\"#glyph0-6\" x=\"266.823242\" y=\"187.835938\"/>\n  <use xlink:href=\"#glyph0-7\" x=\"275.224609\" y=\"187.835938\"/>\n  <use xlink:href=\"#glyph0-8\" x=\"283.625977\" y=\"187.835938\"/>\n  <use xlink:href=\"#glyph0-9\" x=\"292.027344\" y=\"187.835938\"/>\n</g>\n<g style=\"fill:rgb(0%,0%,0%);fill-opacity:1;\">\n  <use xlink:href=\"#glyph0-10\" x=\"-9.203125\" y=\"287.175781\"/>\n  <use xlink:href=\"#glyph0-7\" x=\"-0.801758\" y=\"287.175781\"/>\n  <use xlink:href=\"#glyph0-11\" x=\"7.599609\" y=\"287.175781\"/>\n  <use xlink:href=\"#glyph0-2\" x=\"16.000977\" y=\"287.175781\"/>\n  <use xlink:href=\"#glyph0-11\" x=\"24.402344\" y=\"287.175781\"/>\n  <use xlink:href=\"#glyph0-7\" x=\"32.803711\" y=\"287.175781\"/>\n  <use xlink:href=\"#glyph0-9\" x=\"41.205078\" y=\"287.175781\"/>\n</g>\n<g style=\"fill:rgb(0%,0%,0%);fill-opacity:1;\">\n  <use xlink:href=\"#glyph0-12\" x=\"4.78125\" y=\"27.175781\"/>\n  <use xlink:href=\"#glyph0-13\" x=\"13.182617\" y=\"27.175781\"/>\n  <use xlink:href=\"#glyph0-7\" x=\"21.583984\" y=\"27.175781\"/>\n  <use xlink:href=\"#glyph0-4\" x=\"29.985352\" y=\"27.175781\"/>\n  <use xlink:href=\"#glyph0-14\" x=\"38.386719\" y=\"27.175781\"/>\n</g>\n</g>\n</svg>\n"
          },
          "metadata": {
            "tags": [],
            "image/svg+xml": {
              "isolated": true
            }
          },
          "execution_count": 22
        }
      ]
    },
    {
      "cell_type": "code",
      "metadata": {
        "id": "4ObtsEieVCJA"
      },
      "source": [
        ""
      ],
      "execution_count": null,
      "outputs": []
    }
  ]
}